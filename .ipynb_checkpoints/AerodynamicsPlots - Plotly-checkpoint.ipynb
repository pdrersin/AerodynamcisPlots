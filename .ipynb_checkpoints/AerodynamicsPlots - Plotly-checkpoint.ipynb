{
 "cells": [
  {
   "cell_type": "markdown",
   "metadata": {},
   "source": [
    "# Aerodynamics: Stream Functions & Potential Functions"
   ]
  },
  {
   "cell_type": "markdown",
   "metadata": {},
   "source": [
    "$$\\text{This is a tutorial to help with some visualizations in Aerodynamics (especially with stream functions & potential functions).}$$\n",
    "\n",
    "$$Author:~ Prakash~Vedula$$\n",
    "$$Date:~ 10/19/2018$$"
   ]
  },
  {
   "cell_type": "code",
   "execution_count": null,
   "metadata": {
    "collapsed": true
   },
   "outputs": [],
   "source": [
    "%matplotlib inline"
   ]
  },
  {
   "cell_type": "code",
   "execution_count": null,
   "metadata": {
    "collapsed": true
   },
   "outputs": [],
   "source": [
    "import pandas as pd\n",
    "import numpy as np\n",
    "\n",
    "import matplotlib\n",
    "import matplotlib.cm as cm\n",
    "import matplotlib.mlab as mlab\n",
    "import matplotlib.pyplot as plt\n",
    "import matplotlib.ticker as ticker\n",
    "from mpl_toolkits.mplot3d import Axes3D\n",
    "from matplotlib.ticker import LinearLocator, FormatStrFormatter\n",
    "\n",
    "from scipy.interpolate import griddata\n",
    "\n",
    "import ipywidgets as widgets\n",
    "from ipywidgets import interact, interactive, fixed, interact_manual\n",
    "\n",
    "from __future__ import print_function"
   ]
  },
  {
   "cell_type": "code",
   "execution_count": null,
   "metadata": {},
   "outputs": [],
   "source": [
    "import plotly.plotly as py\n",
    "import plotly.figure_factory as ff\n",
    "import pandas as pd\n",
    "import plotly.graph_objs as go\n",
    "from plotly.offline import download_plotlyjs, init_notebook_mode, plot,iplot\n",
    "init_notebook_mode(connected=True)"
   ]
  },
  {
   "cell_type": "code",
   "execution_count": null,
   "metadata": {
    "collapsed": true
   },
   "outputs": [],
   "source": [
    "matplotlib.rcParams['xtick.direction'] = 'out'\n",
    "matplotlib.rcParams['ytick.direction'] = 'out'\n",
    "\n",
    "# Set range\n",
    "xr = 10\n",
    "xl = -xr\n",
    "\n",
    "yu = 10\n",
    "yl = -yu\n",
    "\n",
    "# Set x, y  points\n",
    "npoints = 100\n",
    "x = np.linspace(xl, xr, npoints)\n",
    "y = np.linspace(yl, yu, npoints)\n",
    "X, Y = np.meshgrid(x, y)"
   ]
  },
  {
   "cell_type": "markdown",
   "metadata": {},
   "source": [
    "$$\\text{Some useful conversions:}\\\\$$\n",
    "$$r = x / cos\\theta$$  \n",
    "$$r = y / sin\\theta$$  \n",
    "$$r = \\sqrt{x^2+y^2}$$  \n",
    "$$\\theta = tan^{-1}(y/x)$$\n",
    "$$\\theta = sin^{-1}(y/r)$$\n",
    "$$\\theta = cos^{-1}(x/r)$$"
   ]
  },
  {
   "cell_type": "markdown",
   "metadata": {},
   "source": [
    "$$\\text{Uniform Flow}$$\n",
    "$$\\Psi = V_\\infty x$$\n",
    "$$\\Phi = V_\\infty y$$"
   ]
  },
  {
   "cell_type": "code",
   "execution_count": null,
   "metadata": {
    "scrolled": false
   },
   "outputs": [],
   "source": [
    "# Uniform Flow\n",
    "\n",
    "# Set freestream velocity\n",
    "Vinf = 1 # (units: m/s)\n",
    "plt.rcParams[\"figure.figsize\"] = (18,9)\n",
    "\n",
    "plt.subplot(1,2,1)\n",
    "Z = Vinf * Y\n",
    "CS = plt.contour(X, Y, Z)\n",
    "ZZ = Z\n",
    "plt.clabel(CS, inline=1, fontsize=11)\n",
    "plt.title('$\\Psi=C$')\n",
    "plt.xlabel('x')\n",
    "plt.ylabel('y')\n",
    "\n",
    "XX = X\n",
    "YY = Y\n",
    "\n",
    "plt.subplot(1,2,2)\n",
    "Z = Vinf * X\n",
    "\n",
    "CS = plt.contour(X, Y, Z,linestyles='dashed',cmap='jet')\n",
    "plt.clabel(CS, inline=1, fontsize=11)\n",
    "\n",
    "plt.title('$\\Phi=C*$')\n",
    "plt.xlabel('x')\n",
    "plt.ylabel('y')\n",
    "\n",
    "\n",
    "\n",
    "\n",
    "plt.savefig('uniformPsiPhi.png')\n",
    "plt.tight_layout()\n",
    "plt.show()"
   ]
  },
  {
   "cell_type": "code",
   "execution_count": null,
   "metadata": {},
   "outputs": [],
   "source": [
    "# Make data.\n",
    " # Set range\n",
    "plt.rcParams[\"figure.figsize\"] = (20,8)\n",
    "xr = 10\n",
    "xl = -xr\n",
    "yu = 10\n",
    "yl = -yu\n",
    "\n",
    "# Set x, y  points\n",
    "npoints = 100\n",
    "x = np.linspace(xl, xr, npoints)\n",
    "y = np.linspace(yl, yu, npoints)\n",
    "X, Y = np.meshgrid(x, y) \n",
    "\n",
    "Vinf = 1\n",
    "Z = Vinf * Y\n",
    "Z2 = Vinf * X\n",
    "\n",
    "fig = plt.figure()\n",
    "ax = fig.add_subplot(121, projection='3d')\n",
    "surf = ax.plot_surface(X, Y, Z, cmap=cm.jet)\n",
    "plt.title(r'$\\Psi=C$')\n",
    "plt.xlabel('x')\n",
    "plt.ylabel('y')\n",
    "\n",
    "ax = fig.add_subplot(122, projection='3d')\n",
    "surf = ax.plot_surface(X, Y, Z2, rstride=1, cstride=1, cmap=cm.jet)\n",
    "plt.title(r'$\\Phi = C^*$')\n",
    "plt.xlabel('x')\n",
    "plt.ylabel('y')\n",
    "ax.view_init(30, 140)\n",
    "plt.show()\n"
   ]
  },
  {
   "cell_type": "code",
   "execution_count": null,
   "metadata": {
    "scrolled": false
   },
   "outputs": [],
   "source": [
    "# Uniform Flow interactive chart\n",
    "\n",
    "\n",
    "def uniformPlot(C, C_star):\n",
    "    # Set freestream velocity\n",
    "    Vinf = 1 # (units: m/s)\n",
    "    plt.rcParams[\"figure.figsize\"] = (10,8)\n",
    "    # Set range\n",
    "    xr = 10\n",
    "    xl = -xr\n",
    "    yu = 10\n",
    "    yl = -yu\n",
    "    \n",
    "    # Set x, y  points\n",
    "    npoints = 100\n",
    "    x = np.linspace(xl, xr, npoints)\n",
    "    y = np.linspace(yl, yu, npoints)\n",
    "    X, Y = np.meshgrid(x, y)    \n",
    "    \n",
    "    Z = Vinf * Y\n",
    "    CS = plt.contour(X, Y, Z,levels=[C])\n",
    "    Z = Vinf * X\n",
    "    CS2 = plt.contour(X, Y, Z,levels=[C_star], colors='k',linestyles='dashed')\n",
    "    plt.clabel(CS2, inline=1, fontsize=11)\n",
    "    linestyles = ['-', '--']\n",
    "    plt.clabel(CS, inline=1, fontsize=11)\n",
    "    plt.title(r'$\\Psi=C$  and  $\\Phi = C^*$')\n",
    "    plt.xlabel('x')\n",
    "    plt.ylabel('y')\n",
    "    plt.tight_layout()\n",
    "    plt.show()\n",
    "    \n",
    "interactive_plot = interactive(uniformPlot, C=widgets.FloatSlider(value=2,min=-9,max=9,step=1,description='$C$'), C_star=widgets.FloatSlider(value=2,min=-9,max=9,step=1,description='$C^*$'));\n",
    "interactive_plot.children[0].layout.height = '30px'\n",
    "interactive_plot.children[0].layout.width = '500px'\n",
    "interactive_plot.children[1].layout.height = '30px'\n",
    "interactive_plot.children[1].layout.width = '500px'\n",
    "interactive_plot\n",
    "\n",
    "\n"
   ]
  },
  {
   "cell_type": "code",
   "execution_count": null,
   "metadata": {},
   "outputs": [],
   "source": [
    "data = [\n",
    "    go.Contour(\n",
    "        z=ZZ,\n",
    "        x=x,\n",
    "        y=y,\n",
    "        colorscale='Jet',\n",
    "        showscale = False,\n",
    "        name = \"sdfsd\",\n",
    "        line=dict(\n",
    "            width = 2.0,\n",
    "        ),\n",
    "        contours=dict(\n",
    "            coloring='lines',\n",
    "            showlabels = True,\n",
    "        ),    \n",
    "    )]\n",
    "iplot(data)"
   ]
  },
  {
   "cell_type": "code",
   "execution_count": null,
   "metadata": {},
   "outputs": [],
   "source": [
    "# Uniform Flow interactive chart\n",
    "\n",
    "\n",
    "# Set freestream velocity\n",
    "Vinf = 1 # (units: m/s)\n",
    "plt.rcParams[\"figure.figsize\"] = (10,8)\n",
    "# Set range\n",
    "xr = 10\n",
    "xl = -xr\n",
    "yu = 10\n",
    "yl = -yu\n",
    "\n",
    "# Set x, y  points\n",
    "npoints = 100\n",
    "ncpoints = 21\n",
    "dx = 0.01\n",
    "x = np.linspace(xl, xr, npoints)\n",
    "y = np.linspace(yl, yu, npoints)\n",
    "X, Y = np.meshgrid(x, y)    \n",
    "\n",
    "Z1 = Vinf * Y\n",
    "Z2 = Vinf * X\n",
    "\n",
    "\n",
    "\n",
    "data1 = [dict(\n",
    "    visible = False,\n",
    "    #name = '𝜈 = '+str(step),\n",
    "    x = np.linspace(xl, xr, npoints),\n",
    "    y = (np.divide(step,Vinf))*np.power(x,0)) for step in np.linspace(xl, xr, ncpoints)]\n",
    "data1[10]['visible'] = True\n",
    "\n",
    "\n",
    "steps = []\n",
    "for i in range(len(data1)):\n",
    "    step = dict(\n",
    "        method = 'restyle',\n",
    "        label = xl+i*(xr-xl)/(ncpoints-1),\n",
    "        args = ['visible', [False] * len(data1)],\n",
    "    )\n",
    "    step['args'][1][i] = True # Toggle i'th trace to \"visible\"\n",
    "    steps.append(step)    \n",
    "\n",
    "sliders = [dict(\n",
    "    active = 10,\n",
    "    currentvalue = {\"prefix\": \"Frequency: \"},\n",
    "    pad = {\"t\": 50},\n",
    "    steps = steps\n",
    ")]\n",
    "    \n",
    "layout = dict(sliders=sliders,\n",
    "             autosize=False,\n",
    "             width=500,\n",
    "             height=500,\n",
    "             margin=go.layout.Margin(\n",
    "             l=50,\n",
    "             r=50,\n",
    "             b=100,\n",
    "             t=100,\n",
    "             pad=4\n",
    "            ),\n",
    "             xaxis=dict(\n",
    "                range=[xl, xr],\n",
    "                dtick = 2,\n",
    "                ticks = 'inside',\n",
    "                showgrid=False,\n",
    "                zeroline=False,\n",
    "                showline=True,\n",
    "                mirror='ticks',\n",
    "                gridcolor='#bdbdbd',\n",
    "                gridwidth=2,\n",
    "                #zerolinecolor='#969696',\n",
    "                zerolinewidth=4,\n",
    "                #linecolor='#636363',\n",
    "                linewidth=2\n",
    "            ),\n",
    "            yaxis=dict(\n",
    "                range=[yl, yu],\n",
    "                dtick = 2,\n",
    "                ticks = 'inside',\n",
    "                showgrid=False,\n",
    "                zeroline=False,\n",
    "                showline=True,\n",
    "                mirror='ticks',\n",
    "                gridcolor='#bdbdbd',\n",
    "                gridwidth=2,\n",
    "                #zerolinecolor='#969696',\n",
    "                zerolinewidth=4,\n",
    "                #linecolor='#636363',\n",
    "                linewidth=2\n",
    "            )\n",
    ")\n",
    "fig = dict(data=data1, layout=layout)\n",
    "\n",
    "iplot(fig, filename='Sine Wave Slider')\n",
    "    \n",
    "  \n",
    "\n"
   ]
  },
  {
   "cell_type": "code",
   "execution_count": null,
   "metadata": {},
   "outputs": [],
   "source": [
    "# Set freestream velocity\n",
    "Vinf = 1 # (units: m/s)\n",
    "plt.rcParams[\"figure.figsize\"] = (10,8)\n",
    "# Set range\n",
    "xr = 10\n",
    "xl = -xr\n",
    "yu = 10\n",
    "yl = -yu\n",
    "\n",
    "# Set x, y  points\n",
    "npoints = 100\n",
    "ncpoints = 21\n",
    "dx = 0.01\n",
    "x = np.linspace(xl, xr, npoints)\n",
    "y = np.linspace(yl, yu, npoints)\n",
    "X, Y = np.meshgrid(x, y)    \n",
    "\n",
    "Z1 = Vinf * Y\n",
    "Z2 = Vinf * X\n",
    "\n",
    "\n",
    "x = np.linspace(xl, xr, npoints)\n",
    "\n",
    "def uniformFlow(C):\n",
    "    trace1 = go.Scatter(\n",
    "        x = np.linspace(xl, xr, npoints),\n",
    "        y = C*np.power(x,0),\n",
    "    )\n",
    "    fig = go.Figure(data=[trace1], layout=layout)\n",
    "    iplot(fig)\n",
    "\n",
    "\n",
    "steps = []\n",
    "for i in range(len(data1)):\n",
    "    step = dict(\n",
    "        method = 'restyle',\n",
    "        label = xl+i*(xr-xl)/(ncpoints-1),\n",
    "        args = ['visible', [False] * len(data1)],\n",
    "    )\n",
    "    step['args'][1][i] = True # Toggle i'th trace to \"visible\"\n",
    "    steps.append(step)    \n",
    "\n",
    "sliders = [dict(\n",
    "    active = 10,\n",
    "    currentvalue = {\"prefix\": \"Frequency: \"},\n",
    "    pad = {\"t\": 50},\n",
    "    steps = steps\n",
    ")]\n",
    "    \n",
    "layout = dict(sliders=sliders,\n",
    "             autosize=False,\n",
    "             width=500,\n",
    "             height=500,\n",
    "             margin=go.layout.Margin(\n",
    "             l=50,\n",
    "             r=50,\n",
    "             b=100,\n",
    "             t=100,\n",
    "             pad=4\n",
    "            ),\n",
    "             xaxis=dict(\n",
    "                range=[xl, xr],\n",
    "                dtick = 2,\n",
    "                ticks = 'inside',\n",
    "                showgrid=False,\n",
    "                zeroline=False,\n",
    "                showline=True,\n",
    "                mirror='ticks',\n",
    "                gridcolor='#bdbdbd',\n",
    "                gridwidth=2,\n",
    "                #zerolinecolor='#969696',\n",
    "                zerolinewidth=4,\n",
    "                #linecolor='#636363',\n",
    "                linewidth=2\n",
    "            ),\n",
    "            yaxis=dict(\n",
    "                range=[yl, yu],\n",
    "                dtick = 2,\n",
    "                ticks = 'inside',\n",
    "                showgrid=False,\n",
    "                zeroline=False,\n",
    "                showline=True,\n",
    "                mirror='ticks',\n",
    "                gridcolor='#bdbdbd',\n",
    "                gridwidth=2,\n",
    "                #zerolinecolor='#969696',\n",
    "                zerolinewidth=4,\n",
    "                #linecolor='#636363',\n",
    "                linewidth=2\n",
    "            )\n",
    ")\n",
    "\n",
    "\n",
    "\n",
    "\n",
    "interactive_plot = interactive(uniformFlow, C=widgets.FloatSlider(value=2,min=-9,max=9,step=1,description='$C$'));\n",
    "\n",
    "interactive_plot\n",
    "    "
   ]
  },
  {
   "cell_type": "markdown",
   "metadata": {},
   "source": [
    "$$\\text{Source Flow}$$\n",
    "$$\\Psi = \\frac{\\Lambda}{2 \\pi} \\theta\\\\$$\n",
    "$$\\Phi = \\frac{\\Lambda}{2 \\pi} \\ln r $$"
   ]
  },
  {
   "cell_type": "code",
   "execution_count": null,
   "metadata": {
    "collapsed": true
   },
   "outputs": [],
   "source": []
  },
  {
   "cell_type": "code",
   "execution_count": null,
   "metadata": {
    "scrolled": false
   },
   "outputs": [],
   "source": [
    "# Source Flow\n",
    "\n",
    "# Set freestream velocity\n",
    "#Lambda = 2 * np.pi #  Set for convenience\n",
    "\n",
    "Lambda = 0.01\n",
    "\n",
    "plt.rcParams[\"figure.figsize\"] = (18,9)\n",
    "\n",
    "plt.subplot(1,2,1)\n",
    "Z = (Lambda)/(2 * np.pi) * np.arctan(Y/X)\n",
    "#Z=(Lambda)/(2 * np.pi) * np.arctan2(Y,X)\n",
    "levels = np.linspace(np.min(Z),0.0035,11)\n",
    "CS = plt.contour(X, Y, Z)\n",
    "plt.clabel(CS, inline=1, fontsize=11)\n",
    "#plt.axis('equal','box')\n",
    "#plt.title('Simplest default with labels')\n",
    "plt.title(r'$\\Psi =\\frac{\\Lambda}{2 \\pi}\\theta$')\n",
    "plt.xlabel('$x$')\n",
    "plt.ylabel('$y$')\n",
    "\n",
    "plt.subplot(1,2,2)\n",
    "Z = (Lambda)/(2 * np.pi) * np.log( np.sqrt(np.power(X,2) + np.power(Y,2)) )\n",
    "\n",
    "#plt.contour(Z,np.linspace(Z.min(),Z.max(),15))\n",
    "levels = np.linspace(np.min(Z),0.0035,11)\n",
    "\n",
    "\n",
    "CS = plt.contour(X, Y, Z, levels=levels)\n",
    "#CS = plt.contour(X, Y, Z)\n",
    "plt.clabel(CS, inline=1, fontsize=11)\n",
    "\n",
    "\n",
    "plt.title(r'$\\Phi = \\frac{\\Lambda}{2 \\pi} \\ln r $')\n",
    "plt.xlabel('$x$')\n",
    "plt.ylabel('$y$')\n",
    "\n",
    "plt.tight_layout()\n",
    "plt.show"
   ]
  },
  {
   "cell_type": "code",
   "execution_count": null,
   "metadata": {},
   "outputs": [],
   "source": [
    "# Make data.\n",
    " # Set range\n",
    "plt.rcParams[\"figure.figsize\"] = (20,8)\n",
    "xr = 10\n",
    "xl = -xr\n",
    "yu = 10\n",
    "yl = -yu\n",
    "\n",
    "# Set x, y  points\n",
    "npoints = 100\n",
    "x = np.linspace(xl, xr, npoints)\n",
    "y = np.linspace(yl, yu, npoints)\n",
    "X, Y = np.meshgrid(x, y) \n",
    "\n",
    "Vinf = 1\n",
    "Lambda = 0.01\n",
    "Z = (Lambda)/(2 * np.pi) * np.arctan(Y/X)\n",
    "Z2 = (Lambda)/(2 * np.pi) * np.log( np.sqrt(np.power(X,2) + np.power(Y,2)) )\n",
    "\n",
    "fig = plt.figure()\n",
    "ax = fig.add_subplot(121, projection='3d')\n",
    "surf = ax.plot_surface(X, Y, Z, cmap=cm.jet)\n",
    "plt.title(r'$\\Psi =\\frac{\\Lambda}{2 \\pi}\\theta$')\n",
    "plt.xlabel('x')\n",
    "plt.ylabel('y')\n",
    "ax.view_init(90, 0)\n",
    "\n",
    "ax = fig.add_subplot(122, projection='3d')\n",
    "surf = ax.plot_surface(X, Y, Z2, rstride=1, cstride=1, cmap=cm.jet)\n",
    "plt.title(r'$\\Phi = \\frac{\\Lambda}{2 \\pi} \\ln r $')\n",
    "plt.xlabel('x')\n",
    "plt.ylabel('y')\n",
    "ax.view_init(35, 140)\n",
    "plt.show()\n"
   ]
  },
  {
   "cell_type": "code",
   "execution_count": null,
   "metadata": {},
   "outputs": [],
   "source": [
    "# Source Flow interactive chart\n",
    "\n",
    "def sourcePlot(C, C2, Lambda):\n",
    "    # Set freestream velocity\n",
    "    Vinf = 1 # (units: m/s)\n",
    "    plt.rcParams[\"figure.figsize\"] = (10,8)\n",
    "    # Set range\n",
    "    xr = 10\n",
    "    xl = -xr\n",
    "    yu = 10\n",
    "    yl = -yu\n",
    "    \n",
    "    #Lambda = 0.05\n",
    "    \n",
    "    # Set x, y  points\n",
    "    npoints = 100\n",
    "    x = np.linspace(xl, xr, npoints)\n",
    "    y = np.linspace(yl, yu, npoints)\n",
    "    X, Y = np.meshgrid(x, y)\n",
    "    \n",
    "    \n",
    "    Z = (Lambda)/(2 * np.pi) * np.arctan(Y/X)\n",
    "    #Z=(Lambda)/(2 * np.pi) * np.arctan2(Y,X)\n",
    "    CS = plt.contour(X, Y, Z, levels=[C])\n",
    "    plt.clabel(CS, inline=1, fontsize=11)\n",
    "\n",
    "    Z = (Lambda)/(2 * np.pi) * np.log( np.sqrt(np.power(X,2) + np.power(Y,2)) )\n",
    "    CS2 = plt.contour(X, Y, Z, levels=[C2], colors='k',linestyles='dashed')\n",
    "    plt.clabel(CS2, inline=1, fontsize=11)\n",
    "    \n",
    "    plt.title(r'$\\Psi =\\frac{\\Lambda}{2 \\pi}\\theta$ and $\\Phi = \\frac{\\Lambda}{2 \\pi} \\ln r $')\n",
    "    plt.xlabel('x')\n",
    "    plt.ylabel('y')\n",
    "    plt.tight_layout()\n",
    "    plt.show()\n",
    "    \n",
    "interactive_plot = interactive(sourcePlot, C=widgets.FloatSlider(value=0.001,min=-0.01,max=0.01,step=0.00025,description='$\\Psi$'), C2=widgets.FloatSlider(value=0.005,min=-0.01,max=0.01,step=0.00025,description='$\\Phi$'), Lambda=widgets.FloatSlider(value=0.03,min=0.01,max=0.1,step=0.01,description='$\\Lambda$'));\n",
    "interactive_plot.children[0].layout.height = '30px'\n",
    "interactive_plot.children[0].layout.width = '500px'\n",
    "interactive_plot.children[0].readout_format = '.4f'\n",
    "interactive_plot.children[1].layout.height = '30px'\n",
    "interactive_plot.children[1].layout.width = '500px'\n",
    "interactive_plot.children[1].readout_format = '.4f'\n",
    "interactive_plot.children[2].layout.height = '30px'\n",
    "interactive_plot.children[2].layout.width = '500px'\n",
    "interactive_plot.children[2].readout_format = '.4f'\n",
    "interactive_plot\n",
    "#print(interactive_plot.children[1].keys)"
   ]
  },
  {
   "cell_type": "code",
   "execution_count": null,
   "metadata": {
    "collapsed": true
   },
   "outputs": [],
   "source": []
  },
  {
   "cell_type": "markdown",
   "metadata": {},
   "source": [
    "$$\\text{Vortex Flow}$$\n",
    "$$\\Psi = \\frac{\\Gamma}{2 \\pi} \\ln r \\\\$$\n",
    "$$\\Phi = -\\frac{\\Gamma}{2 \\pi} \\theta$$"
   ]
  },
  {
   "cell_type": "code",
   "execution_count": null,
   "metadata": {},
   "outputs": [],
   "source": [
    "# Vortex Flow\n",
    "\n",
    "# Set freestream velocity\n",
    "#Gamma = 2 * np.pi #  Set for convenience\n",
    "\n",
    "Gamma = 0.01\n",
    "\n",
    "plt.rcParams[\"figure.figsize\"] = (18,9)\n",
    "\n",
    "\n",
    "plt.subplot(1,2,1)\n",
    "Z = (Gamma)/(2 * np.pi) * np.log( np.sqrt(np.power(X,2) + np.power(Y,2)) )\n",
    "\n",
    "\n",
    "#CS = plt.contour(X, Y, Z)\n",
    "levels = np.linspace(np.min(Z),np.max(Z)/1.125,11)\n",
    "levels = np.linspace(np.min(Z),0.0035,11)\n",
    "\n",
    "\n",
    "CS = plt.contour(X, Y, Z, levels=levels)\n",
    "fmt='%1.4f'\n",
    "plt.clabel(CS, inline=1, fontsize=11,fmt=fmt)\n",
    "plt.title(r'$\\Psi = \\frac{\\Gamma}{2 \\pi} \\ln r$')\n",
    "plt.xlabel('$x$')\n",
    "plt.ylabel('$y$')\n",
    "\n",
    "\n",
    "plt.subplot(1,2,2)\n",
    "#Z = (Lambda)/(2 * np.pi) * np.log( np.power(X,2) + np.power(Y,2) )\n",
    "Z = -(Gamma)/(2 * np.pi) * np.arctan(Y/X)\n",
    "\n",
    "#plt.contour(Z,np.linspace(Z.min(),Z.max(),15))\n",
    "levels = np.linspace(np.min(Z),np.max(Z),11)\n",
    "CS = plt.contour(X, Y, Z, levels=levels)\n",
    "#fmt = matplotlib.ticker.EngFormatter()\n",
    "plt.clabel(CS, inline=1, fontsize=11, fmt=fmt)\n",
    "#plt.clabel(CS, inline=1, fontsize=11)\n",
    "\n",
    "\n",
    "\n",
    "#plt.axis('equal','box')\n",
    "#plt.title('Simplest default with labels')\n",
    "plt.title(r'$\\Phi = -\\frac{\\Gamma}{2 \\pi} \\theta$')\n",
    "plt.xlabel('$x$')\n",
    "plt.ylabel('$y$')\n",
    "\n",
    "plt.tight_layout()\n",
    "plt.show"
   ]
  },
  {
   "cell_type": "code",
   "execution_count": null,
   "metadata": {},
   "outputs": [],
   "source": [
    "# Make data.\n",
    " # Set range\n",
    "plt.rcParams[\"figure.figsize\"] = (20,8)\n",
    "xr = 10\n",
    "xl = -xr\n",
    "yu = 10\n",
    "yl = -yu\n",
    "\n",
    "# Set x, y  points\n",
    "npoints = 100\n",
    "x = np.linspace(xl, xr, npoints)\n",
    "y = np.linspace(yl, yu, npoints)\n",
    "X, Y = np.meshgrid(x, y) \n",
    "\n",
    "Vinf = 1\n",
    "Gamma = 0.01\n",
    "Z = (Gamma)/(2 * np.pi) * np.log( np.sqrt(np.power(X,2) + np.power(Y,2)) )\n",
    "Z2 = -(Gamma)/(2 * np.pi) * np.arctan(Y/X)\n",
    "\n",
    "fig = plt.figure()\n",
    "ax = fig.add_subplot(121, projection='3d')\n",
    "surf = ax.plot_surface(X, Y, Z, cmap=cm.jet)\n",
    "plt.title(r'$\\Psi = \\frac{\\Gamma}{2 \\pi} \\ln r$')\n",
    "plt.xlabel('x')\n",
    "plt.ylabel('y')\n",
    "ax.view_init(35, 140)\n",
    "\n",
    "ax = fig.add_subplot(122, projection='3d')\n",
    "surf = ax.plot_surface(X, Y, Z2, rstride=1, cstride=1, cmap=cm.jet)\n",
    "plt.title(r'$\\Phi = -\\frac{\\Gamma}{2 \\pi} \\theta$')\n",
    "plt.xlabel('x')\n",
    "plt.ylabel('y')\n",
    "ax.view_init(90, 0)\n",
    "plt.show()\n"
   ]
  },
  {
   "cell_type": "code",
   "execution_count": null,
   "metadata": {},
   "outputs": [],
   "source": [
    "# Vortex Flow interactive chart\n",
    "\n",
    "def vortexPlot(C, C2, Gamma):\n",
    "    # Set freestream velocity\n",
    "    Vinf = 1 # (units: m/s)\n",
    "    plt.rcParams[\"figure.figsize\"] = (10,8)\n",
    "    # Set range\n",
    "    xr = 10\n",
    "    xl = -xr\n",
    "    yu = 10\n",
    "    yl = -yu\n",
    "       \n",
    "    # Set x, y  points\n",
    "    npoints = 100\n",
    "    x = np.linspace(xl, xr, npoints)\n",
    "    y = np.linspace(yl, yu, npoints)\n",
    "    X, Y = np.meshgrid(x, y)\n",
    "    \n",
    "    \n",
    "    Z = (Gamma)/(2 * np.pi) * np.log( np.sqrt(np.power(X,2) + np.power(Y,2)) )\n",
    "    CS = plt.contour(X, Y, Z, levels=[C])\n",
    "    fmt='%1.4f'\n",
    "    plt.clabel(CS, inline=1, fontsize=11, fmt=fmt)\n",
    "    \n",
    "\n",
    "    Z = -(Gamma)/(2 * np.pi) * np.arctan(Y/X)\n",
    "    CS2 = plt.contour(X, Y, Z, levels=[C2], colors='k',linestyles='dashed')\n",
    "    plt.clabel(CS2, inline=1, fontsize=11, fmt=fmt)\n",
    "    \n",
    "    plt.title(r'$\\Psi = \\frac{\\Gamma}{2 \\pi} \\ln r$   and   $\\Phi = -\\frac{\\Gamma}{2 \\pi} \\theta$')\n",
    "    plt.xlabel('x')\n",
    "    plt.ylabel('y')\n",
    "    plt.tight_layout()\n",
    "    plt.show()\n",
    "    \n",
    "interactive_plot = interactive(vortexPlot, C=widgets.FloatSlider(value=0.006,min=-0.01,max=0.01,step=0.00025,description='$\\Psi$'), C2=widgets.FloatSlider(value=0.001,min=-0.01,max=0.01,step=0.00025,description='$\\Phi$'), Gamma=widgets.FloatSlider(value=0.03,min=0.01,max=0.1,step=0.01,description='$\\Gamma$'));\n",
    "interactive_plot.children[0].layout.height = '30px'\n",
    "interactive_plot.children[0].layout.width = '500px'\n",
    "interactive_plot.children[0].readout_format = '.4f'\n",
    "interactive_plot.children[1].layout.height = '30px'\n",
    "interactive_plot.children[1].layout.width = '500px'\n",
    "interactive_plot.children[1].readout_format = '.4f'\n",
    "interactive_plot.children[2].layout.height = '30px'\n",
    "interactive_plot.children[2].layout.width = '500px'\n",
    "interactive_plot.children[2].readout_format = '.4f'\n",
    "interactive_plot\n",
    "#print(interactive_plot.children[1].keys)"
   ]
  },
  {
   "cell_type": "code",
   "execution_count": null,
   "metadata": {
    "collapsed": true
   },
   "outputs": [],
   "source": []
  },
  {
   "cell_type": "markdown",
   "metadata": {},
   "source": [
    "$$\\text{Doublet Flow}$$\n",
    "$$\\Psi = -\\frac{\\kappa}{2 \\pi} \\frac{sin\\theta}{r} \\\\$$\n",
    "$$\\Phi = \\frac{\\kappa}{2 \\pi} \\frac{cos\\theta}{r} $$"
   ]
  },
  {
   "cell_type": "code",
   "execution_count": null,
   "metadata": {},
   "outputs": [],
   "source": [
    "# Doublet Flow\n",
    "\n",
    "# Set range\n",
    "xr = 10\n",
    "xl = -xr\n",
    "\n",
    "yu = 10\n",
    "yl = -yu\n",
    "\n",
    "npoints = 100\n",
    "x = np.linspace(xl, xr, npoints)\n",
    "y = np.linspace(yl, yu, npoints)\n",
    "\n",
    "X, Y = np.meshgrid(x, y)\n",
    "\n",
    "Kappa = 0.02\n",
    "\n",
    "plt.rcParams[\"figure.figsize\"] = (18,9)\n",
    "\n",
    "\n",
    "plt.subplot(1,2,1)\n",
    "Z = -Y*((Kappa)/(2 * np.pi))/(np.power(X,2) + np.power(Y,2)) \n",
    "levels = np.linspace(np.min(Z),np.max(Z),101)\n",
    "CS = plt.contour(X, Y, Z, levels=levels)\n",
    "fmt='%1.6f'\n",
    "plt.clabel(CS, inline=1, fontsize=11,fmt=fmt)\n",
    "plt.title(r'$\\Psi = -\\frac{\\kappa}{2 \\pi} \\frac{sin\\theta}{r}$')\n",
    "plt.xlabel('$x$')\n",
    "plt.ylabel('$y$')\n",
    "\n",
    "\n",
    "plt.subplot(1,2,2)\n",
    "Z = X*((Kappa)/(2 * np.pi))/(np.power(X,2) + np.power(Y,2)) \n",
    "CS = plt.contour(X, Y, Z, levels=levels)\n",
    "plt.clabel(CS, inline=1, fontsize=11, fmt=fmt)\n",
    "\n",
    "\n",
    "\n",
    "\n",
    "#plt.axis('equal','box')\n",
    "#plt.title('Simplest default with labels')\n",
    "plt.title(r'$\\Phi = \\frac{\\kappa}{2 \\pi} \\frac{cos\\theta}{r}$')\n",
    "plt.xlabel('$x$')\n",
    "plt.ylabel('$y$')\n",
    "\n",
    "plt.tight_layout()\n",
    "plt.show"
   ]
  },
  {
   "cell_type": "code",
   "execution_count": null,
   "metadata": {},
   "outputs": [],
   "source": [
    "# Make data.\n",
    " # Set range\n",
    "plt.rcParams[\"figure.figsize\"] = (20,8)\n",
    "xr = 10\n",
    "xl = -xr\n",
    "yu = 10\n",
    "yl = -yu\n",
    "\n",
    "# Set x, y  points\n",
    "npoints = 100\n",
    "x = np.linspace(xl, xr, npoints)\n",
    "y = np.linspace(yl, yu, npoints)\n",
    "X, Y = np.meshgrid(x, y) \n",
    "\n",
    "Vinf = 1\n",
    "Kappa = 0.02\n",
    "Z = -Y*((Kappa)/(2 * np.pi))/(np.power(X,2) + np.power(Y,2)) \n",
    "Z2 = X*((Kappa)/(2 * np.pi))/(np.power(X,2) + np.power(Y,2))\n",
    "\n",
    "fig = plt.figure()\n",
    "ax = fig.add_subplot(121, projection='3d')\n",
    "surf = ax.plot_surface(X, Y, Z, cmap=cm.jet)\n",
    "plt.title(r'$\\Psi = -\\frac{\\kappa}{2 \\pi} \\frac{sin\\theta}{r}$')\n",
    "plt.xlabel('x')\n",
    "plt.ylabel('y')\n",
    "ax.view_init(20, 40)\n",
    "\n",
    "ax = fig.add_subplot(122, projection='3d')\n",
    "surf = ax.plot_surface(X, Y, Z2, rstride=1, cstride=1, cmap=cm.jet)\n",
    "plt.title(r'$\\Phi = \\frac{\\kappa}{2 \\pi} \\frac{cos\\theta}{r}$')\n",
    "plt.xlabel('x')\n",
    "plt.ylabel('y')\n",
    "ax.view_init(20, 45)\n",
    "plt.show()\n"
   ]
  },
  {
   "cell_type": "code",
   "execution_count": null,
   "metadata": {},
   "outputs": [],
   "source": [
    "# Doublet Flow interactive chart\n",
    "\n",
    "def doubletPlot(C, C2, Kappa):\n",
    "    # Set freestream velocity\n",
    "    Vinf = 1 # (units: m/s)\n",
    "    plt.rcParams[\"figure.figsize\"] = (10,8)\n",
    "    # Set range\n",
    "    xr = 10\n",
    "    xl = -xr\n",
    "    yu = 10\n",
    "    yl = -yu\n",
    "       \n",
    "    # Set x, y  points\n",
    "    npoints = 100\n",
    "    x = np.linspace(xl, xr, npoints)\n",
    "    y = np.linspace(yl, yu, npoints)\n",
    "    X, Y = np.meshgrid(x, y)\n",
    "    \n",
    "    \n",
    "    Z = -Y*((Kappa)/(2 * np.pi))/(np.power(X,2) + np.power(Y,2))\n",
    "    CS = plt.contour(X, Y, Z, levels=[C])\n",
    "    fmt='%1.5f'\n",
    "    plt.clabel(CS, inline=1, fontsize=11, fmt=fmt)\n",
    "    \n",
    "\n",
    "    Z = X*((Kappa)/(2 * np.pi))/(np.power(X,2) + np.power(Y,2)) \n",
    "    CS2 = plt.contour(X, Y, Z, levels=[C2], colors='k',linestyles='dashed')\n",
    "    plt.clabel(CS2, inline=1, fontsize=11, fmt=fmt)\n",
    "    \n",
    "    plt.title(r'$\\Psi = -\\frac{\\kappa}{2 \\pi} \\frac{sin\\theta}{r}$   and   $\\Phi = \\frac{\\kappa}{2 \\pi} \\frac{cos\\theta}{r}$')\n",
    "    plt.xlabel('x')\n",
    "    plt.ylabel('y')\n",
    "    plt.tight_layout()\n",
    "    plt.show()\n",
    "    \n",
    "interactive_plot = interactive(doubletPlot, C=widgets.FloatSlider(value=0.0003,min=-0.04,max=0.04,step=0.0001,description='$\\Psi$'), C2=widgets.FloatSlider(value=0.0003,min=-0.04,max=0.04,step=0.0001,description='$\\Phi$'), Kappa=widgets.FloatSlider(value=0.0156,min=0.0001,max=0.1,step=0.00025,description='$\\kappa$'));\n",
    "interactive_plot.children[0].layout.height = '30px'\n",
    "interactive_plot.children[0].layout.width = '500px'\n",
    "interactive_plot.children[0].readout_format = '.4f'\n",
    "interactive_plot.children[1].layout.height = '30px'\n",
    "interactive_plot.children[1].layout.width = '500px'\n",
    "interactive_plot.children[1].readout_format = '.4f'\n",
    "interactive_plot.children[2].layout.height = '30px'\n",
    "interactive_plot.children[2].layout.width = '500px'\n",
    "interactive_plot.children[2].readout_format = '.4f'\n",
    "interactive_plot\n",
    "#print(interactive_plot.children[1].keys)"
   ]
  },
  {
   "cell_type": "code",
   "execution_count": null,
   "metadata": {
    "collapsed": true
   },
   "outputs": [],
   "source": []
  },
  {
   "cell_type": "markdown",
   "metadata": {},
   "source": [
    "$$\\text{Superposition of uniform Flow and source Flow}$$\n",
    "$$\\Psi = V_\\infty y + \\frac{\\Lambda}{2 \\pi} \\theta\\\\$$\n",
    "$$\\Phi = V_\\infty x + \\frac{\\Lambda}{2 \\pi} \\ln r $$"
   ]
  },
  {
   "cell_type": "code",
   "execution_count": null,
   "metadata": {},
   "outputs": [],
   "source": [
    "# Uniform Flow + Source\n",
    "\n",
    "# Set freestream velocity\n",
    "#Lambda = 2 * np.pi #  Set for convenience\n",
    "\n",
    "Lambda = 8\n",
    "Vinf = 1\n",
    "\n",
    "plt.rcParams[\"figure.figsize\"] = (18,9)\n",
    "\n",
    "\n",
    "yu = 10;\n",
    "yl = -yu\n",
    "\n",
    "xl = -5\n",
    "xr = 5\n",
    "\n",
    "# Set x, y  points\n",
    "npoints = 200\n",
    "x = np.linspace(xl, xr, npoints*2)\n",
    "y = np.linspace(yl, yu, npoints)\n",
    "\n",
    "X, Y = np.meshgrid(x, y)\n",
    "\n",
    "# Psi\n",
    "plt.subplot(1,2,1)\n",
    "\n",
    "Z = Vinf * Y + (Lambda)/(2 * np.pi) * np.arctan2(Y,X)\n",
    "levels = np.linspace(np.min(Z),np.max(Z),41)\n",
    "CS = plt.contour(X, Y, Z, levels=levels)\n",
    "plt.clabel(CS, inline=1, fontsize=11)\n",
    "\n",
    "plt.title(r'$\\Psi = V_\\infty y + \\frac{\\Lambda}{2 \\pi} \\theta$')\n",
    "plt.xlabel('$x$')\n",
    "plt.ylabel('$y$')\n",
    "plt.grid()\n",
    "\n",
    "#Phi\n",
    "plt.subplot(1,2,2)\n",
    "Z = Vinf * X + (Lambda)/(2 * np.pi) * np.log( np.sqrt(np.power(X,2) + np.power(Y,2)) )\n",
    "\n",
    "#plt.contour(Z,np.linspace(Z.min(),Z.max(),15))\n",
    "#levels = np.linspace(np.min(Z),0.0035,11)\n",
    "levels = np.linspace(np.min(Z),np.max(Z),41)\n",
    "\n",
    "CS = plt.contour(X, Y, Z, levels=levels)\n",
    "#CS = plt.contour(X, Y, Z)\n",
    "plt.clabel(CS, inline=1, fontsize=11)\n",
    "\n",
    "\n",
    "plt.title(r'$\\Phi = V_\\infty x + \\frac{\\Lambda}{2 \\pi} \\ln r $')\n",
    "plt.xlabel('$x$')\n",
    "plt.ylabel('$y$')\n",
    "\n",
    "\n",
    "plt.tight_layout()\n",
    "plt.show"
   ]
  },
  {
   "cell_type": "code",
   "execution_count": null,
   "metadata": {},
   "outputs": [],
   "source": [
    "# Make data.\n",
    " # Set range\n",
    "plt.rcParams[\"figure.figsize\"] = (20,8)\n",
    "xr = 5\n",
    "xl = -xr\n",
    "yu = 5\n",
    "yl = -yu\n",
    "\n",
    "# Set x, y  points\n",
    "npoints = 100\n",
    "x = np.linspace(xl, xr, npoints)\n",
    "y = np.linspace(yl, yu, npoints)\n",
    "X, Y = np.meshgrid(x, y) \n",
    "\n",
    "Vinf = 1\n",
    "Lambda = 8\n",
    "Z = Vinf * Y + (Lambda)/(2 * np.pi) * np.arctan2(Y,X)\n",
    "Z2 = Vinf * X + (Lambda)/(2 * np.pi) * np.log( np.sqrt(np.power(X,2) + np.power(Y,2)) )\n",
    "\n",
    "fig = plt.figure()\n",
    "ax = fig.add_subplot(121, projection='3d')\n",
    "surf = ax.plot_surface(X, Y, Z, cmap=cm.jet)\n",
    "plt.title(r'$\\Psi = V_\\infty y + \\frac{\\Lambda}{2 \\pi} \\theta$')\n",
    "plt.xlabel('x')\n",
    "plt.ylabel('y')\n",
    "ax.view_init(0, -40)\n",
    "\n",
    "ax = fig.add_subplot(122, projection='3d')\n",
    "surf = ax.plot_surface(X, Y, Z2, rstride=1, cstride=1, cmap=cm.jet)\n",
    "plt.title(r'$\\Phi = V_\\infty x + \\frac{\\Lambda}{2 \\pi} \\ln r $')\n",
    "plt.xlabel('x')\n",
    "plt.ylabel('y')\n",
    "ax.view_init(15, 90)\n",
    "plt.show()\n"
   ]
  },
  {
   "cell_type": "code",
   "execution_count": null,
   "metadata": {
    "scrolled": false
   },
   "outputs": [],
   "source": [
    "# Superposition of uniform Flow and source Flow interactive chart\n",
    "\n",
    "def uniformAndSourcePlot(C, C2, Lambda):\n",
    "    # Set freestream velocity\n",
    "    Vinf = 1 # (units: m/s)\n",
    "    plt.rcParams[\"figure.figsize\"] = (10,8)\n",
    "    # Set range\n",
    "    xr = 10\n",
    "    xl = -xr\n",
    "    yu = 10\n",
    "    yl = -yu\n",
    "       \n",
    "    # Set x, y  points\n",
    "    npoints = 100\n",
    "    x = np.linspace(xl, xr, npoints)\n",
    "    y = np.linspace(yl, yu, npoints)\n",
    "    X, Y = np.meshgrid(x, y)\n",
    "    \n",
    "    \n",
    "    Z = Vinf * Y + (Lambda)/(2 * np.pi) * np.arctan2(Y,X)\n",
    "    CS = plt.contour(X, Y, Z, levels=[C])\n",
    "    fmt='%1.4f'\n",
    "    plt.clabel(CS, inline=1, fontsize=11, fmt=fmt)\n",
    "    \n",
    "\n",
    "    Z = Vinf * X + (Lambda)/(2 * np.pi) * np.log( np.sqrt(np.power(X,2) + np.power(Y,2)) )\n",
    "    CS2 = plt.contour(X, Y, Z, levels=[C2], colors='k',linestyles='dashed')\n",
    "    plt.clabel(CS2, inline=1, fontsize=11, fmt=fmt)\n",
    "    \n",
    "    plt.title(r'$\\Psi = V_\\infty y + \\frac{\\Lambda}{2 \\pi} \\theta$   and   $\\Phi = V_\\infty x + \\frac{\\Lambda}{2 \\pi} \\ln r $')\n",
    "    plt.xlabel('x')\n",
    "    plt.ylabel('y')\n",
    "    plt.tight_layout()\n",
    "    plt.show()\n",
    "    \n",
    "interactive_plot = interactive(uniformAndSourcePlot, C=widgets.FloatSlider(value=1,min=-10,max=10,step=0.2,description='$\\Psi$'), C2=widgets.FloatSlider(value=-0.8,min=-10,max=10,step=0.2,description='$\\Phi$'), Lambda=widgets.FloatSlider(value=8,min=0.5,max=10,step=0.5,description='$\\Lambda$'));\n",
    "interactive_plot.children[0].layout.height = '30px'\n",
    "interactive_plot.children[0].layout.width = '500px'\n",
    "interactive_plot.children[0].readout_format = '.4f'\n",
    "interactive_plot.children[1].layout.height = '30px'\n",
    "interactive_plot.children[1].layout.width = '500px'\n",
    "interactive_plot.children[1].readout_format = '.4f'\n",
    "interactive_plot.children[2].layout.height = '30px'\n",
    "interactive_plot.children[2].layout.width = '500px'\n",
    "interactive_plot.children[2].readout_format = '.4f'\n",
    "interactive_plot\n",
    "#print(interactive_plot.children[1].keys)"
   ]
  },
  {
   "cell_type": "code",
   "execution_count": null,
   "metadata": {
    "collapsed": true
   },
   "outputs": [],
   "source": []
  },
  {
   "cell_type": "markdown",
   "metadata": {
    "collapsed": true
   },
   "source": [
    "$$\\text{Rankine Oval}$$\n",
    "$$\\Psi = V_\\infty y + \\frac{\\Lambda}{2 \\pi} (\\theta_1-\\theta_2)\\\\$$\n",
    "$$\\Phi = V_\\infty x + \\frac{\\Lambda}{2 \\pi} (\\ln r_1/r_2) $$"
   ]
  },
  {
   "cell_type": "code",
   "execution_count": null,
   "metadata": {},
   "outputs": [],
   "source": [
    "Lambda = 4\n",
    "Vinf = 1\n",
    "\n",
    "plt.rcParams[\"figure.figsize\"] = (18,9)\n",
    "\n",
    "xr = 4.5\n",
    "xl = -xr\n",
    "\n",
    "yu = 3;\n",
    "yl = -yu\n",
    "\n",
    "\n",
    "# Set x, y  points\n",
    "npoints = 200\n",
    "x = np.linspace(xl, xr, npoints*2)\n",
    "y = np.linspace(yl, yu, npoints)\n",
    "\n",
    "X, Y = np.meshgrid(x, y)\n",
    "\n",
    "xloc = 1.5\n",
    "# Psi\n",
    "plt.subplot(1,2,1)\n",
    "Z = Vinf * Y + (Lambda)/(2 * np.pi) * np.arctan2(Y,X + xloc) - (Lambda)/(2 * np.pi) * np.arctan2(Y,X - xloc)\n",
    "#CS = plt.contour(X, Y, Z)\n",
    "levels = np.linspace(np.min(Z),np.max(Z),35)\n",
    "CS = plt.contour(X, Y, Z, levels=levels)\n",
    "plt.clabel(CS, inline=1, fontsize=11)\n",
    "#plt.axis('equal','box')\n",
    "#plt.title('Simplest default with labels')\n",
    "plt.title(r'$\\Psi = V_\\infty y + \\frac{\\Lambda}{2 \\pi} (\\theta_1-\\theta_2)$')\n",
    "plt.xlabel('$x$')\n",
    "plt.ylabel('$y$')\n",
    "#plt.xlim(-0.1, .1)\n",
    "plt.grid()\n",
    "\n",
    "#Phi\n",
    "plt.subplot(1,2,2)\n",
    "\n",
    "Z = Vinf * X + (Lambda)/(2 * np.pi) * np.log( np.sqrt(np.power(X + xloc,2) + np.power(Y,2)) ) - (Lambda)/(2 * np.pi) * np.log( np.sqrt(np.power(X - xloc,2) + np.power(Y,2)) )\n",
    "\n",
    "#plt.contour(Z,np.linspace(Z.min(),Z.max(),15))\n",
    "#levels = np.linspace(np.min(Z),0.0035,11)\n",
    "levels = np.linspace(np.min(Z),np.max(Z),15)\n",
    "\n",
    "CS = plt.contour(X, Y, Z, levels=levels)\n",
    "#CS = plt.contour(X, Y, Z)\n",
    "plt.clabel(CS, inline=1, fontsize=11)\n",
    "\n",
    "\n",
    "plt.title(r'$\\Phi = V_\\infty x + \\frac{\\Lambda}{2 \\pi} \\ln (r_1/r_2) $')\n",
    "plt.xlabel('$x$')\n",
    "plt.ylabel('$y$')\n",
    "\n",
    "\n",
    "plt.tight_layout()\n",
    "plt.show"
   ]
  },
  {
   "cell_type": "code",
   "execution_count": null,
   "metadata": {},
   "outputs": [],
   "source": [
    "# Make data.\n",
    " # Set range\n",
    "plt.rcParams[\"figure.figsize\"] = (20,8)\n",
    "xr = 4.5\n",
    "xl = -xr\n",
    "yu = 3\n",
    "yl = -yu\n",
    "\n",
    "# Set x, y  points\n",
    "npoints = 100\n",
    "x = np.linspace(xl, xr, npoints)\n",
    "y = np.linspace(yl, yu, npoints)\n",
    "X, Y = np.meshgrid(x, y) \n",
    "\n",
    "Vinf = 1\n",
    "Lambda = 4\n",
    "xloc = 1.5\n",
    "Z = Vinf * Y + (Lambda)/(2 * np.pi) * np.arctan2(Y,X + xloc) - (Lambda)/(2 * np.pi) * np.arctan2(Y,X - xloc)\n",
    "Z2 = Vinf * X + (Lambda)/(2 * np.pi) * np.log( np.sqrt(np.power(X + xloc,2) + np.power(Y,2)) ) - (Lambda)/(2 * np.pi) * np.log( np.sqrt(np.power(X - xloc,2) + np.power(Y,2)) )\n",
    "\n",
    "fig = plt.figure()\n",
    "ax = fig.add_subplot(121, projection='3d')\n",
    "surf = ax.plot_surface(X, Y, Z, cmap=cm.jet)\n",
    "plt.title(r'$\\Psi = V_\\infty y + \\frac{\\Lambda}{2 \\pi} (\\theta_1-\\theta_2)$')\n",
    "plt.xlabel('x')\n",
    "plt.ylabel('y')\n",
    "ax.view_init(30, 30)\n",
    "\n",
    "ax = fig.add_subplot(122, projection='3d')\n",
    "surf = ax.plot_surface(X, Y, Z2, rstride=1, cstride=1, cmap=cm.jet)\n",
    "plt.title(r'$\\Phi = V_\\infty x + \\frac{\\Lambda}{2 \\pi} \\ln (r_1/r_2) $')\n",
    "plt.xlabel('x')\n",
    "plt.ylabel('y')\n",
    "ax.view_init(15, 90)\n",
    "plt.show()\n"
   ]
  },
  {
   "cell_type": "code",
   "execution_count": null,
   "metadata": {},
   "outputs": [],
   "source": [
    "# Rankine Oval interactive chart\n",
    "\n",
    "def rankineOvalPlot(C, C2, Lambda,xloc):\n",
    "    # Set freestream velocity\n",
    "    Vinf = 1 # (units: m/s)\n",
    "    plt.rcParams[\"figure.figsize\"] = (10,8)\n",
    "    # Set range\n",
    "    xr = 10\n",
    "    xl = -xr\n",
    "    yu = 10\n",
    "    yl = -yu\n",
    "       \n",
    "    # Set x, y  points\n",
    "    npoints = 100\n",
    "    x = np.linspace(xl, xr, npoints)\n",
    "    y = np.linspace(yl, yu, npoints)\n",
    "    X, Y = np.meshgrid(x, y)\n",
    "    \n",
    "    \n",
    "    Z = Vinf * Y + (Lambda)/(2 * np.pi) * np.arctan2(Y,X + xloc) - (Lambda)/(2 * np.pi) * np.arctan2(Y,X - xloc)\n",
    "    CS = plt.contour(X, Y, Z, levels=[C])\n",
    "    fmt='%1.4f'\n",
    "    plt.clabel(CS, inline=1, fontsize=11, fmt=fmt)\n",
    "    \n",
    "\n",
    "    Z = Vinf * X + (Lambda)/(2 * np.pi) * np.log( np.sqrt(np.power(X + xloc,2) + np.power(Y,2)) ) - (Lambda)/(2 * np.pi) * np.log( np.sqrt(np.power(X - xloc,2) + np.power(Y,2)) )\n",
    "    CS2 = plt.contour(X, Y, Z, levels=[C2], colors='k',linestyles='dashed')\n",
    "    plt.clabel(CS2, inline=1, fontsize=11, fmt=fmt)\n",
    "    \n",
    "    plt.title(r'$\\Psi = V_\\infty y + \\frac{\\Lambda}{2 \\pi} (\\theta_1-\\theta_2)$   and   $\\Phi = V_\\infty x + \\frac{\\Lambda}{2 \\pi} \\ln (r_1/r_2) $')\n",
    "    plt.xlabel('x')\n",
    "    plt.ylabel('y')\n",
    "    plt.tight_layout()\n",
    "    plt.show()\n",
    "    \n",
    "interactive_plot = interactive(rankineOvalPlot, C=widgets.FloatSlider(value=0,min=-10,max=10,step=0.1,description='$\\Psi$'), C2=widgets.FloatSlider(value=-3.2,min=-10,max=10,step=0.1,description='$\\Phi$'), Lambda=widgets.FloatSlider(value=4,min=0.5,max=10,step=0.5,description='$\\Lambda$'), xloc=widgets.FloatSlider(value=1.5,min=0.25,max=5,step=0.25,description='$xLoc$'));\n",
    "interactive_plot.children[0].layout.height = '30px'\n",
    "interactive_plot.children[0].layout.width = '500px'\n",
    "interactive_plot.children[0].readout_format = '.4f'\n",
    "interactive_plot.children[1].layout.height = '30px'\n",
    "interactive_plot.children[1].layout.width = '500px'\n",
    "interactive_plot.children[1].readout_format = '.4f'\n",
    "interactive_plot.children[2].layout.height = '30px'\n",
    "interactive_plot.children[2].layout.width = '500px'\n",
    "interactive_plot.children[2].readout_format = '.4f'\n",
    "interactive_plot.children[3].layout.height = '30px'\n",
    "interactive_plot.children[3].layout.width = '500px'\n",
    "interactive_plot.children[3].readout_format = '.4f'\n",
    "interactive_plot\n",
    "#print(interactive_plot.children[1].keys)"
   ]
  },
  {
   "cell_type": "code",
   "execution_count": null,
   "metadata": {
    "collapsed": true
   },
   "outputs": [],
   "source": []
  },
  {
   "cell_type": "markdown",
   "metadata": {},
   "source": [
    "$$\\text{Cylinder (Non-lifting flow)}$$\n",
    "$$\\Psi = V_\\infty y-\\frac{\\kappa}{2 \\pi} \\frac{sin\\theta}{r} \\\\$$\n",
    "$$\\Phi = V_\\infty x + \\frac{\\kappa}{2 \\pi} \\frac{cos\\theta}{r} $$"
   ]
  },
  {
   "cell_type": "code",
   "execution_count": null,
   "metadata": {},
   "outputs": [],
   "source": [
    "# Cylinder (Non-lifting flow)\n",
    "\n",
    "# uniform  +  Doublet Flow\n",
    "Vinf = 1\n",
    "\n",
    "# Set range\n",
    "xr = 5\n",
    "xl = -xr\n",
    "\n",
    "yu = 5\n",
    "yl = -yu\n",
    "\n",
    "npoints = 100\n",
    "x = np.linspace(xl, xr, npoints)\n",
    "y = np.linspace(yl, yu, npoints)\n",
    "\n",
    "X, Y = np.meshgrid(x, y)\n",
    "\n",
    "Kappa = 10\n",
    "\n",
    "plt.rcParams[\"figure.figsize\"] = (18,9)\n",
    "\n",
    "\n",
    "plt.subplot(1,2,1)\n",
    "Z = Vinf * Y - Y*((Kappa)/(2 * np.pi))/(np.power(X,2) + np.power(Y,2)) \n",
    "levels = np.linspace(np.min(Z),np.max(Z),61)\n",
    "CS = plt.contour(X, Y, Z, levels=levels)\n",
    "fmt='%1.4f'\n",
    "plt.clabel(CS, inline=1, fontsize=11,fmt=fmt)\n",
    "plt.title(r'$\\Psi = V_\\infty y-\\frac{\\kappa}{2 \\pi} \\frac{sin\\theta}{r}$')\n",
    "plt.xlabel('$x$')\n",
    "plt.ylabel('$y$')\n",
    "\n",
    "\n",
    "plt.subplot(1,2,2)\n",
    "Z = Vinf * X + X*((Kappa)/(2 * np.pi))/(np.power(X,2) + np.power(Y,2)) \n",
    "levels = np.linspace(np.min(Z),np.max(Z),61)\n",
    "CS = plt.contour(X, Y, Z, levels=levels)\n",
    "plt.clabel(CS, inline=1, fontsize=11, fmt=fmt)\n",
    "\n",
    "\n",
    "\n",
    "\n",
    "#plt.axis('equal','box')\n",
    "#plt.title('Simplest default with labels')\n",
    "plt.title(r'$\\Phi = V_\\infty x +\\frac{\\kappa}{2 \\pi} \\frac{cos\\theta}{r}$')\n",
    "plt.xlabel('$x$')\n",
    "plt.ylabel('$y$')\n",
    "\n",
    "plt.tight_layout()\n",
    "plt.show"
   ]
  },
  {
   "cell_type": "code",
   "execution_count": null,
   "metadata": {},
   "outputs": [],
   "source": [
    "# Make data.\n",
    " # Set range\n",
    "plt.rcParams[\"figure.figsize\"] = (20,8)\n",
    "xr = 5\n",
    "xl = -xr\n",
    "yu = 5\n",
    "yl = -yu\n",
    "\n",
    "# Set x, y  points\n",
    "npoints = 100\n",
    "x = np.linspace(xl, xr, npoints)\n",
    "y = np.linspace(yl, yu, npoints)\n",
    "X, Y = np.meshgrid(x, y) \n",
    "\n",
    "Vinf = 1\n",
    "Kappa = 10\n",
    "xloc = 1.5\n",
    "Z = Vinf * Y - Y*((Kappa)/(2 * np.pi))/(np.power(X,2) + np.power(Y,2)) \n",
    "Z2 = Vinf * X + X*((Kappa)/(2 * np.pi))/(np.power(X,2) + np.power(Y,2)) \n",
    "fig = plt.figure()\n",
    "ax = fig.add_subplot(121, projection='3d')\n",
    "surf = ax.plot_surface(X, Y, Z, cmap=cm.jet)\n",
    "plt.title(r'$\\Psi = V_\\infty y-\\frac{\\kappa}{2 \\pi} \\frac{sin\\theta}{r}$')\n",
    "plt.xlabel('x')\n",
    "plt.ylabel('y')\n",
    "ax.view_init(30, 70)\n",
    "\n",
    "ax = fig.add_subplot(122, projection='3d')\n",
    "surf = ax.plot_surface(X, Y, Z2, rstride=1, cstride=1, cmap=cm.jet)\n",
    "plt.title(r'$\\Phi = V_\\infty x +\\frac{\\kappa}{2 \\pi} \\frac{cos\\theta}{r}$')\n",
    "plt.xlabel('x')\n",
    "plt.ylabel('y')\n",
    "ax.view_init(30, 70)\n",
    "plt.show()\n"
   ]
  },
  {
   "cell_type": "code",
   "execution_count": null,
   "metadata": {},
   "outputs": [],
   "source": [
    "# Cylinder (Non-lifting flow) interactive chart\n",
    "\n",
    "def cylinderNonLiftingPlot(C, C2, Kappa):\n",
    "    # Set freestream velocity\n",
    "    Vinf = 1 # (units: m/s)\n",
    "    plt.rcParams[\"figure.figsize\"] = (10,8)\n",
    "    # Set range\n",
    "    xr = 5\n",
    "    xl = -xr\n",
    "    yu = 5\n",
    "    yl = -yu\n",
    "       \n",
    "    # Set x, y  points\n",
    "    npoints = 100\n",
    "    x = np.linspace(xl, xr, npoints)\n",
    "    y = np.linspace(yl, yu, npoints)\n",
    "    X, Y = np.meshgrid(x, y)\n",
    "    \n",
    "    \n",
    "    Z = Vinf * Y - Y*((Kappa)/(2 * np.pi))/(np.power(X,2) + np.power(Y,2))\n",
    "    CS = plt.contour(X, Y, Z, levels=[C])\n",
    "    fmt='%1.5f'\n",
    "    plt.clabel(CS, inline=1, fontsize=11, fmt=fmt)\n",
    "    \n",
    "\n",
    "    Z = Vinf * X + X*((Kappa)/(2 * np.pi))/(np.power(X,2) + np.power(Y,2)) \n",
    "    CS2 = plt.contour(X, Y, Z, levels=[C2], colors='k',linestyles='dashed')\n",
    "    plt.clabel(CS2, inline=1, fontsize=11, fmt=fmt)\n",
    "    \n",
    "    plt.title(r'$\\Psi = V_\\infty y-\\frac{\\kappa}{2 \\pi} \\frac{sin\\theta}{r}$   and   $\\Phi = V_\\infty x+\\frac{\\kappa}{2 \\pi} \\frac{cos\\theta}{r}$')\n",
    "    plt.xlabel('x')\n",
    "    plt.ylabel('y')\n",
    "    plt.tight_layout()\n",
    "    plt.show()\n",
    "    \n",
    "interactive_plot = interactive(cylinderNonLiftingPlot, C=widgets.FloatSlider(value=0,min=-5,max=5,step=0.1,description='$\\Psi$'), C2=widgets.FloatSlider(value=-3,min=-5,max=5,step=0.1,description='$\\Phi$'), Kappa=widgets.FloatSlider(value=32,min=0,max=60,step=4,description='$\\kappa$'));\n",
    "interactive_plot.children[0].layout.height = '30px'\n",
    "interactive_plot.children[0].layout.width = '500px'\n",
    "interactive_plot.children[0].readout_format = '.4f'\n",
    "interactive_plot.children[1].layout.height = '30px'\n",
    "interactive_plot.children[1].layout.width = '500px'\n",
    "interactive_plot.children[1].readout_format = '.4f'\n",
    "interactive_plot.children[2].layout.height = '30px'\n",
    "interactive_plot.children[2].layout.width = '500px'\n",
    "interactive_plot.children[2].readout_format = '.4f'\n",
    "interactive_plot\n",
    "#print(interactive_plot.children[1].keys)"
   ]
  },
  {
   "cell_type": "code",
   "execution_count": null,
   "metadata": {
    "collapsed": true
   },
   "outputs": [],
   "source": []
  },
  {
   "cell_type": "markdown",
   "metadata": {},
   "source": [
    "$$\\text{Cylinder (lifting flow)}$$\n",
    "$$\\Psi = V_\\infty y-\\frac{\\kappa}{2 \\pi} \\frac{sin\\theta}{r} + \\frac{\\Gamma}{2 \\pi} \\ln r \\\\$$\n",
    "$$\\Phi = V_\\infty x + \\frac{\\kappa}{2 \\pi} \\frac{cos\\theta}{r}-\\frac{\\Gamma}{2 \\pi} \\theta $$"
   ]
  },
  {
   "cell_type": "code",
   "execution_count": null,
   "metadata": {},
   "outputs": [],
   "source": [
    "# Cylinder (Lifting flow)\n",
    "\n",
    "\n",
    "# uniform  +  Doublet Flow\n",
    "Vinf = 1\n",
    "\n",
    "# Set range\n",
    "xr = 5\n",
    "xl = -xr\n",
    "\n",
    "yu = 5\n",
    "yl = -yu\n",
    "\n",
    "npoints = 100\n",
    "x = np.linspace(xl, xr, npoints)\n",
    "y = np.linspace(yl, yu, npoints)\n",
    "\n",
    "X, Y = np.meshgrid(x, y)\n",
    "\n",
    "Kappa = 10\n",
    "Gamma = 5\n",
    "\n",
    "plt.rcParams[\"figure.figsize\"] = (18,9)\n",
    "\n",
    "\n",
    "plt.subplot(1,2,1)\n",
    "Z = Vinf * Y - Y*((Kappa)/(2 * np.pi))/(np.power(X,2) + np.power(Y,2)) + (Gamma)/(2 * np.pi) * np.log( np.sqrt(np.power(X,2) + np.power(Y,2)) ) \n",
    "levels = np.linspace(np.min(Z),np.max(Z),61)\n",
    "CS = plt.contour(X, Y, Z, levels=levels)\n",
    "fmt='%1.4f'\n",
    "plt.clabel(CS, inline=1, fontsize=11,fmt=fmt)\n",
    "plt.title(r'$\\Psi = V_\\infty y-\\frac{\\kappa}{2 \\pi} \\frac{sin\\theta}{r}+\\frac{\\Gamma}{2 \\pi} \\ln r$')\n",
    "plt.xlabel('$x$')\n",
    "plt.ylabel('$y$')\n",
    "\n",
    "\n",
    "plt.subplot(1,2,2)\n",
    "Z = Vinf * X + X*((Kappa)/(2 * np.pi))/(np.power(X,2) + np.power(Y,2)) - (Gamma)/(2 * np.pi) * np.arctan(Y/X) \n",
    "levels = np.linspace(np.min(Z),np.max(Z),61)\n",
    "CS = plt.contour(X, Y, Z, levels=levels)\n",
    "plt.clabel(CS, inline=1, fontsize=11, fmt=fmt)\n",
    "\n",
    "\n",
    "\n",
    "\n",
    "#plt.axis('equal','box')\n",
    "#plt.title('Simplest default with labels')\n",
    "plt.title(r'$\\Phi = V_\\infty x +\\frac{\\kappa}{2 \\pi} \\frac{cos\\theta}{r}-\\frac{\\Gamma}{2 \\pi} \\theta$')\n",
    "plt.xlabel('$x$')\n",
    "plt.ylabel('$y$')\n",
    "\n",
    "plt.tight_layout()\n",
    "plt.show"
   ]
  },
  {
   "cell_type": "code",
   "execution_count": null,
   "metadata": {},
   "outputs": [],
   "source": [
    "# Make data.\n",
    " # Set range\n",
    "plt.rcParams[\"figure.figsize\"] = (20,8)\n",
    "xr = 5\n",
    "xl = -xr\n",
    "yu = 5\n",
    "yl = -yu\n",
    "\n",
    "# Set x, y  points\n",
    "npoints = 100\n",
    "x = np.linspace(xl, xr, npoints)\n",
    "y = np.linspace(yl, yu, npoints)\n",
    "X, Y = np.meshgrid(x, y) \n",
    "\n",
    "Vinf = 1\n",
    "Kappa = 10\n",
    "Gamma = 5\n",
    "Z = Vinf * Y - Y*((Kappa)/(2 * np.pi))/(np.power(X,2) + np.power(Y,2)) + (Gamma)/(2 * np.pi) * np.log( np.sqrt(np.power(X,2) + np.power(Y,2)) ) \n",
    "Z2 = Vinf * X + X*((Kappa)/(2 * np.pi))/(np.power(X,2) + np.power(Y,2)) - (Gamma)/(2 * np.pi) * np.arctan(Y/X) \n",
    "fig = plt.figure()\n",
    "ax = fig.add_subplot(121, projection='3d')\n",
    "surf = ax.plot_surface(X, Y, Z, cmap=cm.jet)\n",
    "plt.title(r'$\\Psi = V_\\infty y-\\frac{\\kappa}{2 \\pi} \\frac{sin\\theta}{r}+\\frac{\\Gamma}{2 \\pi} \\ln r$')\n",
    "plt.xlabel('x')\n",
    "plt.ylabel('y')\n",
    "ax.view_init(30, 70)\n",
    "\n",
    "ax = fig.add_subplot(122, projection='3d')\n",
    "surf = ax.plot_surface(X, Y, Z2, rstride=1, cstride=1, cmap=cm.jet)\n",
    "plt.title(r'$\\Phi = V_\\infty x +\\frac{\\kappa}{2 \\pi} \\frac{cos\\theta}{r}-\\frac{\\Gamma}{2 \\pi} \\theta$')\n",
    "plt.xlabel('x')\n",
    "plt.ylabel('y')\n",
    "ax.view_init(30, 70)\n",
    "plt.show()\n"
   ]
  },
  {
   "cell_type": "code",
   "execution_count": null,
   "metadata": {},
   "outputs": [],
   "source": [
    "# Cylinder (lifting flow) interactive chart\n",
    "\n",
    "def cylinderLiftingPlot(C, C2, Kappa, Gamma):\n",
    "    # Set freestream velocity\n",
    "    Vinf = 1 # (units: m/s)\n",
    "    plt.rcParams[\"figure.figsize\"] = (10,8)\n",
    "    # Set range\n",
    "    xr = 5\n",
    "    xl = -xr\n",
    "    yu = 5\n",
    "    yl = -yu\n",
    "       \n",
    "    # Set x, y  points\n",
    "    npoints = 100\n",
    "    x = np.linspace(xl, xr, npoints)\n",
    "    y = np.linspace(yl, yu, npoints)\n",
    "    X, Y = np.meshgrid(x, y)\n",
    "    \n",
    "    \n",
    "    Z = Vinf * Y - Y*((Kappa)/(2 * np.pi))/(np.power(X,2) + np.power(Y,2)) + (Gamma)/(2 * np.pi) * np.log( np.sqrt(np.power(X,2) + np.power(Y,2)) ) \n",
    "    CS = plt.contour(X, Y, Z, levels=[C])\n",
    "    fmt='%1.5f'\n",
    "    plt.clabel(CS, inline=1, fontsize=11, fmt=fmt)\n",
    "    \n",
    "\n",
    "    Z = Vinf * X + X*((Kappa)/(2 * np.pi))/(np.power(X,2) + np.power(Y,2)) - (Gamma)/(2 * np.pi) * np.arctan(Y/X)  \n",
    "    CS2 = plt.contour(X, Y, Z, levels=[C2], colors='k',linestyles='dashed')\n",
    "    plt.clabel(CS2, inline=1, fontsize=11, fmt=fmt)\n",
    "    \n",
    "    plt.title(r'$\\Psi = V_\\infty y -\\frac{\\kappa}{2 \\pi} \\frac{sin\\theta}{r}+\\frac{\\Gamma}{2 \\pi} \\ln r$   and   $\\Phi = V_\\infty x +\\frac{\\kappa}{2 \\pi} \\frac{cos\\theta}{r}-\\frac{\\Gamma}{2 \\pi} \\theta$')\n",
    "    plt.xlabel('x')\n",
    "    plt.ylabel('y')\n",
    "    plt.tight_layout()\n",
    "    plt.show()\n",
    "    \n",
    "interactive_plot = interactive(cylinderLiftingPlot, C=widgets.FloatSlider(value=0,min=-5,max=5,step=0.1,description='$\\Psi$'), C2=widgets.FloatSlider(value=-3,min=-5,max=5,step=0.1,description='$\\Phi$'), Kappa=widgets.FloatSlider(value=32,min=0,max=60,step=2,description='$\\kappa$'), Gamma=widgets.FloatSlider(value=1,min=0,max=30,step=1,description='$\\Gamma$'));\n",
    "interactive_plot.children[0].layout.height = '30px'\n",
    "interactive_plot.children[0].layout.width = '500px'\n",
    "interactive_plot.children[0].readout_format = '.4f'\n",
    "interactive_plot.children[1].layout.height = '30px'\n",
    "interactive_plot.children[1].layout.width = '500px'\n",
    "interactive_plot.children[1].readout_format = '.4f'\n",
    "interactive_plot.children[2].layout.height = '30px'\n",
    "interactive_plot.children[2].layout.width = '500px'\n",
    "interactive_plot.children[2].readout_format = '.4f'\n",
    "interactive_plot.children[3].layout.height = '30px'\n",
    "interactive_plot.children[3].layout.width = '500px'\n",
    "interactive_plot.children[3].readout_format = '.4f'\n",
    "interactive_plot\n",
    "#print(interactive_plot.children[1].keys)"
   ]
  },
  {
   "cell_type": "code",
   "execution_count": null,
   "metadata": {
    "collapsed": true
   },
   "outputs": [],
   "source": []
  }
 ],
 "metadata": {
  "kernelspec": {
   "display_name": "Python 3",
   "language": "python",
   "name": "python3"
  },
  "language_info": {
   "codemirror_mode": {
    "name": "ipython",
    "version": 3
   },
   "file_extension": ".py",
   "mimetype": "text/x-python",
   "name": "python",
   "nbconvert_exporter": "python",
   "pygments_lexer": "ipython3",
   "version": "3.6.3"
  },
  "widgets": {
   "application/vnd.jupyter.widget-state+json": {
    "state": {
     "003e647de8cf4c438cb0323679c056bf": {
      "model_module": "@jupyter-widgets/controls",
      "model_module_version": "1.0.0",
      "model_name": "VBoxModel",
      "state": {
       "_dom_classes": [
        "widget-interact"
       ],
       "children": [
        "IPY_MODEL_9546e8dfebda43e7b0763b688c7c5992",
        "IPY_MODEL_3c0bf3d4faaf420f9ba77f94d772eb7f",
        "IPY_MODEL_89007e0fc981438f9156b7e5089f6ff1",
        "IPY_MODEL_4e6c9914d54f4ab989c5959bc233cd6a"
       ],
       "layout": "IPY_MODEL_0c683264bc2741e88abddba206aa782c"
      }
     },
     "0226735ea8004426ba2798e345452fdf": {
      "model_module": "@jupyter-widgets/controls",
      "model_module_version": "1.0.0",
      "model_name": "FloatSliderModel",
      "state": {
       "description": "$\\kappa$",
       "layout": "IPY_MODEL_ffaf603923e4419abbee7afd45341c54",
       "max": 60,
       "readout_format": ".4f",
       "step": 4,
       "style": "IPY_MODEL_199375f41d244c5182ca24a4b6795757",
       "value": 32
      }
     },
     "0473505f859b4094b494b21f2a6e5b66": {
      "model_module": "@jupyter-widgets/controls",
      "model_module_version": "1.0.0",
      "model_name": "SliderStyleModel",
      "state": {
       "description_width": ""
      }
     },
     "07090457f55842b192420f956b080274": {
      "model_module": "@jupyter-widgets/controls",
      "model_module_version": "1.0.0",
      "model_name": "FloatSliderModel",
      "state": {
       "description": "$C^*$",
       "layout": "IPY_MODEL_49923c3c65d34403ae543cc36d501b7b",
       "max": 9,
       "min": -9,
       "style": "IPY_MODEL_c52d25cfb9ba407090006a0e61a6fd0a",
       "value": -4
      }
     },
     "089212871c8746658248299ec4d57b44": {
      "model_module": "@jupyter-widgets/controls",
      "model_module_version": "1.0.0",
      "model_name": "SliderStyleModel",
      "state": {
       "description_width": ""
      }
     },
     "0a3ba9d5bd29486b866c1063c34786ed": {
      "model_module": "@jupyter-widgets/base",
      "model_module_version": "1.0.0",
      "model_name": "LayoutModel",
      "state": {
       "height": "30px",
       "width": "500px"
      }
     },
     "0c683264bc2741e88abddba206aa782c": {
      "model_module": "@jupyter-widgets/base",
      "model_module_version": "1.0.0",
      "model_name": "LayoutModel",
      "state": {}
     },
     "0d01fffbd15243c3a83998e5b988c352": {
      "model_module": "@jupyter-widgets/controls",
      "model_module_version": "1.0.0",
      "model_name": "SliderStyleModel",
      "state": {
       "description_width": ""
      }
     },
     "0da70ee08cfd4b91b1342049b91190d1": {
      "model_module": "@jupyter-widgets/output",
      "model_module_version": "1.0.0",
      "model_name": "OutputModel",
      "state": {
       "layout": "IPY_MODEL_b3aaf190fead444b8bb775a9c15129ce",
       "outputs": [
        {
         "data": {
          "application/vnd.plotly.v1+json": {
           "data": [
            {
             "type": "scatter",
             "uid": "e02fff2f-2cef-41c3-8b30-28571cf04449",
             "x": [
              -10,
              -9.797979797979798,
              -9.595959595959595,
              -9.393939393939394,
              -9.191919191919192,
              -8.98989898989899,
              -8.787878787878787,
              -8.585858585858587,
              -8.383838383838384,
              -8.181818181818182,
              -7.979797979797979,
              -7.777777777777778,
              -7.575757575757576,
              -7.373737373737374,
              -7.171717171717171,
              -6.96969696969697,
              -6.767676767676768,
              -6.565656565656566,
              -6.363636363636363,
              -6.161616161616162,
              -5.959595959595959,
              -5.757575757575758,
              -5.555555555555555,
              -5.353535353535354,
              -5.151515151515151,
              -4.94949494949495,
              -4.747474747474747,
              -4.545454545454546,
              -4.343434343434343,
              -4.141414141414142,
              -3.9393939393939394,
              -3.737373737373738,
              -3.5353535353535355,
              -3.333333333333333,
              -3.1313131313131315,
              -2.929292929292929,
              -2.7272727272727275,
              -2.525252525252525,
              -2.3232323232323235,
              -2.121212121212121,
              -1.9191919191919187,
              -1.717171717171718,
              -1.5151515151515156,
              -1.3131313131313131,
              -1.1111111111111107,
              -0.9090909090909101,
              -0.7070707070707076,
              -0.5050505050505052,
              -0.30303030303030276,
              -0.10101010101010033,
              0.10101010101010033,
              0.30303030303030276,
              0.5050505050505052,
              0.7070707070707076,
              0.9090909090909083,
              1.1111111111111107,
              1.3131313131313131,
              1.5151515151515156,
              1.7171717171717162,
              1.9191919191919187,
              2.121212121212121,
              2.3232323232323235,
              2.525252525252524,
              2.7272727272727266,
              2.929292929292929,
              3.1313131313131315,
              3.333333333333334,
              3.5353535353535346,
              3.737373737373737,
              3.9393939393939394,
              4.141414141414142,
              4.3434343434343425,
              4.545454545454545,
              4.747474747474747,
              4.94949494949495,
              5.1515151515151505,
              5.353535353535353,
              5.555555555555555,
              5.757575757575758,
              5.9595959595959584,
              6.161616161616163,
              6.363636363636363,
              6.565656565656564,
              6.767676767676768,
              6.969696969696969,
              7.171717171717173,
              7.373737373737374,
              7.575757575757574,
              7.777777777777779,
              7.979797979797979,
              8.18181818181818,
              8.383838383838384,
              8.585858585858585,
              8.787878787878789,
              8.98989898989899,
              9.19191919191919,
              9.393939393939394,
              9.595959595959595,
              9.7979797979798,
              10
             ],
             "y": [
              2,
              2,
              2,
              2,
              2,
              2,
              2,
              2,
              2,
              2,
              2,
              2,
              2,
              2,
              2,
              2,
              2,
              2,
              2,
              2,
              2,
              2,
              2,
              2,
              2,
              2,
              2,
              2,
              2,
              2,
              2,
              2,
              2,
              2,
              2,
              2,
              2,
              2,
              2,
              2,
              2,
              2,
              2,
              2,
              2,
              2,
              2,
              2,
              2,
              2,
              2,
              2,
              2,
              2,
              2,
              2,
              2,
              2,
              2,
              2,
              2,
              2,
              2,
              2,
              2,
              2,
              2,
              2,
              2,
              2,
              2,
              2,
              2,
              2,
              2,
              2,
              2,
              2,
              2,
              2,
              2,
              2,
              2,
              2,
              2,
              2,
              2,
              2,
              2,
              2,
              2,
              2,
              2,
              2,
              2,
              2,
              2,
              2,
              2,
              2
             ]
            }
           ],
           "layout": {
            "autosize": false,
            "height": 500,
            "margin": {
             "b": 100,
             "l": 50,
             "pad": 4,
             "r": 50,
             "t": 100
            },
            "sliders": [
             {
              "active": 10,
              "currentvalue": {
               "prefix": "Frequency: "
              },
              "pad": {
               "t": 50
              },
              "steps": [
               {
                "args": [
                 "visible",
                 [
                  true,
                  false,
                  false,
                  false,
                  false,
                  false,
                  false,
                  false,
                  false,
                  false,
                  false,
                  false,
                  false,
                  false,
                  false,
                  false,
                  false,
                  false,
                  false,
                  false,
                  false
                 ]
                ],
                "label": "-10.0",
                "method": "restyle"
               },
               {
                "args": [
                 "visible",
                 [
                  false,
                  true,
                  false,
                  false,
                  false,
                  false,
                  false,
                  false,
                  false,
                  false,
                  false,
                  false,
                  false,
                  false,
                  false,
                  false,
                  false,
                  false,
                  false,
                  false,
                  false
                 ]
                ],
                "label": "-9.0",
                "method": "restyle"
               },
               {
                "args": [
                 "visible",
                 [
                  false,
                  false,
                  true,
                  false,
                  false,
                  false,
                  false,
                  false,
                  false,
                  false,
                  false,
                  false,
                  false,
                  false,
                  false,
                  false,
                  false,
                  false,
                  false,
                  false,
                  false
                 ]
                ],
                "label": "-8.0",
                "method": "restyle"
               },
               {
                "args": [
                 "visible",
                 [
                  false,
                  false,
                  false,
                  true,
                  false,
                  false,
                  false,
                  false,
                  false,
                  false,
                  false,
                  false,
                  false,
                  false,
                  false,
                  false,
                  false,
                  false,
                  false,
                  false,
                  false
                 ]
                ],
                "label": "-7.0",
                "method": "restyle"
               },
               {
                "args": [
                 "visible",
                 [
                  false,
                  false,
                  false,
                  false,
                  true,
                  false,
                  false,
                  false,
                  false,
                  false,
                  false,
                  false,
                  false,
                  false,
                  false,
                  false,
                  false,
                  false,
                  false,
                  false,
                  false
                 ]
                ],
                "label": "-6.0",
                "method": "restyle"
               },
               {
                "args": [
                 "visible",
                 [
                  false,
                  false,
                  false,
                  false,
                  false,
                  true,
                  false,
                  false,
                  false,
                  false,
                  false,
                  false,
                  false,
                  false,
                  false,
                  false,
                  false,
                  false,
                  false,
                  false,
                  false
                 ]
                ],
                "label": "-5.0",
                "method": "restyle"
               },
               {
                "args": [
                 "visible",
                 [
                  false,
                  false,
                  false,
                  false,
                  false,
                  false,
                  true,
                  false,
                  false,
                  false,
                  false,
                  false,
                  false,
                  false,
                  false,
                  false,
                  false,
                  false,
                  false,
                  false,
                  false
                 ]
                ],
                "label": "-4.0",
                "method": "restyle"
               },
               {
                "args": [
                 "visible",
                 [
                  false,
                  false,
                  false,
                  false,
                  false,
                  false,
                  false,
                  true,
                  false,
                  false,
                  false,
                  false,
                  false,
                  false,
                  false,
                  false,
                  false,
                  false,
                  false,
                  false,
                  false
                 ]
                ],
                "label": "-3.0",
                "method": "restyle"
               },
               {
                "args": [
                 "visible",
                 [
                  false,
                  false,
                  false,
                  false,
                  false,
                  false,
                  false,
                  false,
                  true,
                  false,
                  false,
                  false,
                  false,
                  false,
                  false,
                  false,
                  false,
                  false,
                  false,
                  false,
                  false
                 ]
                ],
                "label": "-2.0",
                "method": "restyle"
               },
               {
                "args": [
                 "visible",
                 [
                  false,
                  false,
                  false,
                  false,
                  false,
                  false,
                  false,
                  false,
                  false,
                  true,
                  false,
                  false,
                  false,
                  false,
                  false,
                  false,
                  false,
                  false,
                  false,
                  false,
                  false
                 ]
                ],
                "label": "-1.0",
                "method": "restyle"
               },
               {
                "args": [
                 "visible",
                 [
                  false,
                  false,
                  false,
                  false,
                  false,
                  false,
                  false,
                  false,
                  false,
                  false,
                  true,
                  false,
                  false,
                  false,
                  false,
                  false,
                  false,
                  false,
                  false,
                  false,
                  false
                 ]
                ],
                "label": "0.0",
                "method": "restyle"
               },
               {
                "args": [
                 "visible",
                 [
                  false,
                  false,
                  false,
                  false,
                  false,
                  false,
                  false,
                  false,
                  false,
                  false,
                  false,
                  true,
                  false,
                  false,
                  false,
                  false,
                  false,
                  false,
                  false,
                  false,
                  false
                 ]
                ],
                "label": "1.0",
                "method": "restyle"
               },
               {
                "args": [
                 "visible",
                 [
                  false,
                  false,
                  false,
                  false,
                  false,
                  false,
                  false,
                  false,
                  false,
                  false,
                  false,
                  false,
                  true,
                  false,
                  false,
                  false,
                  false,
                  false,
                  false,
                  false,
                  false
                 ]
                ],
                "label": "2.0",
                "method": "restyle"
               },
               {
                "args": [
                 "visible",
                 [
                  false,
                  false,
                  false,
                  false,
                  false,
                  false,
                  false,
                  false,
                  false,
                  false,
                  false,
                  false,
                  false,
                  true,
                  false,
                  false,
                  false,
                  false,
                  false,
                  false,
                  false
                 ]
                ],
                "label": "3.0",
                "method": "restyle"
               },
               {
                "args": [
                 "visible",
                 [
                  false,
                  false,
                  false,
                  false,
                  false,
                  false,
                  false,
                  false,
                  false,
                  false,
                  false,
                  false,
                  false,
                  false,
                  true,
                  false,
                  false,
                  false,
                  false,
                  false,
                  false
                 ]
                ],
                "label": "4.0",
                "method": "restyle"
               },
               {
                "args": [
                 "visible",
                 [
                  false,
                  false,
                  false,
                  false,
                  false,
                  false,
                  false,
                  false,
                  false,
                  false,
                  false,
                  false,
                  false,
                  false,
                  false,
                  true,
                  false,
                  false,
                  false,
                  false,
                  false
                 ]
                ],
                "label": "5.0",
                "method": "restyle"
               },
               {
                "args": [
                 "visible",
                 [
                  false,
                  false,
                  false,
                  false,
                  false,
                  false,
                  false,
                  false,
                  false,
                  false,
                  false,
                  false,
                  false,
                  false,
                  false,
                  false,
                  true,
                  false,
                  false,
                  false,
                  false
                 ]
                ],
                "label": "6.0",
                "method": "restyle"
               },
               {
                "args": [
                 "visible",
                 [
                  false,
                  false,
                  false,
                  false,
                  false,
                  false,
                  false,
                  false,
                  false,
                  false,
                  false,
                  false,
                  false,
                  false,
                  false,
                  false,
                  false,
                  true,
                  false,
                  false,
                  false
                 ]
                ],
                "label": "7.0",
                "method": "restyle"
               },
               {
                "args": [
                 "visible",
                 [
                  false,
                  false,
                  false,
                  false,
                  false,
                  false,
                  false,
                  false,
                  false,
                  false,
                  false,
                  false,
                  false,
                  false,
                  false,
                  false,
                  false,
                  false,
                  true,
                  false,
                  false
                 ]
                ],
                "label": "8.0",
                "method": "restyle"
               },
               {
                "args": [
                 "visible",
                 [
                  false,
                  false,
                  false,
                  false,
                  false,
                  false,
                  false,
                  false,
                  false,
                  false,
                  false,
                  false,
                  false,
                  false,
                  false,
                  false,
                  false,
                  false,
                  false,
                  true,
                  false
                 ]
                ],
                "label": "9.0",
                "method": "restyle"
               },
               {
                "args": [
                 "visible",
                 [
                  false,
                  false,
                  false,
                  false,
                  false,
                  false,
                  false,
                  false,
                  false,
                  false,
                  false,
                  false,
                  false,
                  false,
                  false,
                  false,
                  false,
                  false,
                  false,
                  false,
                  true
                 ]
                ],
                "label": "10.0",
                "method": "restyle"
               }
              ]
             }
            ],
            "width": 500,
            "xaxis": {
             "dtick": 2,
             "gridcolor": "#bdbdbd",
             "gridwidth": 2,
             "linewidth": 2,
             "mirror": "ticks",
             "range": [
              -10,
              10
             ],
             "showgrid": false,
             "showline": true,
             "ticks": "inside",
             "zeroline": false,
             "zerolinewidth": 4
            },
            "yaxis": {
             "dtick": 2,
             "gridcolor": "#bdbdbd",
             "gridwidth": 2,
             "linewidth": 2,
             "mirror": "ticks",
             "range": [
              -10,
              10
             ],
             "showgrid": false,
             "showline": true,
             "ticks": "inside",
             "zeroline": false,
             "zerolinewidth": 4
            }
           }
          },
          "text/html": "<div id=\"7cab5240-a77f-4917-9462-f2751e2ada65\" style=\"height: 500px; width: 500px;\" class=\"plotly-graph-div\"></div><script type=\"text/javascript\">require([\"plotly\"], function(Plotly) { window.PLOTLYENV=window.PLOTLYENV || {};window.PLOTLYENV.BASE_URL=\"https://plot.ly\";Plotly.newPlot(\"7cab5240-a77f-4917-9462-f2751e2ada65\", [{\"x\": [-10.0, -9.797979797979798, -9.595959595959595, -9.393939393939394, -9.191919191919192, -8.98989898989899, -8.787878787878787, -8.585858585858587, -8.383838383838384, -8.181818181818182, -7.979797979797979, -7.777777777777778, -7.575757575757576, -7.373737373737374, -7.171717171717171, -6.96969696969697, -6.767676767676768, -6.565656565656566, -6.363636363636363, -6.161616161616162, -5.959595959595959, -5.757575757575758, -5.555555555555555, -5.353535353535354, -5.151515151515151, -4.94949494949495, -4.747474747474747, -4.545454545454546, -4.343434343434343, -4.141414141414142, -3.9393939393939394, -3.737373737373738, -3.5353535353535355, -3.333333333333333, -3.1313131313131315, -2.929292929292929, -2.7272727272727275, -2.525252525252525, -2.3232323232323235, -2.121212121212121, -1.9191919191919187, -1.717171717171718, -1.5151515151515156, -1.3131313131313131, -1.1111111111111107, -0.9090909090909101, -0.7070707070707076, -0.5050505050505052, -0.30303030303030276, -0.10101010101010033, 0.10101010101010033, 0.30303030303030276, 0.5050505050505052, 0.7070707070707076, 0.9090909090909083, 1.1111111111111107, 1.3131313131313131, 1.5151515151515156, 1.7171717171717162, 1.9191919191919187, 2.121212121212121, 2.3232323232323235, 2.525252525252524, 2.7272727272727266, 2.929292929292929, 3.1313131313131315, 3.333333333333334, 3.5353535353535346, 3.737373737373737, 3.9393939393939394, 4.141414141414142, 4.3434343434343425, 4.545454545454545, 4.747474747474747, 4.94949494949495, 5.1515151515151505, 5.353535353535353, 5.555555555555555, 5.757575757575758, 5.9595959595959584, 6.161616161616163, 6.363636363636363, 6.565656565656564, 6.767676767676768, 6.969696969696969, 7.171717171717173, 7.373737373737374, 7.575757575757574, 7.777777777777779, 7.979797979797979, 8.18181818181818, 8.383838383838384, 8.585858585858585, 8.787878787878789, 8.98989898989899, 9.19191919191919, 9.393939393939394, 9.595959595959595, 9.7979797979798, 10.0], \"y\": [2.0, 2.0, 2.0, 2.0, 2.0, 2.0, 2.0, 2.0, 2.0, 2.0, 2.0, 2.0, 2.0, 2.0, 2.0, 2.0, 2.0, 2.0, 2.0, 2.0, 2.0, 2.0, 2.0, 2.0, 2.0, 2.0, 2.0, 2.0, 2.0, 2.0, 2.0, 2.0, 2.0, 2.0, 2.0, 2.0, 2.0, 2.0, 2.0, 2.0, 2.0, 2.0, 2.0, 2.0, 2.0, 2.0, 2.0, 2.0, 2.0, 2.0, 2.0, 2.0, 2.0, 2.0, 2.0, 2.0, 2.0, 2.0, 2.0, 2.0, 2.0, 2.0, 2.0, 2.0, 2.0, 2.0, 2.0, 2.0, 2.0, 2.0, 2.0, 2.0, 2.0, 2.0, 2.0, 2.0, 2.0, 2.0, 2.0, 2.0, 2.0, 2.0, 2.0, 2.0, 2.0, 2.0, 2.0, 2.0, 2.0, 2.0, 2.0, 2.0, 2.0, 2.0, 2.0, 2.0, 2.0, 2.0, 2.0, 2.0], \"type\": \"scatter\", \"uid\": \"e02fff2f-2cef-41c3-8b30-28571cf04449\"}], {\"autosize\": false, \"height\": 500, \"margin\": {\"b\": 100, \"l\": 50, \"pad\": 4, \"r\": 50, \"t\": 100}, \"sliders\": [{\"active\": 10, \"currentvalue\": {\"prefix\": \"Frequency: \"}, \"pad\": {\"t\": 50}, \"steps\": [{\"args\": [\"visible\", [true, false, false, false, false, false, false, false, false, false, false, false, false, false, false, false, false, false, false, false, false]], \"label\": \"-10.0\", \"method\": \"restyle\"}, {\"args\": [\"visible\", [false, true, false, false, false, false, false, false, false, false, false, false, false, false, false, false, false, false, false, false, false]], \"label\": \"-9.0\", \"method\": \"restyle\"}, {\"args\": [\"visible\", [false, false, true, false, false, false, false, false, false, false, false, false, false, false, false, false, false, false, false, false, false]], \"label\": \"-8.0\", \"method\": \"restyle\"}, {\"args\": [\"visible\", [false, false, false, true, false, false, false, false, false, false, false, false, false, false, false, false, false, false, false, false, false]], \"label\": \"-7.0\", \"method\": \"restyle\"}, {\"args\": [\"visible\", [false, false, false, false, true, false, false, false, false, false, false, false, false, false, false, false, false, false, false, false, false]], \"label\": \"-6.0\", \"method\": \"restyle\"}, {\"args\": [\"visible\", [false, false, false, false, false, true, false, false, false, false, false, false, false, false, false, false, false, false, false, false, false]], \"label\": \"-5.0\", \"method\": \"restyle\"}, {\"args\": [\"visible\", [false, false, false, false, false, false, true, false, false, false, false, false, false, false, false, false, false, false, false, false, false]], \"label\": \"-4.0\", \"method\": \"restyle\"}, {\"args\": [\"visible\", [false, false, false, false, false, false, false, true, false, false, false, false, false, false, false, false, false, false, false, false, false]], \"label\": \"-3.0\", \"method\": \"restyle\"}, {\"args\": [\"visible\", [false, false, false, false, false, false, false, false, true, false, false, false, false, false, false, false, false, false, false, false, false]], \"label\": \"-2.0\", \"method\": \"restyle\"}, {\"args\": [\"visible\", [false, false, false, false, false, false, false, false, false, true, false, false, false, false, false, false, false, false, false, false, false]], \"label\": \"-1.0\", \"method\": \"restyle\"}, {\"args\": [\"visible\", [false, false, false, false, false, false, false, false, false, false, true, false, false, false, false, false, false, false, false, false, false]], \"label\": \"0.0\", \"method\": \"restyle\"}, {\"args\": [\"visible\", [false, false, false, false, false, false, false, false, false, false, false, true, false, false, false, false, false, false, false, false, false]], \"label\": \"1.0\", \"method\": \"restyle\"}, {\"args\": [\"visible\", [false, false, false, false, false, false, false, false, false, false, false, false, true, false, false, false, false, false, false, false, false]], \"label\": \"2.0\", \"method\": \"restyle\"}, {\"args\": [\"visible\", [false, false, false, false, false, false, false, false, false, false, false, false, false, true, false, false, false, false, false, false, false]], \"label\": \"3.0\", \"method\": \"restyle\"}, {\"args\": [\"visible\", [false, false, false, false, false, false, false, false, false, false, false, false, false, false, true, false, false, false, false, false, false]], \"label\": \"4.0\", \"method\": \"restyle\"}, {\"args\": [\"visible\", [false, false, false, false, false, false, false, false, false, false, false, false, false, false, false, true, false, false, false, false, false]], \"label\": \"5.0\", \"method\": \"restyle\"}, {\"args\": [\"visible\", [false, false, false, false, false, false, false, false, false, false, false, false, false, false, false, false, true, false, false, false, false]], \"label\": \"6.0\", \"method\": \"restyle\"}, {\"args\": [\"visible\", [false, false, false, false, false, false, false, false, false, false, false, false, false, false, false, false, false, true, false, false, false]], \"label\": \"7.0\", \"method\": \"restyle\"}, {\"args\": [\"visible\", [false, false, false, false, false, false, false, false, false, false, false, false, false, false, false, false, false, false, true, false, false]], \"label\": \"8.0\", \"method\": \"restyle\"}, {\"args\": [\"visible\", [false, false, false, false, false, false, false, false, false, false, false, false, false, false, false, false, false, false, false, true, false]], \"label\": \"9.0\", \"method\": \"restyle\"}, {\"args\": [\"visible\", [false, false, false, false, false, false, false, false, false, false, false, false, false, false, false, false, false, false, false, false, true]], \"label\": \"10.0\", \"method\": \"restyle\"}]}], \"width\": 500, \"xaxis\": {\"dtick\": 2, \"gridcolor\": \"#bdbdbd\", \"gridwidth\": 2, \"linewidth\": 2, \"mirror\": \"ticks\", \"range\": [-10, 10], \"showgrid\": false, \"showline\": true, \"ticks\": \"inside\", \"zeroline\": false, \"zerolinewidth\": 4}, \"yaxis\": {\"dtick\": 2, \"gridcolor\": \"#bdbdbd\", \"gridwidth\": 2, \"linewidth\": 2, \"mirror\": \"ticks\", \"range\": [-10, 10], \"showgrid\": false, \"showline\": true, \"ticks\": \"inside\", \"zeroline\": false, \"zerolinewidth\": 4}}, {\"showLink\": true, \"linkText\": \"Export to plot.ly\"})});</script>",
          "text/vnd.plotly.v1+html": "<div id=\"7cab5240-a77f-4917-9462-f2751e2ada65\" style=\"height: 500px; width: 500px;\" class=\"plotly-graph-div\"></div><script type=\"text/javascript\">require([\"plotly\"], function(Plotly) { window.PLOTLYENV=window.PLOTLYENV || {};window.PLOTLYENV.BASE_URL=\"https://plot.ly\";Plotly.newPlot(\"7cab5240-a77f-4917-9462-f2751e2ada65\", [{\"x\": [-10.0, -9.797979797979798, -9.595959595959595, -9.393939393939394, -9.191919191919192, -8.98989898989899, -8.787878787878787, -8.585858585858587, -8.383838383838384, -8.181818181818182, -7.979797979797979, -7.777777777777778, -7.575757575757576, -7.373737373737374, -7.171717171717171, -6.96969696969697, -6.767676767676768, -6.565656565656566, -6.363636363636363, -6.161616161616162, -5.959595959595959, -5.757575757575758, -5.555555555555555, -5.353535353535354, -5.151515151515151, -4.94949494949495, -4.747474747474747, -4.545454545454546, -4.343434343434343, -4.141414141414142, -3.9393939393939394, -3.737373737373738, -3.5353535353535355, -3.333333333333333, -3.1313131313131315, -2.929292929292929, -2.7272727272727275, -2.525252525252525, -2.3232323232323235, -2.121212121212121, -1.9191919191919187, -1.717171717171718, -1.5151515151515156, -1.3131313131313131, -1.1111111111111107, -0.9090909090909101, -0.7070707070707076, -0.5050505050505052, -0.30303030303030276, -0.10101010101010033, 0.10101010101010033, 0.30303030303030276, 0.5050505050505052, 0.7070707070707076, 0.9090909090909083, 1.1111111111111107, 1.3131313131313131, 1.5151515151515156, 1.7171717171717162, 1.9191919191919187, 2.121212121212121, 2.3232323232323235, 2.525252525252524, 2.7272727272727266, 2.929292929292929, 3.1313131313131315, 3.333333333333334, 3.5353535353535346, 3.737373737373737, 3.9393939393939394, 4.141414141414142, 4.3434343434343425, 4.545454545454545, 4.747474747474747, 4.94949494949495, 5.1515151515151505, 5.353535353535353, 5.555555555555555, 5.757575757575758, 5.9595959595959584, 6.161616161616163, 6.363636363636363, 6.565656565656564, 6.767676767676768, 6.969696969696969, 7.171717171717173, 7.373737373737374, 7.575757575757574, 7.777777777777779, 7.979797979797979, 8.18181818181818, 8.383838383838384, 8.585858585858585, 8.787878787878789, 8.98989898989899, 9.19191919191919, 9.393939393939394, 9.595959595959595, 9.7979797979798, 10.0], \"y\": [2.0, 2.0, 2.0, 2.0, 2.0, 2.0, 2.0, 2.0, 2.0, 2.0, 2.0, 2.0, 2.0, 2.0, 2.0, 2.0, 2.0, 2.0, 2.0, 2.0, 2.0, 2.0, 2.0, 2.0, 2.0, 2.0, 2.0, 2.0, 2.0, 2.0, 2.0, 2.0, 2.0, 2.0, 2.0, 2.0, 2.0, 2.0, 2.0, 2.0, 2.0, 2.0, 2.0, 2.0, 2.0, 2.0, 2.0, 2.0, 2.0, 2.0, 2.0, 2.0, 2.0, 2.0, 2.0, 2.0, 2.0, 2.0, 2.0, 2.0, 2.0, 2.0, 2.0, 2.0, 2.0, 2.0, 2.0, 2.0, 2.0, 2.0, 2.0, 2.0, 2.0, 2.0, 2.0, 2.0, 2.0, 2.0, 2.0, 2.0, 2.0, 2.0, 2.0, 2.0, 2.0, 2.0, 2.0, 2.0, 2.0, 2.0, 2.0, 2.0, 2.0, 2.0, 2.0, 2.0, 2.0, 2.0, 2.0, 2.0], \"type\": \"scatter\", \"uid\": \"e02fff2f-2cef-41c3-8b30-28571cf04449\"}], {\"autosize\": false, \"height\": 500, \"margin\": {\"b\": 100, \"l\": 50, \"pad\": 4, \"r\": 50, \"t\": 100}, \"sliders\": [{\"active\": 10, \"currentvalue\": {\"prefix\": \"Frequency: \"}, \"pad\": {\"t\": 50}, \"steps\": [{\"args\": [\"visible\", [true, false, false, false, false, false, false, false, false, false, false, false, false, false, false, false, false, false, false, false, false]], \"label\": \"-10.0\", \"method\": \"restyle\"}, {\"args\": [\"visible\", [false, true, false, false, false, false, false, false, false, false, false, false, false, false, false, false, false, false, false, false, false]], \"label\": \"-9.0\", \"method\": \"restyle\"}, {\"args\": [\"visible\", [false, false, true, false, false, false, false, false, false, false, false, false, false, false, false, false, false, false, false, false, false]], \"label\": \"-8.0\", \"method\": \"restyle\"}, {\"args\": [\"visible\", [false, false, false, true, false, false, false, false, false, false, false, false, false, false, false, false, false, false, false, false, false]], \"label\": \"-7.0\", \"method\": \"restyle\"}, {\"args\": [\"visible\", [false, false, false, false, true, false, false, false, false, false, false, false, false, false, false, false, false, false, false, false, false]], \"label\": \"-6.0\", \"method\": \"restyle\"}, {\"args\": [\"visible\", [false, false, false, false, false, true, false, false, false, false, false, false, false, false, false, false, false, false, false, false, false]], \"label\": \"-5.0\", \"method\": \"restyle\"}, {\"args\": [\"visible\", [false, false, false, false, false, false, true, false, false, false, false, false, false, false, false, false, false, false, false, false, false]], \"label\": \"-4.0\", \"method\": \"restyle\"}, {\"args\": [\"visible\", [false, false, false, false, false, false, false, true, false, false, false, false, false, false, false, false, false, false, false, false, false]], \"label\": \"-3.0\", \"method\": \"restyle\"}, {\"args\": [\"visible\", [false, false, false, false, false, false, false, false, true, false, false, false, false, false, false, false, false, false, false, false, false]], \"label\": \"-2.0\", \"method\": \"restyle\"}, {\"args\": [\"visible\", [false, false, false, false, false, false, false, false, false, true, false, false, false, false, false, false, false, false, false, false, false]], \"label\": \"-1.0\", \"method\": \"restyle\"}, {\"args\": [\"visible\", [false, false, false, false, false, false, false, false, false, false, true, false, false, false, false, false, false, false, false, false, false]], \"label\": \"0.0\", \"method\": \"restyle\"}, {\"args\": [\"visible\", [false, false, false, false, false, false, false, false, false, false, false, true, false, false, false, false, false, false, false, false, false]], \"label\": \"1.0\", \"method\": \"restyle\"}, {\"args\": [\"visible\", [false, false, false, false, false, false, false, false, false, false, false, false, true, false, false, false, false, false, false, false, false]], \"label\": \"2.0\", \"method\": \"restyle\"}, {\"args\": [\"visible\", [false, false, false, false, false, false, false, false, false, false, false, false, false, true, false, false, false, false, false, false, false]], \"label\": \"3.0\", \"method\": \"restyle\"}, {\"args\": [\"visible\", [false, false, false, false, false, false, false, false, false, false, false, false, false, false, true, false, false, false, false, false, false]], \"label\": \"4.0\", \"method\": \"restyle\"}, {\"args\": [\"visible\", [false, false, false, false, false, false, false, false, false, false, false, false, false, false, false, true, false, false, false, false, false]], \"label\": \"5.0\", \"method\": \"restyle\"}, {\"args\": [\"visible\", [false, false, false, false, false, false, false, false, false, false, false, false, false, false, false, false, true, false, false, false, false]], \"label\": \"6.0\", \"method\": \"restyle\"}, {\"args\": [\"visible\", [false, false, false, false, false, false, false, false, false, false, false, false, false, false, false, false, false, true, false, false, false]], \"label\": \"7.0\", \"method\": \"restyle\"}, {\"args\": [\"visible\", [false, false, false, false, false, false, false, false, false, false, false, false, false, false, false, false, false, false, true, false, false]], \"label\": \"8.0\", \"method\": \"restyle\"}, {\"args\": [\"visible\", [false, false, false, false, false, false, false, false, false, false, false, false, false, false, false, false, false, false, false, true, false]], \"label\": \"9.0\", \"method\": \"restyle\"}, {\"args\": [\"visible\", [false, false, false, false, false, false, false, false, false, false, false, false, false, false, false, false, false, false, false, false, true]], \"label\": \"10.0\", \"method\": \"restyle\"}]}], \"width\": 500, \"xaxis\": {\"dtick\": 2, \"gridcolor\": \"#bdbdbd\", \"gridwidth\": 2, \"linewidth\": 2, \"mirror\": \"ticks\", \"range\": [-10, 10], \"showgrid\": false, \"showline\": true, \"ticks\": \"inside\", \"zeroline\": false, \"zerolinewidth\": 4}, \"yaxis\": {\"dtick\": 2, \"gridcolor\": \"#bdbdbd\", \"gridwidth\": 2, \"linewidth\": 2, \"mirror\": \"ticks\", \"range\": [-10, 10], \"showgrid\": false, \"showline\": true, \"ticks\": \"inside\", \"zeroline\": false, \"zerolinewidth\": 4}}, {\"showLink\": true, \"linkText\": \"Export to plot.ly\"})});</script>"
         },
         "metadata": {},
         "output_type": "display_data"
        }
       ]
      }
     },
     "0dc9c372ebf9429d9382d0f2db48a59b": {
      "model_module": "@jupyter-widgets/base",
      "model_module_version": "1.0.0",
      "model_name": "LayoutModel",
      "state": {}
     },
     "107c2febc6ea4883a28f9b90d40d68ac": {
      "model_module": "@jupyter-widgets/controls",
      "model_module_version": "1.0.0",
      "model_name": "SliderStyleModel",
      "state": {
       "description_width": ""
      }
     },
     "1181e2af347741b0bdddb1d24210d137": {
      "model_module": "@jupyter-widgets/controls",
      "model_module_version": "1.0.0",
      "model_name": "VBoxModel",
      "state": {
       "_dom_classes": [
        "widget-interact"
       ],
       "children": [
        "IPY_MODEL_b0a26be517f04dc39779685203f33145",
        "IPY_MODEL_07090457f55842b192420f956b080274",
        "IPY_MODEL_35a1b80d54f243b8ac08423296a133d0"
       ],
       "layout": "IPY_MODEL_a5c92d500b95420e8528b02aa413f4a9"
      }
     },
     "141b6da0d5a2471bb2e4aebd4209eb4a": {
      "model_module": "@jupyter-widgets/controls",
      "model_module_version": "1.0.0",
      "model_name": "SliderStyleModel",
      "state": {
       "description_width": ""
      }
     },
     "199375f41d244c5182ca24a4b6795757": {
      "model_module": "@jupyter-widgets/controls",
      "model_module_version": "1.0.0",
      "model_name": "SliderStyleModel",
      "state": {
       "description_width": ""
      }
     },
     "1b0ddc98a456461cbbf8ea7f8ec61265": {
      "model_module": "@jupyter-widgets/output",
      "model_module_version": "1.0.0",
      "model_name": "OutputModel",
      "state": {
       "layout": "IPY_MODEL_a2e39aabddaa47719600c31becb5d07c",
       "outputs": [
        {
         "data": {
          "image/png": "iVBORw0KGgoAAAANSUhEUgAAAsgAAAI4CAYAAAB3OR9vAAAABHNCSVQICAgIfAhkiAAAAAlwSFlz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\nERFxoYIsIiIiIuJCBVlERERExMX/AxZSTgqYJFseAAAAAElFTkSuQmCC\n",
          "text/plain": "<matplotlib.figure.Figure at 0x1b11c8d0>"
         },
         "metadata": {},
         "output_type": "display_data"
        }
       ]
      }
     },
     "1e07a5987cf04619912e421d8022dd84": {
      "model_module": "@jupyter-widgets/controls",
      "model_module_version": "1.0.0",
      "model_name": "FloatSliderModel",
      "state": {
       "description": "$\\Phi$",
       "layout": "IPY_MODEL_d4fca292c5654d5d8f30e5f9f6221680",
       "max": 5,
       "min": -5,
       "readout_format": ".4f",
       "step": 0.1,
       "style": "IPY_MODEL_4323f0ba3a694d9e8d7368d73039c5b6",
       "value": -3
      }
     },
     "1e2b2d8216fc4ca4abe805ba67c1edaf": {
      "model_module": "@jupyter-widgets/base",
      "model_module_version": "1.0.0",
      "model_name": "LayoutModel",
      "state": {}
     },
     "22c27e198695402db7ca60626dbee546": {
      "model_module": "@jupyter-widgets/controls",
      "model_module_version": "1.0.0",
      "model_name": "FloatSliderModel",
      "state": {
       "description": "$\\Psi$",
       "layout": "IPY_MODEL_c5f2462680ae4519a07ae72da28638dd",
       "max": 5,
       "min": -5,
       "readout_format": ".4f",
       "step": 0.1,
       "style": "IPY_MODEL_9321cbc887c94b509af0a3d4d8c3b7c0"
      }
     },
     "22ffca6863144767a1c5a5a525ef1894": {
      "model_module": "@jupyter-widgets/controls",
      "model_module_version": "1.0.0",
      "model_name": "SliderStyleModel",
      "state": {
       "description_width": ""
      }
     },
     "232108b15d66494d8f00fcf256ee57d6": {
      "model_module": "@jupyter-widgets/controls",
      "model_module_version": "1.0.0",
      "model_name": "SliderStyleModel",
      "state": {
       "description_width": ""
      }
     },
     "2d3a7c6e3fb34d31a78fea7b8760ff55": {
      "model_module": "@jupyter-widgets/base",
      "model_module_version": "1.0.0",
      "model_name": "LayoutModel",
      "state": {
       "height": "30px",
       "width": "500px"
      }
     },
     "2ff25f4988d34749bf4711e3e339afdd": {
      "model_module": "@jupyter-widgets/controls",
      "model_module_version": "1.0.0",
      "model_name": "FloatSliderModel",
      "state": {
       "description": "$\\Psi$",
       "layout": "IPY_MODEL_3a19faf5e4de444a91501ca2d28a2994",
       "max": 5,
       "min": -5,
       "readout_format": ".4f",
       "step": 0.1,
       "style": "IPY_MODEL_a5e3749a20544616a9f60a6e313d2cf1"
      }
     },
     "31d0b675a39f4eb9b4fec0adc24d854f": {
      "model_module": "@jupyter-widgets/controls",
      "model_module_version": "1.0.0",
      "model_name": "SliderStyleModel",
      "state": {
       "description_width": ""
      }
     },
     "3340b65a0d3d4301abd2d1b2a2c49b9f": {
      "model_module": "@jupyter-widgets/base",
      "model_module_version": "1.0.0",
      "model_name": "LayoutModel",
      "state": {
       "height": "30px",
       "width": "500px"
      }
     },
     "35117f2d26564c2b95df15247b448e0f": {
      "model_module": "@jupyter-widgets/base",
      "model_module_version": "1.0.0",
      "model_name": "LayoutModel",
      "state": {}
     },
     "35a1b80d54f243b8ac08423296a133d0": {
      "model_module": "@jupyter-widgets/output",
      "model_module_version": "1.0.0",
      "model_name": "OutputModel",
      "state": {
       "layout": "IPY_MODEL_517b9afdc27746c1893aed67440c6726",
       "outputs": [
        {
         "data": {
          "image/png": "iVBORw0KGgoAAAANSUhEUgAAAsgAAAI4CAYAAAB3OR9vAAAABHNCSVQICAgIfAhkiAAAAAlwSFlz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\nAAAAAElFTkSuQmCC\n",
          "text/plain": "<matplotlib.figure.Figure at 0x1f5a39e8>"
         },
         "metadata": {},
         "output_type": "display_data"
        }
       ]
      }
     },
     "384b14c8fa2c4a61834bb38e8f3819ef": {
      "model_module": "@jupyter-widgets/base",
      "model_module_version": "1.0.0",
      "model_name": "LayoutModel",
      "state": {}
     },
     "39f725f18eaa4ee19150278004e60c68": {
      "model_module": "@jupyter-widgets/controls",
      "model_module_version": "1.0.0",
      "model_name": "FloatSliderModel",
      "state": {
       "description": "$\\Psi$",
       "layout": "IPY_MODEL_da7c42c1e5984fa4a3da124c25b818fa",
       "max": 0.01,
       "min": -0.01,
       "readout_format": ".4f",
       "step": 0.00025,
       "style": "IPY_MODEL_bd42b7da1b9a469789c0d42c5022826c",
       "value": 0.006
      }
     },
     "3a19faf5e4de444a91501ca2d28a2994": {
      "model_module": "@jupyter-widgets/base",
      "model_module_version": "1.0.0",
      "model_name": "LayoutModel",
      "state": {
       "height": "30px",
       "width": "500px"
      }
     },
     "3c0bf3d4faaf420f9ba77f94d772eb7f": {
      "model_module": "@jupyter-widgets/controls",
      "model_module_version": "1.0.0",
      "model_name": "FloatSliderModel",
      "state": {
       "description": "$\\Phi$",
       "layout": "IPY_MODEL_ce4645f8b1af4095b0ce9f175e76af76",
       "max": 0.01,
       "min": -0.01,
       "readout_format": ".4f",
       "step": 0.00025,
       "style": "IPY_MODEL_141b6da0d5a2471bb2e4aebd4209eb4a",
       "value": 0.005
      }
     },
     "3cd76212a0d549e799efe66be55d1ecc": {
      "model_module": "@jupyter-widgets/controls",
      "model_module_version": "1.0.0",
      "model_name": "FloatSliderModel",
      "state": {
       "description": "$C$",
       "layout": "IPY_MODEL_384b14c8fa2c4a61834bb38e8f3819ef",
       "max": 9,
       "min": -9,
       "style": "IPY_MODEL_d122a065b2df4419b4bc95cdc517dfc3",
       "value": 2
      }
     },
     "3d715a266f0c43a9ab20bb272f5e57ad": {
      "model_module": "@jupyter-widgets/controls",
      "model_module_version": "1.0.0",
      "model_name": "FloatSliderModel",
      "state": {
       "description": "$\\kappa$",
       "layout": "IPY_MODEL_43de35a5bd464689bf1683583c836974",
       "max": 0.1,
       "min": 0.0001,
       "readout_format": ".4f",
       "step": 0.00025,
       "style": "IPY_MODEL_0473505f859b4094b494b21f2a6e5b66",
       "value": 0.0156
      }
     },
     "3d9bd50c174a49828be06ad6da723b23": {
      "model_module": "@jupyter-widgets/controls",
      "model_module_version": "1.0.0",
      "model_name": "FloatSliderModel",
      "state": {
       "description": "$\\Psi$",
       "layout": "IPY_MODEL_8900c37d628846c0b73a02961edd5183",
       "max": 10,
       "min": -10,
       "readout_format": ".4f",
       "step": 0.1,
       "style": "IPY_MODEL_d269aa8acdb3447988e5d937b5c563ab"
      }
     },
     "3f41fc4524354f3e9bdefaf91e5d79fc": {
      "model_module": "@jupyter-widgets/base",
      "model_module_version": "1.0.0",
      "model_name": "LayoutModel",
      "state": {}
     },
     "3f5b18d1eb2a470b9dd34b45bbc14a7d": {
      "model_module": "@jupyter-widgets/controls",
      "model_module_version": "1.0.0",
      "model_name": "VBoxModel",
      "state": {
       "_dom_classes": [
        "widget-interact"
       ],
       "children": [
        "IPY_MODEL_2ff25f4988d34749bf4711e3e339afdd",
        "IPY_MODEL_1e07a5987cf04619912e421d8022dd84",
        "IPY_MODEL_0226735ea8004426ba2798e345452fdf",
        "IPY_MODEL_bb2c1f861ec649be900dc195c76c5f32"
       ],
       "layout": "IPY_MODEL_5e7d7aa240db47c9b39da8eb966d0051"
      }
     },
     "4323f0ba3a694d9e8d7368d73039c5b6": {
      "model_module": "@jupyter-widgets/controls",
      "model_module_version": "1.0.0",
      "model_name": "SliderStyleModel",
      "state": {
       "description_width": ""
      }
     },
     "432c4bf2468d4d0babb80719e24e5873": {
      "model_module": "@jupyter-widgets/base",
      "model_module_version": "1.0.0",
      "model_name": "LayoutModel",
      "state": {}
     },
     "43de35a5bd464689bf1683583c836974": {
      "model_module": "@jupyter-widgets/base",
      "model_module_version": "1.0.0",
      "model_name": "LayoutModel",
      "state": {
       "height": "30px",
       "width": "500px"
      }
     },
     "440de637ad524490b372c8b561b23120": {
      "model_module": "@jupyter-widgets/controls",
      "model_module_version": "1.0.0",
      "model_name": "SliderStyleModel",
      "state": {
       "description_width": ""
      }
     },
     "4547fb59be2a4e728e4aa4e48ab01a7f": {
      "model_module": "@jupyter-widgets/base",
      "model_module_version": "1.0.0",
      "model_name": "LayoutModel",
      "state": {
       "height": "30px",
       "width": "500px"
      }
     },
     "46d331466e654e618a5a0975e611e6ab": {
      "model_module": "@jupyter-widgets/controls",
      "model_module_version": "1.0.0",
      "model_name": "VBoxModel",
      "state": {
       "_dom_classes": [
        "widget-interact"
       ],
       "children": [
        "IPY_MODEL_820b8bdd054648d2a97b959d612969ae",
        "IPY_MODEL_82d576fb1fd845ad9544e792cce01d56",
        "IPY_MODEL_cc6a850ea6ff431d9d41ddeb28c4d08d",
        "IPY_MODEL_8a27d4e10d5148e48228a6b72e697499"
       ],
       "layout": "IPY_MODEL_8e754b9068cb40b5b1f2b9668bc552e9"
      }
     },
     "49923c3c65d34403ae543cc36d501b7b": {
      "model_module": "@jupyter-widgets/base",
      "model_module_version": "1.0.0",
      "model_name": "LayoutModel",
      "state": {
       "height": "30px",
       "width": "500px"
      }
     },
     "4e00c1b1bbd844a3ae18d202f91a78dd": {
      "model_module": "@jupyter-widgets/output",
      "model_module_version": "1.0.0",
      "model_name": "OutputModel",
      "state": {
       "layout": "IPY_MODEL_98cf9243eb5849938fde978cf357715d",
       "outputs": [
        {
         "data": {
          "image/png": "iVBORw0KGgoAAAANSUhEUgAAAsgAAAI4CAYAAAB3OR9vAAAABHNCSVQICAgIfAhkiAAAAAlwSFlz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\nERERkRRUkEVEREREUvh/e6gGLKexGuwAAAAASUVORK5CYII=\n",
          "text/plain": "<matplotlib.figure.Figure at 0x1f5d4668>"
         },
         "metadata": {},
         "output_type": "display_data"
        }
       ]
      }
     },
     "4e6c9914d54f4ab989c5959bc233cd6a": {
      "model_module": "@jupyter-widgets/output",
      "model_module_version": "1.0.0",
      "model_name": "OutputModel",
      "state": {
       "layout": "IPY_MODEL_f41e9e2700fe4bc4b5ead45fdb5c910e",
       "outputs": [
        {
         "data": {
          "image/png": "iVBORw0KGgoAAAANSUhEUgAAAsgAAAI4CAYAAAB3OR9vAAAABHNCSVQICAgIfAhkiAAAAAlwSFlz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\nAElFTkSuQmCC\n",
          "text/plain": "<matplotlib.figure.Figure at 0x1f86f898>"
         },
         "metadata": {},
         "output_type": "display_data"
        }
       ]
      }
     },
     "4f815bf7ecc843aaa3d15e1ef71188cc": {
      "model_module": "@jupyter-widgets/controls",
      "model_module_version": "1.0.0",
      "model_name": "FloatSliderModel",
      "state": {
       "description": "$\\Phi$",
       "layout": "IPY_MODEL_9d712e0c826643619d4e499b87a71745",
       "max": 0.01,
       "min": -0.01,
       "readout_format": ".4f",
       "step": 0.00025,
       "style": "IPY_MODEL_fb57d67f92174429aeb79cedfb1faf41",
       "value": 0.001
      }
     },
     "517b9afdc27746c1893aed67440c6726": {
      "model_module": "@jupyter-widgets/base",
      "model_module_version": "1.0.0",
      "model_name": "LayoutModel",
      "state": {}
     },
     "59f47ed76ac14c90a16939acd2acc779": {
      "model_module": "@jupyter-widgets/base",
      "model_module_version": "1.0.0",
      "model_name": "LayoutModel",
      "state": {}
     },
     "5d4f942796d94c6e9d251819525685ab": {
      "model_module": "@jupyter-widgets/controls",
      "model_module_version": "1.0.0",
      "model_name": "VBoxModel",
      "state": {
       "_dom_classes": [
        "widget-interact"
       ],
       "children": [
        "IPY_MODEL_22c27e198695402db7ca60626dbee546",
        "IPY_MODEL_99945cda9e6341299a4ac3b426a79eb2",
        "IPY_MODEL_5dbc092c2dab42cc9366d420cf3b6b33",
        "IPY_MODEL_8b64367dbca64fedaa123a7173c8cef0",
        "IPY_MODEL_4e00c1b1bbd844a3ae18d202f91a78dd"
       ],
       "layout": "IPY_MODEL_f326264b2fcb4a769aabd034ea6f0694"
      }
     },
     "5dbc092c2dab42cc9366d420cf3b6b33": {
      "model_module": "@jupyter-widgets/controls",
      "model_module_version": "1.0.0",
      "model_name": "FloatSliderModel",
      "state": {
       "description": "$\\kappa$",
       "layout": "IPY_MODEL_82e5f88c19404963b9363f6896f1942b",
       "max": 60,
       "readout_format": ".4f",
       "step": 2,
       "style": "IPY_MODEL_232108b15d66494d8f00fcf256ee57d6",
       "value": 32
      }
     },
     "5e7d7aa240db47c9b39da8eb966d0051": {
      "model_module": "@jupyter-widgets/base",
      "model_module_version": "1.0.0",
      "model_name": "LayoutModel",
      "state": {}
     },
     "6213d10f8c1c4041a1405c4f340f481e": {
      "model_module": "@jupyter-widgets/controls",
      "model_module_version": "1.0.0",
      "model_name": "SliderStyleModel",
      "state": {
       "description_width": ""
      }
     },
     "6864d457a430499badbb9ada550e44b4": {
      "model_module": "@jupyter-widgets/output",
      "model_module_version": "1.0.0",
      "model_name": "OutputModel",
      "state": {
       "layout": "IPY_MODEL_3f41fc4524354f3e9bdefaf91e5d79fc",
       "outputs": [
        {
         "data": {
          "image/png": "iVBORw0KGgoAAAANSUhEUgAAAsgAAAI4CAYAAAB3OR9vAAAABHNCSVQICAgIfAhkiAAAAAlwSFlz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\n/h+upjPHYx3FCAAAAABJRU5ErkJggg==\n",
          "text/plain": "<matplotlib.figure.Figure at 0x1b0bee48>"
         },
         "metadata": {},
         "output_type": "display_data"
        }
       ]
      }
     },
     "6cb5603f4b5944459375e45b96c4d93a": {
      "model_module": "@jupyter-widgets/base",
      "model_module_version": "1.0.0",
      "model_name": "LayoutModel",
      "state": {
       "height": "30px",
       "width": "500px"
      }
     },
     "721a2398060f4330bfbdea926b045db1": {
      "model_module": "@jupyter-widgets/controls",
      "model_module_version": "1.0.0",
      "model_name": "SliderStyleModel",
      "state": {
       "description_width": ""
      }
     },
     "77a53152fbaa46468ca596dbafb87337": {
      "model_module": "@jupyter-widgets/base",
      "model_module_version": "1.0.0",
      "model_name": "LayoutModel",
      "state": {
       "height": "30px",
       "width": "500px"
      }
     },
     "785eb4dd693647fc86735194df3c7e40": {
      "model_module": "@jupyter-widgets/controls",
      "model_module_version": "1.0.0",
      "model_name": "VBoxModel",
      "state": {
       "_dom_classes": [
        "widget-interact"
       ],
       "children": [
        "IPY_MODEL_e7c6790184734f1ba49d98601acc2ed0",
        "IPY_MODEL_9fe8dcc7c60745d9a8efec2bb99ad891",
        "IPY_MODEL_3d715a266f0c43a9ab20bb272f5e57ad",
        "IPY_MODEL_1b0ddc98a456461cbbf8ea7f8ec61265"
       ],
       "layout": "IPY_MODEL_0dc9c372ebf9429d9382d0f2db48a59b"
      }
     },
     "78621ecb5cbd4ccc87387266f63106bf": {
      "model_module": "@jupyter-widgets/controls",
      "model_module_version": "1.0.0",
      "model_name": "SliderStyleModel",
      "state": {
       "description_width": ""
      }
     },
     "7d0dc7c0337647d1965166703c253d3e": {
      "model_module": "@jupyter-widgets/controls",
      "model_module_version": "1.0.0",
      "model_name": "SliderStyleModel",
      "state": {
       "description_width": ""
      }
     },
     "7df12e2618a24494868386dcfd242ce7": {
      "model_module": "@jupyter-widgets/controls",
      "model_module_version": "1.0.0",
      "model_name": "SliderStyleModel",
      "state": {
       "description_width": ""
      }
     },
     "80607e04c4e6490ab8516e9da8f53a6d": {
      "model_module": "@jupyter-widgets/base",
      "model_module_version": "1.0.0",
      "model_name": "LayoutModel",
      "state": {}
     },
     "820b8bdd054648d2a97b959d612969ae": {
      "model_module": "@jupyter-widgets/controls",
      "model_module_version": "1.0.0",
      "model_name": "FloatSliderModel",
      "state": {
       "description": "$\\Psi$",
       "layout": "IPY_MODEL_d9ff488e526e497d8511575231255dc7",
       "max": 10,
       "min": -10,
       "readout_format": ".4f",
       "step": 0.2,
       "style": "IPY_MODEL_7df12e2618a24494868386dcfd242ce7",
       "value": 1
      }
     },
     "82d576fb1fd845ad9544e792cce01d56": {
      "model_module": "@jupyter-widgets/controls",
      "model_module_version": "1.0.0",
      "model_name": "FloatSliderModel",
      "state": {
       "description": "$\\Phi$",
       "layout": "IPY_MODEL_0a3ba9d5bd29486b866c1063c34786ed",
       "max": 10,
       "min": -10,
       "readout_format": ".4f",
       "step": 0.2,
       "style": "IPY_MODEL_22ffca6863144767a1c5a5a525ef1894",
       "value": -0.8
      }
     },
     "82e5f88c19404963b9363f6896f1942b": {
      "model_module": "@jupyter-widgets/base",
      "model_module_version": "1.0.0",
      "model_name": "LayoutModel",
      "state": {
       "height": "30px",
       "width": "500px"
      }
     },
     "8456b180b7bd40308db4149d1a8c2318": {
      "model_module": "@jupyter-widgets/output",
      "model_module_version": "1.0.0",
      "model_name": "OutputModel",
      "state": {
       "layout": "IPY_MODEL_985d5d0566db475cbb72beba35e6ff12",
       "outputs": [
        {
         "data": {
          "image/png": "iVBORw0KGgoAAAANSUhEUgAAAsgAAAI4CAYAAAB3OR9vAAAABHNCSVQICAgIfAhkiAAAAAlwSFlz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\nEENBBgAAAGIoyAAAAEDM/wP+a+OtT8vNiQAAAABJRU5ErkJggg==\n",
          "text/plain": "<matplotlib.figure.Figure at 0x1b41ce10>"
         },
         "metadata": {},
         "output_type": "display_data"
        }
       ]
      }
     },
     "8464af42ca3a40829d95cc3db9ae3f29": {
      "model_module": "@jupyter-widgets/base",
      "model_module_version": "1.0.0",
      "model_name": "LayoutModel",
      "state": {
       "height": "30px",
       "width": "500px"
      }
     },
     "88e146ed9c054ec0b2923f351c40e916": {
      "model_module": "@jupyter-widgets/base",
      "model_module_version": "1.0.0",
      "model_name": "LayoutModel",
      "state": {
       "height": "30px",
       "width": "500px"
      }
     },
     "89007e0fc981438f9156b7e5089f6ff1": {
      "model_module": "@jupyter-widgets/controls",
      "model_module_version": "1.0.0",
      "model_name": "FloatSliderModel",
      "state": {
       "description": "$\\Lambda$",
       "layout": "IPY_MODEL_91af986f272248dbb54de65c4ba93efa",
       "max": 0.1,
       "min": 0.01,
       "readout_format": ".4f",
       "step": 0.01,
       "style": "IPY_MODEL_f9af51e2c3314872a7dd89d2876bc3a1",
       "value": 0.03
      }
     },
     "8900c37d628846c0b73a02961edd5183": {
      "model_module": "@jupyter-widgets/base",
      "model_module_version": "1.0.0",
      "model_name": "LayoutModel",
      "state": {
       "height": "30px",
       "width": "500px"
      }
     },
     "8a27d4e10d5148e48228a6b72e697499": {
      "model_module": "@jupyter-widgets/output",
      "model_module_version": "1.0.0",
      "model_name": "OutputModel",
      "state": {
       "layout": "IPY_MODEL_1e2b2d8216fc4ca4abe805ba67c1edaf",
       "outputs": [
        {
         "data": {
          "image/png": "iVBORw0KGgoAAAANSUhEUgAAAsgAAAI4CAYAAAB3OR9vAAAABHNCSVQICAgIfAhkiAAAAAlwSFlz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\nliRJkspYIEuSJEllLJAlSZKkMv8PhKGtySlUz/wAAAAASUVORK5CYII=\n",
          "text/plain": "<matplotlib.figure.Figure at 0x20d0d828>"
         },
         "metadata": {},
         "output_type": "display_data"
        }
       ]
      }
     },
     "8b64367dbca64fedaa123a7173c8cef0": {
      "model_module": "@jupyter-widgets/controls",
      "model_module_version": "1.0.0",
      "model_name": "FloatSliderModel",
      "state": {
       "description": "$\\Gamma$",
       "layout": "IPY_MODEL_d92621d8302b4c26a3144a591c76c82d",
       "max": 30,
       "readout_format": ".4f",
       "style": "IPY_MODEL_089212871c8746658248299ec4d57b44",
       "value": 1
      }
     },
     "8cf052e4c12b44c58263be2ff28b08f9": {
      "model_module": "@jupyter-widgets/controls",
      "model_module_version": "1.0.0",
      "model_name": "FloatSliderModel",
      "state": {
       "description": "$xLoc$",
       "layout": "IPY_MODEL_ab518b16124b46178a9220d07a31946e",
       "max": 5,
       "min": 0.25,
       "readout_format": ".4f",
       "step": 0.25,
       "style": "IPY_MODEL_78621ecb5cbd4ccc87387266f63106bf",
       "value": 1.5
      }
     },
     "8e754b9068cb40b5b1f2b9668bc552e9": {
      "model_module": "@jupyter-widgets/base",
      "model_module_version": "1.0.0",
      "model_name": "LayoutModel",
      "state": {}
     },
     "91af986f272248dbb54de65c4ba93efa": {
      "model_module": "@jupyter-widgets/base",
      "model_module_version": "1.0.0",
      "model_name": "LayoutModel",
      "state": {
       "height": "30px",
       "width": "500px"
      }
     },
     "92940ed0fd7e4e96b890802f36171cd8": {
      "model_module": "@jupyter-widgets/controls",
      "model_module_version": "1.0.0",
      "model_name": "FloatSliderModel",
      "state": {
       "description": "$\\Gamma$",
       "layout": "IPY_MODEL_4547fb59be2a4e728e4aa4e48ab01a7f",
       "max": 0.1,
       "min": 0.01,
       "readout_format": ".4f",
       "step": 0.01,
       "style": "IPY_MODEL_721a2398060f4330bfbdea926b045db1",
       "value": 0.03
      }
     },
     "9321cbc887c94b509af0a3d4d8c3b7c0": {
      "model_module": "@jupyter-widgets/controls",
      "model_module_version": "1.0.0",
      "model_name": "SliderStyleModel",
      "state": {
       "description_width": ""
      }
     },
     "9546e8dfebda43e7b0763b688c7c5992": {
      "model_module": "@jupyter-widgets/controls",
      "model_module_version": "1.0.0",
      "model_name": "FloatSliderModel",
      "state": {
       "description": "$\\Psi$",
       "layout": "IPY_MODEL_6cb5603f4b5944459375e45b96c4d93a",
       "max": 0.01,
       "min": -0.01,
       "readout_format": ".4f",
       "step": 0.00025,
       "style": "IPY_MODEL_7d0dc7c0337647d1965166703c253d3e",
       "value": 0.001
      }
     },
     "985d5d0566db475cbb72beba35e6ff12": {
      "model_module": "@jupyter-widgets/base",
      "model_module_version": "1.0.0",
      "model_name": "LayoutModel",
      "state": {}
     },
     "98cf9243eb5849938fde978cf357715d": {
      "model_module": "@jupyter-widgets/base",
      "model_module_version": "1.0.0",
      "model_name": "LayoutModel",
      "state": {}
     },
     "99945cda9e6341299a4ac3b426a79eb2": {
      "model_module": "@jupyter-widgets/controls",
      "model_module_version": "1.0.0",
      "model_name": "FloatSliderModel",
      "state": {
       "description": "$\\Phi$",
       "layout": "IPY_MODEL_8464af42ca3a40829d95cc3db9ae3f29",
       "max": 5,
       "min": -5,
       "readout_format": ".4f",
       "step": 0.1,
       "style": "IPY_MODEL_107c2febc6ea4883a28f9b90d40d68ac",
       "value": -3
      }
     },
     "9d712e0c826643619d4e499b87a71745": {
      "model_module": "@jupyter-widgets/base",
      "model_module_version": "1.0.0",
      "model_name": "LayoutModel",
      "state": {
       "height": "30px",
       "width": "500px"
      }
     },
     "9fe8dcc7c60745d9a8efec2bb99ad891": {
      "model_module": "@jupyter-widgets/controls",
      "model_module_version": "1.0.0",
      "model_name": "FloatSliderModel",
      "state": {
       "description": "$\\Phi$",
       "layout": "IPY_MODEL_77a53152fbaa46468ca596dbafb87337",
       "max": 0.04,
       "min": -0.04,
       "readout_format": ".4f",
       "step": 0.0001,
       "style": "IPY_MODEL_440de637ad524490b372c8b561b23120",
       "value": 0.0003
      }
     },
     "a2e39aabddaa47719600c31becb5d07c": {
      "model_module": "@jupyter-widgets/base",
      "model_module_version": "1.0.0",
      "model_name": "LayoutModel",
      "state": {}
     },
     "a5c92d500b95420e8528b02aa413f4a9": {
      "model_module": "@jupyter-widgets/base",
      "model_module_version": "1.0.0",
      "model_name": "LayoutModel",
      "state": {}
     },
     "a5e3749a20544616a9f60a6e313d2cf1": {
      "model_module": "@jupyter-widgets/controls",
      "model_module_version": "1.0.0",
      "model_name": "SliderStyleModel",
      "state": {
       "description_width": ""
      }
     },
     "a7b304b7b2434a40a5a55f9889f7cb1c": {
      "model_module": "@jupyter-widgets/base",
      "model_module_version": "1.0.0",
      "model_name": "LayoutModel",
      "state": {
       "height": "30px",
       "width": "500px"
      }
     },
     "ab518b16124b46178a9220d07a31946e": {
      "model_module": "@jupyter-widgets/base",
      "model_module_version": "1.0.0",
      "model_name": "LayoutModel",
      "state": {
       "height": "30px",
       "width": "500px"
      }
     },
     "b0a26be517f04dc39779685203f33145": {
      "model_module": "@jupyter-widgets/controls",
      "model_module_version": "1.0.0",
      "model_name": "FloatSliderModel",
      "state": {
       "description": "$C$",
       "layout": "IPY_MODEL_2d3a7c6e3fb34d31a78fea7b8760ff55",
       "max": 9,
       "min": -9,
       "style": "IPY_MODEL_31d0b675a39f4eb9b4fec0adc24d854f",
       "value": -2
      }
     },
     "b3aaf190fead444b8bb775a9c15129ce": {
      "model_module": "@jupyter-widgets/base",
      "model_module_version": "1.0.0",
      "model_name": "LayoutModel",
      "state": {}
     },
     "bb2c1f861ec649be900dc195c76c5f32": {
      "model_module": "@jupyter-widgets/output",
      "model_module_version": "1.0.0",
      "model_name": "OutputModel",
      "state": {
       "layout": "IPY_MODEL_59f47ed76ac14c90a16939acd2acc779",
       "outputs": [
        {
         "data": {
          "image/png": "iVBORw0KGgoAAAANSUhEUgAAAsgAAAI4CAYAAAB3OR9vAAAABHNCSVQICAgIfAhkiAAAAAlwSFlz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\nZMJABgAAADJhIAMAAACZMJABAACATP4f+sbDbuAZEUoAAAAASUVORK5CYII=\n",
          "text/plain": "<matplotlib.figure.Figure at 0x1ff6fe48>"
         },
         "metadata": {},
         "output_type": "display_data"
        }
       ]
      }
     },
     "bd42b7da1b9a469789c0d42c5022826c": {
      "model_module": "@jupyter-widgets/controls",
      "model_module_version": "1.0.0",
      "model_name": "SliderStyleModel",
      "state": {
       "description_width": ""
      }
     },
     "c3509258a8594f7f8072f07ee1f32f6c": {
      "model_module": "@jupyter-widgets/controls",
      "model_module_version": "1.0.0",
      "model_name": "SliderStyleModel",
      "state": {
       "description_width": ""
      }
     },
     "c52d25cfb9ba407090006a0e61a6fd0a": {
      "model_module": "@jupyter-widgets/controls",
      "model_module_version": "1.0.0",
      "model_name": "SliderStyleModel",
      "state": {
       "description_width": ""
      }
     },
     "c5f2462680ae4519a07ae72da28638dd": {
      "model_module": "@jupyter-widgets/base",
      "model_module_version": "1.0.0",
      "model_name": "LayoutModel",
      "state": {
       "height": "30px",
       "width": "500px"
      }
     },
     "c9ba19e89314427cafd88843ae88a0cb": {
      "model_module": "@jupyter-widgets/controls",
      "model_module_version": "1.0.0",
      "model_name": "VBoxModel",
      "state": {
       "_dom_classes": [
        "widget-interact"
       ],
       "children": [
        "IPY_MODEL_39f725f18eaa4ee19150278004e60c68",
        "IPY_MODEL_4f815bf7ecc843aaa3d15e1ef71188cc",
        "IPY_MODEL_92940ed0fd7e4e96b890802f36171cd8",
        "IPY_MODEL_6864d457a430499badbb9ada550e44b4"
       ],
       "layout": "IPY_MODEL_35117f2d26564c2b95df15247b448e0f"
      }
     },
     "cc6a850ea6ff431d9d41ddeb28c4d08d": {
      "model_module": "@jupyter-widgets/controls",
      "model_module_version": "1.0.0",
      "model_name": "FloatSliderModel",
      "state": {
       "description": "$\\Lambda$",
       "layout": "IPY_MODEL_3340b65a0d3d4301abd2d1b2a2c49b9f",
       "max": 10,
       "min": 0.5,
       "readout_format": ".4f",
       "step": 0.5,
       "style": "IPY_MODEL_c3509258a8594f7f8072f07ee1f32f6c",
       "value": 8
      }
     },
     "cdca7316b3204bcf9d8157f13b8d25ef": {
      "model_module": "@jupyter-widgets/controls",
      "model_module_version": "1.0.0",
      "model_name": "FloatSliderModel",
      "state": {
       "description": "$\\Phi$",
       "layout": "IPY_MODEL_e3bc4a43381f48cfb94b59c1925f9069",
       "max": 10,
       "min": -10,
       "readout_format": ".4f",
       "step": 0.1,
       "style": "IPY_MODEL_0d01fffbd15243c3a83998e5b988c352",
       "value": -3.2
      }
     },
     "ce4645f8b1af4095b0ce9f175e76af76": {
      "model_module": "@jupyter-widgets/base",
      "model_module_version": "1.0.0",
      "model_name": "LayoutModel",
      "state": {
       "height": "30px",
       "width": "500px"
      }
     },
     "cfb1396f413244efaa146388d8cef459": {
      "model_module": "@jupyter-widgets/controls",
      "model_module_version": "1.0.0",
      "model_name": "VBoxModel",
      "state": {
       "_dom_classes": [
        "widget-interact"
       ],
       "children": [
        "IPY_MODEL_3d9bd50c174a49828be06ad6da723b23",
        "IPY_MODEL_cdca7316b3204bcf9d8157f13b8d25ef",
        "IPY_MODEL_fc9de9deb63f41bdb36acd87f603ef3d",
        "IPY_MODEL_8cf052e4c12b44c58263be2ff28b08f9",
        "IPY_MODEL_8456b180b7bd40308db4149d1a8c2318"
       ],
       "layout": "IPY_MODEL_80607e04c4e6490ab8516e9da8f53a6d"
      }
     },
     "d122a065b2df4419b4bc95cdc517dfc3": {
      "model_module": "@jupyter-widgets/controls",
      "model_module_version": "1.0.0",
      "model_name": "SliderStyleModel",
      "state": {
       "description_width": ""
      }
     },
     "d269aa8acdb3447988e5d937b5c563ab": {
      "model_module": "@jupyter-widgets/controls",
      "model_module_version": "1.0.0",
      "model_name": "SliderStyleModel",
      "state": {
       "description_width": ""
      }
     },
     "d4fca292c5654d5d8f30e5f9f6221680": {
      "model_module": "@jupyter-widgets/base",
      "model_module_version": "1.0.0",
      "model_name": "LayoutModel",
      "state": {
       "height": "30px",
       "width": "500px"
      }
     },
     "d92621d8302b4c26a3144a591c76c82d": {
      "model_module": "@jupyter-widgets/base",
      "model_module_version": "1.0.0",
      "model_name": "LayoutModel",
      "state": {
       "height": "30px",
       "width": "500px"
      }
     },
     "d9ff488e526e497d8511575231255dc7": {
      "model_module": "@jupyter-widgets/base",
      "model_module_version": "1.0.0",
      "model_name": "LayoutModel",
      "state": {
       "height": "30px",
       "width": "500px"
      }
     },
     "da7c42c1e5984fa4a3da124c25b818fa": {
      "model_module": "@jupyter-widgets/base",
      "model_module_version": "1.0.0",
      "model_name": "LayoutModel",
      "state": {
       "height": "30px",
       "width": "500px"
      }
     },
     "e3bc4a43381f48cfb94b59c1925f9069": {
      "model_module": "@jupyter-widgets/base",
      "model_module_version": "1.0.0",
      "model_name": "LayoutModel",
      "state": {
       "height": "30px",
       "width": "500px"
      }
     },
     "e7342011ff52466a8bc03679e839a287": {
      "model_module": "@jupyter-widgets/controls",
      "model_module_version": "1.0.0",
      "model_name": "SliderStyleModel",
      "state": {
       "description_width": ""
      }
     },
     "e7c6790184734f1ba49d98601acc2ed0": {
      "model_module": "@jupyter-widgets/controls",
      "model_module_version": "1.0.0",
      "model_name": "FloatSliderModel",
      "state": {
       "description": "$\\Psi$",
       "layout": "IPY_MODEL_88e146ed9c054ec0b2923f351c40e916",
       "max": 0.04,
       "min": -0.04,
       "readout_format": ".4f",
       "step": 0.0001,
       "style": "IPY_MODEL_6213d10f8c1c4041a1405c4f340f481e",
       "value": 0.0003
      }
     },
     "f326264b2fcb4a769aabd034ea6f0694": {
      "model_module": "@jupyter-widgets/base",
      "model_module_version": "1.0.0",
      "model_name": "LayoutModel",
      "state": {}
     },
     "f41e9e2700fe4bc4b5ead45fdb5c910e": {
      "model_module": "@jupyter-widgets/base",
      "model_module_version": "1.0.0",
      "model_name": "LayoutModel",
      "state": {}
     },
     "f766bd256e1942be806c800db6a686a0": {
      "model_module": "@jupyter-widgets/controls",
      "model_module_version": "1.0.0",
      "model_name": "VBoxModel",
      "state": {
       "_dom_classes": [
        "widget-interact"
       ],
       "children": [
        "IPY_MODEL_3cd76212a0d549e799efe66be55d1ecc",
        "IPY_MODEL_0da70ee08cfd4b91b1342049b91190d1"
       ],
       "layout": "IPY_MODEL_432c4bf2468d4d0babb80719e24e5873"
      }
     },
     "f9af51e2c3314872a7dd89d2876bc3a1": {
      "model_module": "@jupyter-widgets/controls",
      "model_module_version": "1.0.0",
      "model_name": "SliderStyleModel",
      "state": {
       "description_width": ""
      }
     },
     "fb57d67f92174429aeb79cedfb1faf41": {
      "model_module": "@jupyter-widgets/controls",
      "model_module_version": "1.0.0",
      "model_name": "SliderStyleModel",
      "state": {
       "description_width": ""
      }
     },
     "fc9de9deb63f41bdb36acd87f603ef3d": {
      "model_module": "@jupyter-widgets/controls",
      "model_module_version": "1.0.0",
      "model_name": "FloatSliderModel",
      "state": {
       "description": "$\\Lambda$",
       "layout": "IPY_MODEL_a7b304b7b2434a40a5a55f9889f7cb1c",
       "max": 10,
       "min": 0.5,
       "readout_format": ".4f",
       "step": 0.5,
       "style": "IPY_MODEL_e7342011ff52466a8bc03679e839a287",
       "value": 4
      }
     },
     "ffaf603923e4419abbee7afd45341c54": {
      "model_module": "@jupyter-widgets/base",
      "model_module_version": "1.0.0",
      "model_name": "LayoutModel",
      "state": {
       "height": "30px",
       "width": "500px"
      }
     }
    },
    "version_major": 2,
    "version_minor": 0
   }
  }
 },
 "nbformat": 4,
 "nbformat_minor": 2
}
