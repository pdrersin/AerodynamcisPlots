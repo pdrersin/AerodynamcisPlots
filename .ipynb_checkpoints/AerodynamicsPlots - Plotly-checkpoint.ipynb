{
 "cells": [
  {
   "cell_type": "markdown",
   "metadata": {},
   "source": [
    "# Aerodynamics: Stream Functions & Potential Functions"
   ]
  },
  {
   "cell_type": "markdown",
   "metadata": {},
   "source": [
    "$$\\text{This is a tutorial to help with some visualizations in Aerodynamics (especially with stream functions & potential functions).}$$\n",
    "\n",
    "$$Author:~ Prakash~Vedula$$\n",
    "$$Date:~ 10/19/2018$$"
   ]
  },
  {
   "cell_type": "code",
   "execution_count": null,
   "metadata": {
    "collapsed": true
   },
   "outputs": [],
   "source": [
    "%matplotlib inline"
   ]
  },
  {
   "cell_type": "code",
   "execution_count": null,
   "metadata": {
    "collapsed": true
   },
   "outputs": [],
   "source": [
    "import pandas as pd\n",
    "import numpy as np\n",
    "\n",
    "import matplotlib\n",
    "import matplotlib.cm as cm\n",
    "import matplotlib.mlab as mlab\n",
    "import matplotlib.pyplot as plt\n",
    "import matplotlib.ticker as ticker\n",
    "from mpl_toolkits.mplot3d import Axes3D\n",
    "from matplotlib.ticker import LinearLocator, FormatStrFormatter\n",
    "\n",
    "from scipy.interpolate import griddata\n",
    "\n",
    "import ipywidgets as widgets\n",
    "from ipywidgets import interact, interactive, fixed, interact_manual\n",
    "\n",
    "from __future__ import print_function"
   ]
  },
  {
   "cell_type": "code",
   "execution_count": null,
   "metadata": {
    "collapsed": true
   },
   "outputs": [],
   "source": [
    "import plotly.plotly as py\n",
    "import plotly.figure_factory as ff\n",
    "import pandas as pd\n",
    "import plotly.graph_objs as go"
   ]
  },
  {
   "cell_type": "code",
   "execution_count": null,
   "metadata": {
    "collapsed": true
   },
   "outputs": [],
   "source": [
    "def pltsin(ax, f=3):\n",
    "    x = np.linspace(0,1,100)\n",
    "    y = np.sin(2*np.pi*x*f)\n",
    "    if len(ax.lines):\n",
    "        ax.lines[0].set_xdata(x)\n",
    "        ax.lines[0].set_ydata(y)\n",
    "    else:\n",
    "        ax.plot(x,y)\n",
    "    fig.canvas.draw()"
   ]
  },
  {
   "cell_type": "code",
   "execution_count": null,
   "metadata": {
    "collapsed": true
   },
   "outputs": [],
   "source": [
    "fig,ax = plt.subplots(1,1)\n",
    "ax.set_xlabel('X')\n",
    "ax.set_ylabel('Y')\n",
    "ax.set_xlim(0,1)\n",
    "ax.set_ylim(-1,1)\n",
    "pltsin(ax)"
   ]
  },
  {
   "cell_type": "code",
   "execution_count": null,
   "metadata": {
    "collapsed": true
   },
   "outputs": [],
   "source": [
    "interact(pltsin, ax=fixed(ax), f=(1, 10, 0.1))"
   ]
  },
  {
   "cell_type": "code",
   "execution_count": null,
   "metadata": {
    "collapsed": true
   },
   "outputs": [],
   "source": []
  },
  {
   "cell_type": "code",
   "execution_count": null,
   "metadata": {
    "collapsed": true
   },
   "outputs": [],
   "source": [
    "matplotlib.rcParams['xtick.direction'] = 'out'\n",
    "matplotlib.rcParams['ytick.direction'] = 'out'\n",
    "\n",
    "# Set range\n",
    "xr = 10\n",
    "xl = -xr\n",
    "\n",
    "yu = 10\n",
    "yl = -yu"
   ]
  },
  {
   "cell_type": "code",
   "execution_count": null,
   "metadata": {
    "collapsed": true
   },
   "outputs": [],
   "source": [
    "# Set x, y  points\n",
    "npoints = 100\n",
    "x = np.linspace(xl, xr, npoints)\n",
    "y = np.linspace(yl, yu, npoints)\n",
    "\n",
    "X, Y = np.meshgrid(x, y)"
   ]
  },
  {
   "cell_type": "markdown",
   "metadata": {},
   "source": [
    "$$\\text{Some useful conversions:}\\\\$$\n",
    "$$r = x / cos\\theta$$  \n",
    "$$r = y / sin\\theta$$  \n",
    "$$r = \\sqrt{x^2+y^2}$$  \n",
    "$$\\theta = tan^{-1}(y/x)$$\n",
    "$$\\theta = sin^{-1}(y/r)$$\n",
    "$$\\theta = cos^{-1}(x/r)$$"
   ]
  },
  {
   "cell_type": "code",
   "execution_count": null,
   "metadata": {
    "collapsed": true
   },
   "outputs": [],
   "source": []
  },
  {
   "cell_type": "markdown",
   "metadata": {},
   "source": [
    "$$\\text{Uniform Flow}$$\n",
    "$$\\Psi = V_\\infty x$$\n",
    "$$\\Phi = V_\\infty y$$"
   ]
  },
  {
   "cell_type": "code",
   "execution_count": null,
   "metadata": {
    "collapsed": true,
    "scrolled": false
   },
   "outputs": [],
   "source": [
    "# Uniform Flow\n",
    "\n",
    "# Set freestream velocity\n",
    "Vinf = 1 # (units: m/s)\n",
    "plt.rcParams[\"figure.figsize\"] = (18,9)\n",
    "\n",
    "plt.subplot(1,2,1)\n",
    "Z = Vinf * Y\n",
    "CS = plt.contour(X, Y, Z)\n",
    "\n",
    "plt.clabel(CS, inline=1, fontsize=11)\n",
    "plt.title('$\\Psi=C$')\n",
    "plt.xlabel('x')\n",
    "plt.ylabel('y')\n",
    "\n",
    "\n",
    "plt.subplot(1,2,2)\n",
    "Z = Vinf * X\n",
    "CS = plt.contour(X, Y, Z,linestyles='dashed',cmap='jet')\n",
    "plt.clabel(CS, inline=1, fontsize=11)\n",
    "\n",
    "plt.title('$\\Phi=C*$')\n",
    "plt.xlabel('x')\n",
    "plt.ylabel('y')\n",
    "\n",
    "\n",
    "\n",
    "\n",
    "plt.savefig('uniformPsiPhi.png')\n",
    "plt.tight_layout()\n",
    "plt.show()"
   ]
  },
  {
   "cell_type": "code",
   "execution_count": null,
   "metadata": {
    "collapsed": true
   },
   "outputs": [],
   "source": [
    "# Make data.\n",
    " # Set range\n",
    "plt.rcParams[\"figure.figsize\"] = (20,8)\n",
    "xr = 10\n",
    "xl = -xr\n",
    "yu = 10\n",
    "yl = -yu\n",
    "\n",
    "# Set x, y  points\n",
    "npoints = 100\n",
    "x = np.linspace(xl, xr, npoints)\n",
    "y = np.linspace(yl, yu, npoints)\n",
    "X, Y = np.meshgrid(x, y) \n",
    "\n",
    "Vinf = 1\n",
    "Z = Vinf * Y\n",
    "Z2 = Vinf * X\n",
    "\n",
    "fig = plt.figure()\n",
    "ax = fig.add_subplot(121, projection='3d')\n",
    "surf = ax.plot_surface(X, Y, Z, cmap=cm.jet)\n",
    "plt.title(r'$\\Psi=C$')\n",
    "plt.xlabel('x')\n",
    "plt.ylabel('y')\n",
    "\n",
    "ax = fig.add_subplot(122, projection='3d')\n",
    "surf = ax.plot_surface(X, Y, Z2, rstride=1, cstride=1, cmap=cm.jet)\n",
    "plt.title(r'$\\Phi = C^*$')\n",
    "plt.xlabel('x')\n",
    "plt.ylabel('y')\n",
    "ax.view_init(30, 140)\n",
    "plt.show()\n"
   ]
  },
  {
   "cell_type": "code",
   "execution_count": null,
   "metadata": {
    "collapsed": true,
    "scrolled": false
   },
   "outputs": [],
   "source": [
    "# Uniform Flow interactive chart\n",
    "\n",
    "\n",
    "def uniformPlot(C, C_star):\n",
    "    # Set freestream velocity\n",
    "    Vinf = 1 # (units: m/s)\n",
    "    plt.rcParams[\"figure.figsize\"] = (10,8)\n",
    "    # Set range\n",
    "    xr = 10\n",
    "    xl = -xr\n",
    "    yu = 10\n",
    "    yl = -yu\n",
    "    \n",
    "    # Set x, y  points\n",
    "    npoints = 100\n",
    "    x = np.linspace(xl, xr, npoints)\n",
    "    y = np.linspace(yl, yu, npoints)\n",
    "    X, Y = np.meshgrid(x, y)    \n",
    "    \n",
    "    Z = Vinf * Y\n",
    "    CS = plt.contour(X, Y, Z,levels=[C])\n",
    "    Z = Vinf * X\n",
    "    CS2 = plt.contour(X, Y, Z,levels=[C_star], colors='k',linestyles='dashed')\n",
    "    plt.clabel(CS2, inline=1, fontsize=11)\n",
    "    linestyles = ['-', '--']\n",
    "    plt.clabel(CS, inline=1, fontsize=11)\n",
    "    plt.title(r'$\\Psi=C$  and  $\\Phi = C^*$')\n",
    "    plt.xlabel('x')\n",
    "    plt.ylabel('y')\n",
    "    plt.tight_layout()\n",
    "    plt.show()\n",
    "    \n",
    "interactive_plot = interactive(uniformPlot, C=widgets.FloatSlider(value=2,min=-9,max=9,step=1,description='$C$'), C_star=widgets.FloatSlider(value=2,min=-9,max=9,step=1,description='$C^*$'));\n",
    "interactive_plot.children[0].layout.height = '30px'\n",
    "interactive_plot.children[0].layout.width = '500px'\n",
    "interactive_plot.children[1].layout.height = '30px'\n",
    "interactive_plot.children[1].layout.width = '500px'\n",
    "interactive_plot\n",
    "\n",
    "\n"
   ]
  },
  {
   "cell_type": "code",
   "execution_count": null,
   "metadata": {
    "collapsed": true
   },
   "outputs": [],
   "source": []
  },
  {
   "cell_type": "markdown",
   "metadata": {},
   "source": [
    "$$\\text{Source Flow}$$\n",
    "$$\\Psi = \\frac{\\Lambda}{2 \\pi} \\theta\\\\$$\n",
    "$$\\Phi = \\frac{\\Lambda}{2 \\pi} \\ln r $$"
   ]
  },
  {
   "cell_type": "code",
   "execution_count": null,
   "metadata": {
    "collapsed": true,
    "scrolled": false
   },
   "outputs": [],
   "source": [
    "# Source Flow\n",
    "\n",
    "# Set freestream velocity\n",
    "#Lambda = 2 * np.pi #  Set for convenience\n",
    "\n",
    "Lambda = 0.01\n",
    "\n",
    "plt.rcParams[\"figure.figsize\"] = (18,9)\n",
    "\n",
    "plt.subplot(1,2,1)\n",
    "Z = (Lambda)/(2 * np.pi) * np.arctan(Y/X)\n",
    "#Z=(Lambda)/(2 * np.pi) * np.arctan2(Y,X)\n",
    "levels = np.linspace(np.min(Z),0.0035,11)\n",
    "CS = plt.contour(X, Y, Z)\n",
    "plt.clabel(CS, inline=1, fontsize=11)\n",
    "#plt.axis('equal','box')\n",
    "#plt.title('Simplest default with labels')\n",
    "plt.title(r'$\\Psi =\\frac{\\Lambda}{2 \\pi}\\theta$')\n",
    "plt.xlabel('$x$')\n",
    "plt.ylabel('$y$')\n",
    "\n",
    "plt.subplot(1,2,2)\n",
    "Z = (Lambda)/(2 * np.pi) * np.log( np.sqrt(np.power(X,2) + np.power(Y,2)) )\n",
    "\n",
    "#plt.contour(Z,np.linspace(Z.min(),Z.max(),15))\n",
    "levels = np.linspace(np.min(Z),0.0035,11)\n",
    "\n",
    "\n",
    "CS = plt.contour(X, Y, Z, levels=levels)\n",
    "#CS = plt.contour(X, Y, Z)\n",
    "plt.clabel(CS, inline=1, fontsize=11)\n",
    "\n",
    "\n",
    "plt.title(r'$\\Phi = \\frac{\\Lambda}{2 \\pi} \\ln r $')\n",
    "plt.xlabel('$x$')\n",
    "plt.ylabel('$y$')\n",
    "\n",
    "plt.tight_layout()\n",
    "plt.show"
   ]
  },
  {
   "cell_type": "code",
   "execution_count": null,
   "metadata": {
    "collapsed": true
   },
   "outputs": [],
   "source": [
    "# Make data.\n",
    " # Set range\n",
    "plt.rcParams[\"figure.figsize\"] = (20,8)\n",
    "xr = 10\n",
    "xl = -xr\n",
    "yu = 10\n",
    "yl = -yu\n",
    "\n",
    "# Set x, y  points\n",
    "npoints = 100\n",
    "x = np.linspace(xl, xr, npoints)\n",
    "y = np.linspace(yl, yu, npoints)\n",
    "X, Y = np.meshgrid(x, y) \n",
    "\n",
    "Vinf = 1\n",
    "Lambda = 0.01\n",
    "Z = (Lambda)/(2 * np.pi) * np.arctan(Y/X)\n",
    "Z2 = (Lambda)/(2 * np.pi) * np.log( np.sqrt(np.power(X,2) + np.power(Y,2)) )\n",
    "\n",
    "fig = plt.figure()\n",
    "ax = fig.add_subplot(121, projection='3d')\n",
    "surf = ax.plot_surface(X, Y, Z, cmap=cm.jet)\n",
    "plt.title(r'$\\Psi =\\frac{\\Lambda}{2 \\pi}\\theta$')\n",
    "plt.xlabel('x')\n",
    "plt.ylabel('y')\n",
    "ax.view_init(90, 0)\n",
    "\n",
    "ax = fig.add_subplot(122, projection='3d')\n",
    "surf = ax.plot_surface(X, Y, Z2, rstride=1, cstride=1, cmap=cm.jet)\n",
    "plt.title(r'$\\Phi = \\frac{\\Lambda}{2 \\pi} \\ln r $')\n",
    "plt.xlabel('x')\n",
    "plt.ylabel('y')\n",
    "ax.view_init(35, 140)\n",
    "plt.show()\n"
   ]
  },
  {
   "cell_type": "code",
   "execution_count": null,
   "metadata": {
    "collapsed": true
   },
   "outputs": [],
   "source": [
    "# Source Flow interactive chart\n",
    "\n",
    "def sourcePlot(C, C2, Lambda):\n",
    "    # Set freestream velocity\n",
    "    Vinf = 1 # (units: m/s)\n",
    "    plt.rcParams[\"figure.figsize\"] = (10,8)\n",
    "    # Set range\n",
    "    xr = 10\n",
    "    xl = -xr\n",
    "    yu = 10\n",
    "    yl = -yu\n",
    "    \n",
    "    #Lambda = 0.05\n",
    "    \n",
    "    # Set x, y  points\n",
    "    npoints = 100\n",
    "    x = np.linspace(xl, xr, npoints)\n",
    "    y = np.linspace(yl, yu, npoints)\n",
    "    X, Y = np.meshgrid(x, y)\n",
    "    \n",
    "    \n",
    "    Z = (Lambda)/(2 * np.pi) * np.arctan(Y/X)\n",
    "    #Z=(Lambda)/(2 * np.pi) * np.arctan2(Y,X)\n",
    "    CS = plt.contour(X, Y, Z, levels=[C])\n",
    "    plt.clabel(CS, inline=1, fontsize=11)\n",
    "\n",
    "    Z = (Lambda)/(2 * np.pi) * np.log( np.sqrt(np.power(X,2) + np.power(Y,2)) )\n",
    "    CS2 = plt.contour(X, Y, Z, levels=[C2], colors='k',linestyles='dashed')\n",
    "    plt.clabel(CS2, inline=1, fontsize=11)\n",
    "    \n",
    "    plt.title(r'$\\Psi =\\frac{\\Lambda}{2 \\pi}\\theta$ and $\\Phi = \\frac{\\Lambda}{2 \\pi} \\ln r $')\n",
    "    plt.xlabel('x')\n",
    "    plt.ylabel('y')\n",
    "    plt.tight_layout()\n",
    "    plt.show()\n",
    "    \n",
    "interactive_plot = interactive(sourcePlot, C=widgets.FloatSlider(value=0.001,min=-0.01,max=0.01,step=0.00025,description='$\\Psi$'), C2=widgets.FloatSlider(value=0.005,min=-0.01,max=0.01,step=0.00025,description='$\\Phi$'), Lambda=widgets.FloatSlider(value=0.03,min=0.01,max=0.1,step=0.01,description='$\\Lambda$'));\n",
    "interactive_plot.children[0].layout.height = '30px'\n",
    "interactive_plot.children[0].layout.width = '500px'\n",
    "interactive_plot.children[0].readout_format = '.4f'\n",
    "interactive_plot.children[1].layout.height = '30px'\n",
    "interactive_plot.children[1].layout.width = '500px'\n",
    "interactive_plot.children[1].readout_format = '.4f'\n",
    "interactive_plot.children[2].layout.height = '30px'\n",
    "interactive_plot.children[2].layout.width = '500px'\n",
    "interactive_plot.children[2].readout_format = '.4f'\n",
    "interactive_plot\n",
    "#print(interactive_plot.children[1].keys)"
   ]
  },
  {
   "cell_type": "code",
   "execution_count": null,
   "metadata": {
    "collapsed": true
   },
   "outputs": [],
   "source": []
  },
  {
   "cell_type": "markdown",
   "metadata": {},
   "source": [
    "$$\\text{Vortex Flow}$$\n",
    "$$\\Psi = \\frac{\\Gamma}{2 \\pi} \\ln r \\\\$$\n",
    "$$\\Phi = -\\frac{\\Gamma}{2 \\pi} \\theta$$"
   ]
  },
  {
   "cell_type": "code",
   "execution_count": null,
   "metadata": {
    "collapsed": true
   },
   "outputs": [],
   "source": [
    "# Vortex Flow\n",
    "\n",
    "# Set freestream velocity\n",
    "#Gamma = 2 * np.pi #  Set for convenience\n",
    "\n",
    "Gamma = 0.01\n",
    "\n",
    "plt.rcParams[\"figure.figsize\"] = (18,9)\n",
    "\n",
    "\n",
    "plt.subplot(1,2,1)\n",
    "Z = (Gamma)/(2 * np.pi) * np.log( np.sqrt(np.power(X,2) + np.power(Y,2)) )\n",
    "\n",
    "\n",
    "#CS = plt.contour(X, Y, Z)\n",
    "levels = np.linspace(np.min(Z),np.max(Z)/1.125,11)\n",
    "levels = np.linspace(np.min(Z),0.0035,11)\n",
    "\n",
    "\n",
    "CS = plt.contour(X, Y, Z, levels=levels)\n",
    "fmt='%1.4f'\n",
    "plt.clabel(CS, inline=1, fontsize=11,fmt=fmt)\n",
    "plt.title(r'$\\Psi = \\frac{\\Gamma}{2 \\pi} \\ln r$')\n",
    "plt.xlabel('$x$')\n",
    "plt.ylabel('$y$')\n",
    "\n",
    "\n",
    "plt.subplot(1,2,2)\n",
    "#Z = (Lambda)/(2 * np.pi) * np.log( np.power(X,2) + np.power(Y,2) )\n",
    "Z = -(Gamma)/(2 * np.pi) * np.arctan(Y/X)\n",
    "\n",
    "#plt.contour(Z,np.linspace(Z.min(),Z.max(),15))\n",
    "levels = np.linspace(np.min(Z),np.max(Z),11)\n",
    "CS = plt.contour(X, Y, Z, levels=levels)\n",
    "#fmt = matplotlib.ticker.EngFormatter()\n",
    "plt.clabel(CS, inline=1, fontsize=11, fmt=fmt)\n",
    "#plt.clabel(CS, inline=1, fontsize=11)\n",
    "\n",
    "\n",
    "\n",
    "#plt.axis('equal','box')\n",
    "#plt.title('Simplest default with labels')\n",
    "plt.title(r'$\\Phi = -\\frac{\\Gamma}{2 \\pi} \\theta$')\n",
    "plt.xlabel('$x$')\n",
    "plt.ylabel('$y$')\n",
    "\n",
    "plt.tight_layout()\n",
    "plt.show"
   ]
  },
  {
   "cell_type": "code",
   "execution_count": null,
   "metadata": {
    "collapsed": true
   },
   "outputs": [],
   "source": [
    "# Make data.\n",
    " # Set range\n",
    "plt.rcParams[\"figure.figsize\"] = (20,8)\n",
    "xr = 10\n",
    "xl = -xr\n",
    "yu = 10\n",
    "yl = -yu\n",
    "\n",
    "# Set x, y  points\n",
    "npoints = 100\n",
    "x = np.linspace(xl, xr, npoints)\n",
    "y = np.linspace(yl, yu, npoints)\n",
    "X, Y = np.meshgrid(x, y) \n",
    "\n",
    "Vinf = 1\n",
    "Gamma = 0.01\n",
    "Z = (Gamma)/(2 * np.pi) * np.log( np.sqrt(np.power(X,2) + np.power(Y,2)) )\n",
    "Z2 = -(Gamma)/(2 * np.pi) * np.arctan(Y/X)\n",
    "\n",
    "fig = plt.figure()\n",
    "ax = fig.add_subplot(121, projection='3d')\n",
    "surf = ax.plot_surface(X, Y, Z, cmap=cm.jet)\n",
    "plt.title(r'$\\Psi = \\frac{\\Gamma}{2 \\pi} \\ln r$')\n",
    "plt.xlabel('x')\n",
    "plt.ylabel('y')\n",
    "ax.view_init(35, 140)\n",
    "\n",
    "ax = fig.add_subplot(122, projection='3d')\n",
    "surf = ax.plot_surface(X, Y, Z2, rstride=1, cstride=1, cmap=cm.jet)\n",
    "plt.title(r'$\\Phi = -\\frac{\\Gamma}{2 \\pi} \\theta$')\n",
    "plt.xlabel('x')\n",
    "plt.ylabel('y')\n",
    "ax.view_init(90, 0)\n",
    "plt.show()\n"
   ]
  },
  {
   "cell_type": "code",
   "execution_count": null,
   "metadata": {
    "collapsed": true
   },
   "outputs": [],
   "source": [
    "# Vortex Flow interactive chart\n",
    "\n",
    "def vortexPlot(C, C2, Gamma):\n",
    "    # Set freestream velocity\n",
    "    Vinf = 1 # (units: m/s)\n",
    "    plt.rcParams[\"figure.figsize\"] = (10,8)\n",
    "    # Set range\n",
    "    xr = 10\n",
    "    xl = -xr\n",
    "    yu = 10\n",
    "    yl = -yu\n",
    "       \n",
    "    # Set x, y  points\n",
    "    npoints = 100\n",
    "    x = np.linspace(xl, xr, npoints)\n",
    "    y = np.linspace(yl, yu, npoints)\n",
    "    X, Y = np.meshgrid(x, y)\n",
    "    \n",
    "    \n",
    "    Z = (Gamma)/(2 * np.pi) * np.log( np.sqrt(np.power(X,2) + np.power(Y,2)) )\n",
    "    CS = plt.contour(X, Y, Z, levels=[C])\n",
    "    fmt='%1.4f'\n",
    "    plt.clabel(CS, inline=1, fontsize=11, fmt=fmt)\n",
    "    \n",
    "\n",
    "    Z = -(Gamma)/(2 * np.pi) * np.arctan(Y/X)\n",
    "    CS2 = plt.contour(X, Y, Z, levels=[C2], colors='k',linestyles='dashed')\n",
    "    plt.clabel(CS2, inline=1, fontsize=11, fmt=fmt)\n",
    "    \n",
    "    plt.title(r'$\\Psi = \\frac{\\Gamma}{2 \\pi} \\ln r$   and   $\\Phi = -\\frac{\\Gamma}{2 \\pi} \\theta$')\n",
    "    plt.xlabel('x')\n",
    "    plt.ylabel('y')\n",
    "    plt.tight_layout()\n",
    "    plt.show()\n",
    "    \n",
    "interactive_plot = interactive(vortexPlot, C=widgets.FloatSlider(value=0.006,min=-0.01,max=0.01,step=0.00025,description='$\\Psi$'), C2=widgets.FloatSlider(value=0.001,min=-0.01,max=0.01,step=0.00025,description='$\\Phi$'), Gamma=widgets.FloatSlider(value=0.03,min=0.01,max=0.1,step=0.01,description='$\\Gamma$'));\n",
    "interactive_plot.children[0].layout.height = '30px'\n",
    "interactive_plot.children[0].layout.width = '500px'\n",
    "interactive_plot.children[0].readout_format = '.4f'\n",
    "interactive_plot.children[1].layout.height = '30px'\n",
    "interactive_plot.children[1].layout.width = '500px'\n",
    "interactive_plot.children[1].readout_format = '.4f'\n",
    "interactive_plot.children[2].layout.height = '30px'\n",
    "interactive_plot.children[2].layout.width = '500px'\n",
    "interactive_plot.children[2].readout_format = '.4f'\n",
    "interactive_plot\n",
    "#print(interactive_plot.children[1].keys)"
   ]
  },
  {
   "cell_type": "code",
   "execution_count": null,
   "metadata": {
    "collapsed": true
   },
   "outputs": [],
   "source": []
  },
  {
   "cell_type": "markdown",
   "metadata": {},
   "source": [
    "$$\\text{Doublet Flow}$$\n",
    "$$\\Psi = -\\frac{\\kappa}{2 \\pi} \\frac{sin\\theta}{r} \\\\$$\n",
    "$$\\Phi = \\frac{\\kappa}{2 \\pi} \\frac{cos\\theta}{r} $$"
   ]
  },
  {
   "cell_type": "code",
   "execution_count": null,
   "metadata": {
    "collapsed": true
   },
   "outputs": [],
   "source": [
    "# Doublet Flow\n",
    "\n",
    "# Set range\n",
    "xr = 10\n",
    "xl = -xr\n",
    "\n",
    "yu = 10\n",
    "yl = -yu\n",
    "\n",
    "npoints = 100\n",
    "x = np.linspace(xl, xr, npoints)\n",
    "y = np.linspace(yl, yu, npoints)\n",
    "\n",
    "X, Y = np.meshgrid(x, y)\n",
    "\n",
    "Kappa = 0.02\n",
    "\n",
    "plt.rcParams[\"figure.figsize\"] = (18,9)\n",
    "\n",
    "\n",
    "plt.subplot(1,2,1)\n",
    "Z = -Y*((Kappa)/(2 * np.pi))/(np.power(X,2) + np.power(Y,2)) \n",
    "levels = np.linspace(np.min(Z),np.max(Z),101)\n",
    "CS = plt.contour(X, Y, Z, levels=levels)\n",
    "fmt='%1.6f'\n",
    "plt.clabel(CS, inline=1, fontsize=11,fmt=fmt)\n",
    "plt.title(r'$\\Psi = -\\frac{\\kappa}{2 \\pi} \\frac{sin\\theta}{r}$')\n",
    "plt.xlabel('$x$')\n",
    "plt.ylabel('$y$')\n",
    "\n",
    "\n",
    "plt.subplot(1,2,2)\n",
    "Z = X*((Kappa)/(2 * np.pi))/(np.power(X,2) + np.power(Y,2)) \n",
    "CS = plt.contour(X, Y, Z, levels=levels)\n",
    "plt.clabel(CS, inline=1, fontsize=11, fmt=fmt)\n",
    "\n",
    "\n",
    "\n",
    "\n",
    "#plt.axis('equal','box')\n",
    "#plt.title('Simplest default with labels')\n",
    "plt.title(r'$\\Phi = \\frac{\\kappa}{2 \\pi} \\frac{cos\\theta}{r}$')\n",
    "plt.xlabel('$x$')\n",
    "plt.ylabel('$y$')\n",
    "\n",
    "plt.tight_layout()\n",
    "plt.show"
   ]
  },
  {
   "cell_type": "code",
   "execution_count": null,
   "metadata": {
    "collapsed": true
   },
   "outputs": [],
   "source": [
    "# Make data.\n",
    " # Set range\n",
    "plt.rcParams[\"figure.figsize\"] = (20,8)\n",
    "xr = 10\n",
    "xl = -xr\n",
    "yu = 10\n",
    "yl = -yu\n",
    "\n",
    "# Set x, y  points\n",
    "npoints = 100\n",
    "x = np.linspace(xl, xr, npoints)\n",
    "y = np.linspace(yl, yu, npoints)\n",
    "X, Y = np.meshgrid(x, y) \n",
    "\n",
    "Vinf = 1\n",
    "Kappa = 0.02\n",
    "Z = -Y*((Kappa)/(2 * np.pi))/(np.power(X,2) + np.power(Y,2)) \n",
    "Z2 = X*((Kappa)/(2 * np.pi))/(np.power(X,2) + np.power(Y,2))\n",
    "\n",
    "fig = plt.figure()\n",
    "ax = fig.add_subplot(121, projection='3d')\n",
    "surf = ax.plot_surface(X, Y, Z, cmap=cm.jet)\n",
    "plt.title(r'$\\Psi = -\\frac{\\kappa}{2 \\pi} \\frac{sin\\theta}{r}$')\n",
    "plt.xlabel('x')\n",
    "plt.ylabel('y')\n",
    "ax.view_init(20, 40)\n",
    "\n",
    "ax = fig.add_subplot(122, projection='3d')\n",
    "surf = ax.plot_surface(X, Y, Z2, rstride=1, cstride=1, cmap=cm.jet)\n",
    "plt.title(r'$\\Phi = \\frac{\\kappa}{2 \\pi} \\frac{cos\\theta}{r}$')\n",
    "plt.xlabel('x')\n",
    "plt.ylabel('y')\n",
    "ax.view_init(20, 45)\n",
    "plt.show()\n"
   ]
  },
  {
   "cell_type": "code",
   "execution_count": null,
   "metadata": {
    "collapsed": true
   },
   "outputs": [],
   "source": [
    "# Doublet Flow interactive chart\n",
    "\n",
    "def doubletPlot(C, C2, Kappa):\n",
    "    # Set freestream velocity\n",
    "    Vinf = 1 # (units: m/s)\n",
    "    plt.rcParams[\"figure.figsize\"] = (10,8)\n",
    "    # Set range\n",
    "    xr = 10\n",
    "    xl = -xr\n",
    "    yu = 10\n",
    "    yl = -yu\n",
    "       \n",
    "    # Set x, y  points\n",
    "    npoints = 100\n",
    "    x = np.linspace(xl, xr, npoints)\n",
    "    y = np.linspace(yl, yu, npoints)\n",
    "    X, Y = np.meshgrid(x, y)\n",
    "    \n",
    "    \n",
    "    Z = -Y*((Kappa)/(2 * np.pi))/(np.power(X,2) + np.power(Y,2))\n",
    "    CS = plt.contour(X, Y, Z, levels=[C])\n",
    "    fmt='%1.5f'\n",
    "    plt.clabel(CS, inline=1, fontsize=11, fmt=fmt)\n",
    "    \n",
    "\n",
    "    Z = X*((Kappa)/(2 * np.pi))/(np.power(X,2) + np.power(Y,2)) \n",
    "    CS2 = plt.contour(X, Y, Z, levels=[C2], colors='k',linestyles='dashed')\n",
    "    plt.clabel(CS2, inline=1, fontsize=11, fmt=fmt)\n",
    "    \n",
    "    plt.title(r'$\\Psi = -\\frac{\\kappa}{2 \\pi} \\frac{sin\\theta}{r}$   and   $\\Phi = \\frac{\\kappa}{2 \\pi} \\frac{cos\\theta}{r}$')\n",
    "    plt.xlabel('x')\n",
    "    plt.ylabel('y')\n",
    "    plt.tight_layout()\n",
    "    plt.show()\n",
    "    \n",
    "interactive_plot = interactive(doubletPlot, C=widgets.FloatSlider(value=0.0003,min=-0.04,max=0.04,step=0.0001,description='$\\Psi$'), C2=widgets.FloatSlider(value=0.0003,min=-0.04,max=0.04,step=0.0001,description='$\\Phi$'), Kappa=widgets.FloatSlider(value=0.0156,min=0.0001,max=0.1,step=0.00025,description='$\\kappa$'));\n",
    "interactive_plot.children[0].layout.height = '30px'\n",
    "interactive_plot.children[0].layout.width = '500px'\n",
    "interactive_plot.children[0].readout_format = '.4f'\n",
    "interactive_plot.children[1].layout.height = '30px'\n",
    "interactive_plot.children[1].layout.width = '500px'\n",
    "interactive_plot.children[1].readout_format = '.4f'\n",
    "interactive_plot.children[2].layout.height = '30px'\n",
    "interactive_plot.children[2].layout.width = '500px'\n",
    "interactive_plot.children[2].readout_format = '.4f'\n",
    "interactive_plot\n",
    "#print(interactive_plot.children[1].keys)"
   ]
  },
  {
   "cell_type": "code",
   "execution_count": null,
   "metadata": {
    "collapsed": true
   },
   "outputs": [],
   "source": []
  },
  {
   "cell_type": "markdown",
   "metadata": {},
   "source": [
    "$$\\text{Superposition of uniform Flow and source Flow}$$\n",
    "$$\\Psi = V_\\infty y + \\frac{\\Lambda}{2 \\pi} \\theta\\\\$$\n",
    "$$\\Phi = V_\\infty x + \\frac{\\Lambda}{2 \\pi} \\ln r $$"
   ]
  },
  {
   "cell_type": "code",
   "execution_count": null,
   "metadata": {
    "collapsed": true
   },
   "outputs": [],
   "source": [
    "# Uniform Flow + Source\n",
    "\n",
    "# Set freestream velocity\n",
    "#Lambda = 2 * np.pi #  Set for convenience\n",
    "\n",
    "Lambda = 8\n",
    "Vinf = 1\n",
    "\n",
    "plt.rcParams[\"figure.figsize\"] = (18,9)\n",
    "\n",
    "\n",
    "yu = 10;\n",
    "yl = -yu\n",
    "\n",
    "xl = -5\n",
    "xr = 5\n",
    "\n",
    "# Set x, y  points\n",
    "npoints = 200\n",
    "x = np.linspace(xl, xr, npoints*2)\n",
    "y = np.linspace(yl, yu, npoints)\n",
    "\n",
    "X, Y = np.meshgrid(x, y)\n",
    "\n",
    "# Psi\n",
    "plt.subplot(1,2,1)\n",
    "\n",
    "Z = Vinf * Y + (Lambda)/(2 * np.pi) * np.arctan2(Y,X)\n",
    "levels = np.linspace(np.min(Z),np.max(Z),41)\n",
    "CS = plt.contour(X, Y, Z, levels=levels)\n",
    "plt.clabel(CS, inline=1, fontsize=11)\n",
    "\n",
    "plt.title(r'$\\Psi = V_\\infty y + \\frac{\\Lambda}{2 \\pi} \\theta$')\n",
    "plt.xlabel('$x$')\n",
    "plt.ylabel('$y$')\n",
    "plt.grid()\n",
    "\n",
    "#Phi\n",
    "plt.subplot(1,2,2)\n",
    "Z = Vinf * X + (Lambda)/(2 * np.pi) * np.log( np.sqrt(np.power(X,2) + np.power(Y,2)) )\n",
    "\n",
    "#plt.contour(Z,np.linspace(Z.min(),Z.max(),15))\n",
    "#levels = np.linspace(np.min(Z),0.0035,11)\n",
    "levels = np.linspace(np.min(Z),np.max(Z),41)\n",
    "\n",
    "CS = plt.contour(X, Y, Z, levels=levels)\n",
    "#CS = plt.contour(X, Y, Z)\n",
    "plt.clabel(CS, inline=1, fontsize=11)\n",
    "\n",
    "\n",
    "plt.title(r'$\\Phi = V_\\infty x + \\frac{\\Lambda}{2 \\pi} \\ln r $')\n",
    "plt.xlabel('$x$')\n",
    "plt.ylabel('$y$')\n",
    "\n",
    "\n",
    "plt.tight_layout()\n",
    "plt.show"
   ]
  },
  {
   "cell_type": "code",
   "execution_count": null,
   "metadata": {
    "collapsed": true
   },
   "outputs": [],
   "source": [
    "# Make data.\n",
    " # Set range\n",
    "plt.rcParams[\"figure.figsize\"] = (20,8)\n",
    "xr = 5\n",
    "xl = -xr\n",
    "yu = 5\n",
    "yl = -yu\n",
    "\n",
    "# Set x, y  points\n",
    "npoints = 100\n",
    "x = np.linspace(xl, xr, npoints)\n",
    "y = np.linspace(yl, yu, npoints)\n",
    "X, Y = np.meshgrid(x, y) \n",
    "\n",
    "Vinf = 1\n",
    "Lambda = 8\n",
    "Z = Vinf * Y + (Lambda)/(2 * np.pi) * np.arctan2(Y,X)\n",
    "Z2 = Vinf * X + (Lambda)/(2 * np.pi) * np.log( np.sqrt(np.power(X,2) + np.power(Y,2)) )\n",
    "\n",
    "fig = plt.figure()\n",
    "ax = fig.add_subplot(121, projection='3d')\n",
    "surf = ax.plot_surface(X, Y, Z, cmap=cm.jet)\n",
    "plt.title(r'$\\Psi = V_\\infty y + \\frac{\\Lambda}{2 \\pi} \\theta$')\n",
    "plt.xlabel('x')\n",
    "plt.ylabel('y')\n",
    "ax.view_init(0, -40)\n",
    "\n",
    "ax = fig.add_subplot(122, projection='3d')\n",
    "surf = ax.plot_surface(X, Y, Z2, rstride=1, cstride=1, cmap=cm.jet)\n",
    "plt.title(r'$\\Phi = V_\\infty x + \\frac{\\Lambda}{2 \\pi} \\ln r $')\n",
    "plt.xlabel('x')\n",
    "plt.ylabel('y')\n",
    "ax.view_init(15, 90)\n",
    "plt.show()\n"
   ]
  },
  {
   "cell_type": "code",
   "execution_count": null,
   "metadata": {
    "collapsed": true,
    "scrolled": false
   },
   "outputs": [],
   "source": [
    "# Superposition of uniform Flow and source Flow interactive chart\n",
    "\n",
    "def uniformAndSourcePlot(C, C2, Lambda):\n",
    "    # Set freestream velocity\n",
    "    Vinf = 1 # (units: m/s)\n",
    "    plt.rcParams[\"figure.figsize\"] = (10,8)\n",
    "    # Set range\n",
    "    xr = 10\n",
    "    xl = -xr\n",
    "    yu = 10\n",
    "    yl = -yu\n",
    "       \n",
    "    # Set x, y  points\n",
    "    npoints = 100\n",
    "    x = np.linspace(xl, xr, npoints)\n",
    "    y = np.linspace(yl, yu, npoints)\n",
    "    X, Y = np.meshgrid(x, y)\n",
    "    \n",
    "    \n",
    "    Z = Vinf * Y + (Lambda)/(2 * np.pi) * np.arctan2(Y,X)\n",
    "    CS = plt.contour(X, Y, Z, levels=[C])\n",
    "    fmt='%1.4f'\n",
    "    plt.clabel(CS, inline=1, fontsize=11, fmt=fmt)\n",
    "    \n",
    "\n",
    "    Z = Vinf * X + (Lambda)/(2 * np.pi) * np.log( np.sqrt(np.power(X,2) + np.power(Y,2)) )\n",
    "    CS2 = plt.contour(X, Y, Z, levels=[C2], colors='k',linestyles='dashed')\n",
    "    plt.clabel(CS2, inline=1, fontsize=11, fmt=fmt)\n",
    "    \n",
    "    plt.title(r'$\\Psi = V_\\infty y + \\frac{\\Lambda}{2 \\pi} \\theta$   and   $\\Phi = V_\\infty x + \\frac{\\Lambda}{2 \\pi} \\ln r $')\n",
    "    plt.xlabel('x')\n",
    "    plt.ylabel('y')\n",
    "    plt.tight_layout()\n",
    "    plt.show()\n",
    "    \n",
    "interactive_plot = interactive(uniformAndSourcePlot, C=widgets.FloatSlider(value=1,min=-10,max=10,step=0.2,description='$\\Psi$'), C2=widgets.FloatSlider(value=-0.8,min=-10,max=10,step=0.2,description='$\\Phi$'), Lambda=widgets.FloatSlider(value=8,min=0.5,max=10,step=0.5,description='$\\Lambda$'));\n",
    "interactive_plot.children[0].layout.height = '30px'\n",
    "interactive_plot.children[0].layout.width = '500px'\n",
    "interactive_plot.children[0].readout_format = '.4f'\n",
    "interactive_plot.children[1].layout.height = '30px'\n",
    "interactive_plot.children[1].layout.width = '500px'\n",
    "interactive_plot.children[1].readout_format = '.4f'\n",
    "interactive_plot.children[2].layout.height = '30px'\n",
    "interactive_plot.children[2].layout.width = '500px'\n",
    "interactive_plot.children[2].readout_format = '.4f'\n",
    "interactive_plot\n",
    "#print(interactive_plot.children[1].keys)"
   ]
  },
  {
   "cell_type": "code",
   "execution_count": null,
   "metadata": {
    "collapsed": true
   },
   "outputs": [],
   "source": []
  },
  {
   "cell_type": "markdown",
   "metadata": {
    "collapsed": true
   },
   "source": [
    "$$\\text{Rankine Oval}$$\n",
    "$$\\Psi = V_\\infty y + \\frac{\\Lambda}{2 \\pi} (\\theta_1-\\theta_2)\\\\$$\n",
    "$$\\Phi = V_\\infty x + \\frac{\\Lambda}{2 \\pi} (\\ln r_1/r_2) $$"
   ]
  },
  {
   "cell_type": "code",
   "execution_count": null,
   "metadata": {
    "collapsed": true
   },
   "outputs": [],
   "source": [
    "Lambda = 4\n",
    "Vinf = 1\n",
    "\n",
    "plt.rcParams[\"figure.figsize\"] = (18,9)\n",
    "\n",
    "xr = 4.5\n",
    "xl = -xr\n",
    "\n",
    "yu = 3;\n",
    "yl = -yu\n",
    "\n",
    "\n",
    "# Set x, y  points\n",
    "npoints = 200\n",
    "x = np.linspace(xl, xr, npoints*2)\n",
    "y = np.linspace(yl, yu, npoints)\n",
    "\n",
    "X, Y = np.meshgrid(x, y)\n",
    "\n",
    "xloc = 1.5\n",
    "# Psi\n",
    "plt.subplot(1,2,1)\n",
    "Z = Vinf * Y + (Lambda)/(2 * np.pi) * np.arctan2(Y,X + xloc) - (Lambda)/(2 * np.pi) * np.arctan2(Y,X - xloc)\n",
    "#CS = plt.contour(X, Y, Z)\n",
    "levels = np.linspace(np.min(Z),np.max(Z),35)\n",
    "CS = plt.contour(X, Y, Z, levels=levels)\n",
    "plt.clabel(CS, inline=1, fontsize=11)\n",
    "#plt.axis('equal','box')\n",
    "#plt.title('Simplest default with labels')\n",
    "plt.title(r'$\\Psi = V_\\infty y + \\frac{\\Lambda}{2 \\pi} (\\theta_1-\\theta_2)$')\n",
    "plt.xlabel('$x$')\n",
    "plt.ylabel('$y$')\n",
    "#plt.xlim(-0.1, .1)\n",
    "plt.grid()\n",
    "\n",
    "#Phi\n",
    "plt.subplot(1,2,2)\n",
    "\n",
    "Z = Vinf * X + (Lambda)/(2 * np.pi) * np.log( np.sqrt(np.power(X + xloc,2) + np.power(Y,2)) ) - (Lambda)/(2 * np.pi) * np.log( np.sqrt(np.power(X - xloc,2) + np.power(Y,2)) )\n",
    "\n",
    "#plt.contour(Z,np.linspace(Z.min(),Z.max(),15))\n",
    "#levels = np.linspace(np.min(Z),0.0035,11)\n",
    "levels = np.linspace(np.min(Z),np.max(Z),15)\n",
    "\n",
    "CS = plt.contour(X, Y, Z, levels=levels)\n",
    "#CS = plt.contour(X, Y, Z)\n",
    "plt.clabel(CS, inline=1, fontsize=11)\n",
    "\n",
    "\n",
    "plt.title(r'$\\Phi = V_\\infty x + \\frac{\\Lambda}{2 \\pi} \\ln (r_1/r_2) $')\n",
    "plt.xlabel('$x$')\n",
    "plt.ylabel('$y$')\n",
    "\n",
    "\n",
    "plt.tight_layout()\n",
    "plt.show"
   ]
  },
  {
   "cell_type": "code",
   "execution_count": null,
   "metadata": {
    "collapsed": true
   },
   "outputs": [],
   "source": [
    "# Make data.\n",
    " # Set range\n",
    "plt.rcParams[\"figure.figsize\"] = (20,8)\n",
    "xr = 4.5\n",
    "xl = -xr\n",
    "yu = 3\n",
    "yl = -yu\n",
    "\n",
    "# Set x, y  points\n",
    "npoints = 100\n",
    "x = np.linspace(xl, xr, npoints)\n",
    "y = np.linspace(yl, yu, npoints)\n",
    "X, Y = np.meshgrid(x, y) \n",
    "\n",
    "Vinf = 1\n",
    "Lambda = 4\n",
    "xloc = 1.5\n",
    "Z = Vinf * Y + (Lambda)/(2 * np.pi) * np.arctan2(Y,X + xloc) - (Lambda)/(2 * np.pi) * np.arctan2(Y,X - xloc)\n",
    "Z2 = Vinf * X + (Lambda)/(2 * np.pi) * np.log( np.sqrt(np.power(X + xloc,2) + np.power(Y,2)) ) - (Lambda)/(2 * np.pi) * np.log( np.sqrt(np.power(X - xloc,2) + np.power(Y,2)) )\n",
    "\n",
    "fig = plt.figure()\n",
    "ax = fig.add_subplot(121, projection='3d')\n",
    "surf = ax.plot_surface(X, Y, Z, cmap=cm.jet)\n",
    "plt.title(r'$\\Psi = V_\\infty y + \\frac{\\Lambda}{2 \\pi} (\\theta_1-\\theta_2)$')\n",
    "plt.xlabel('x')\n",
    "plt.ylabel('y')\n",
    "ax.view_init(30, 30)\n",
    "\n",
    "ax = fig.add_subplot(122, projection='3d')\n",
    "surf = ax.plot_surface(X, Y, Z2, rstride=1, cstride=1, cmap=cm.jet)\n",
    "plt.title(r'$\\Phi = V_\\infty x + \\frac{\\Lambda}{2 \\pi} \\ln (r_1/r_2) $')\n",
    "plt.xlabel('x')\n",
    "plt.ylabel('y')\n",
    "ax.view_init(15, 90)\n",
    "plt.show()\n"
   ]
  },
  {
   "cell_type": "code",
   "execution_count": null,
   "metadata": {
    "collapsed": true
   },
   "outputs": [],
   "source": [
    "# Rankine Oval interactive chart\n",
    "\n",
    "def rankineOvalPlot(C, C2, Lambda,xloc):\n",
    "    # Set freestream velocity\n",
    "    Vinf = 1 # (units: m/s)\n",
    "    plt.rcParams[\"figure.figsize\"] = (10,8)\n",
    "    # Set range\n",
    "    xr = 10\n",
    "    xl = -xr\n",
    "    yu = 10\n",
    "    yl = -yu\n",
    "       \n",
    "    # Set x, y  points\n",
    "    npoints = 100\n",
    "    x = np.linspace(xl, xr, npoints)\n",
    "    y = np.linspace(yl, yu, npoints)\n",
    "    X, Y = np.meshgrid(x, y)\n",
    "    \n",
    "    \n",
    "    Z = Vinf * Y + (Lambda)/(2 * np.pi) * np.arctan2(Y,X + xloc) - (Lambda)/(2 * np.pi) * np.arctan2(Y,X - xloc)\n",
    "    CS = plt.contour(X, Y, Z, levels=[C])\n",
    "    fmt='%1.4f'\n",
    "    plt.clabel(CS, inline=1, fontsize=11, fmt=fmt)\n",
    "    \n",
    "\n",
    "    Z = Vinf * X + (Lambda)/(2 * np.pi) * np.log( np.sqrt(np.power(X + xloc,2) + np.power(Y,2)) ) - (Lambda)/(2 * np.pi) * np.log( np.sqrt(np.power(X - xloc,2) + np.power(Y,2)) )\n",
    "    CS2 = plt.contour(X, Y, Z, levels=[C2], colors='k',linestyles='dashed')\n",
    "    plt.clabel(CS2, inline=1, fontsize=11, fmt=fmt)\n",
    "    \n",
    "    plt.title(r'$\\Psi = V_\\infty y + \\frac{\\Lambda}{2 \\pi} (\\theta_1-\\theta_2)$   and   $\\Phi = V_\\infty x + \\frac{\\Lambda}{2 \\pi} \\ln (r_1/r_2) $')\n",
    "    plt.xlabel('x')\n",
    "    plt.ylabel('y')\n",
    "    plt.tight_layout()\n",
    "    plt.show()\n",
    "    \n",
    "interactive_plot = interactive(rankineOvalPlot, C=widgets.FloatSlider(value=0,min=-10,max=10,step=0.1,description='$\\Psi$'), C2=widgets.FloatSlider(value=-3.2,min=-10,max=10,step=0.1,description='$\\Phi$'), Lambda=widgets.FloatSlider(value=4,min=0.5,max=10,step=0.5,description='$\\Lambda$'), xloc=widgets.FloatSlider(value=1.5,min=0.25,max=5,step=0.25,description='$xLoc$'));\n",
    "interactive_plot.children[0].layout.height = '30px'\n",
    "interactive_plot.children[0].layout.width = '500px'\n",
    "interactive_plot.children[0].readout_format = '.4f'\n",
    "interactive_plot.children[1].layout.height = '30px'\n",
    "interactive_plot.children[1].layout.width = '500px'\n",
    "interactive_plot.children[1].readout_format = '.4f'\n",
    "interactive_plot.children[2].layout.height = '30px'\n",
    "interactive_plot.children[2].layout.width = '500px'\n",
    "interactive_plot.children[2].readout_format = '.4f'\n",
    "interactive_plot.children[3].layout.height = '30px'\n",
    "interactive_plot.children[3].layout.width = '500px'\n",
    "interactive_plot.children[3].readout_format = '.4f'\n",
    "interactive_plot\n",
    "#print(interactive_plot.children[1].keys)"
   ]
  },
  {
   "cell_type": "code",
   "execution_count": null,
   "metadata": {
    "collapsed": true
   },
   "outputs": [],
   "source": []
  },
  {
   "cell_type": "markdown",
   "metadata": {},
   "source": [
    "$$\\text{Cylinder (Non-lifting flow)}$$\n",
    "$$\\Psi = V_\\infty y-\\frac{\\kappa}{2 \\pi} \\frac{sin\\theta}{r} \\\\$$\n",
    "$$\\Phi = V_\\infty x + \\frac{\\kappa}{2 \\pi} \\frac{cos\\theta}{r} $$"
   ]
  },
  {
   "cell_type": "code",
   "execution_count": null,
   "metadata": {
    "collapsed": true
   },
   "outputs": [],
   "source": [
    "# Cylinder (Non-lifting flow)\n",
    "\n",
    "# uniform  +  Doublet Flow\n",
    "Vinf = 1\n",
    "\n",
    "# Set range\n",
    "xr = 5\n",
    "xl = -xr\n",
    "\n",
    "yu = 5\n",
    "yl = -yu\n",
    "\n",
    "npoints = 100\n",
    "x = np.linspace(xl, xr, npoints)\n",
    "y = np.linspace(yl, yu, npoints)\n",
    "\n",
    "X, Y = np.meshgrid(x, y)\n",
    "\n",
    "Kappa = 10\n",
    "\n",
    "plt.rcParams[\"figure.figsize\"] = (18,9)\n",
    "\n",
    "\n",
    "plt.subplot(1,2,1)\n",
    "Z = Vinf * Y - Y*((Kappa)/(2 * np.pi))/(np.power(X,2) + np.power(Y,2)) \n",
    "levels = np.linspace(np.min(Z),np.max(Z),61)\n",
    "CS = plt.contour(X, Y, Z, levels=levels)\n",
    "fmt='%1.4f'\n",
    "plt.clabel(CS, inline=1, fontsize=11,fmt=fmt)\n",
    "plt.title(r'$\\Psi = V_\\infty y-\\frac{\\kappa}{2 \\pi} \\frac{sin\\theta}{r}$')\n",
    "plt.xlabel('$x$')\n",
    "plt.ylabel('$y$')\n",
    "\n",
    "\n",
    "plt.subplot(1,2,2)\n",
    "Z = Vinf * X + X*((Kappa)/(2 * np.pi))/(np.power(X,2) + np.power(Y,2)) \n",
    "levels = np.linspace(np.min(Z),np.max(Z),61)\n",
    "CS = plt.contour(X, Y, Z, levels=levels)\n",
    "plt.clabel(CS, inline=1, fontsize=11, fmt=fmt)\n",
    "\n",
    "\n",
    "\n",
    "\n",
    "#plt.axis('equal','box')\n",
    "#plt.title('Simplest default with labels')\n",
    "plt.title(r'$\\Phi = V_\\infty x +\\frac{\\kappa}{2 \\pi} \\frac{cos\\theta}{r}$')\n",
    "plt.xlabel('$x$')\n",
    "plt.ylabel('$y$')\n",
    "\n",
    "plt.tight_layout()\n",
    "plt.show"
   ]
  },
  {
   "cell_type": "code",
   "execution_count": null,
   "metadata": {
    "collapsed": true
   },
   "outputs": [],
   "source": [
    "# Make data.\n",
    " # Set range\n",
    "plt.rcParams[\"figure.figsize\"] = (20,8)\n",
    "xr = 5\n",
    "xl = -xr\n",
    "yu = 5\n",
    "yl = -yu\n",
    "\n",
    "# Set x, y  points\n",
    "npoints = 100\n",
    "x = np.linspace(xl, xr, npoints)\n",
    "y = np.linspace(yl, yu, npoints)\n",
    "X, Y = np.meshgrid(x, y) \n",
    "\n",
    "Vinf = 1\n",
    "Kappa = 10\n",
    "xloc = 1.5\n",
    "Z = Vinf * Y - Y*((Kappa)/(2 * np.pi))/(np.power(X,2) + np.power(Y,2)) \n",
    "Z2 = Vinf * X + X*((Kappa)/(2 * np.pi))/(np.power(X,2) + np.power(Y,2)) \n",
    "fig = plt.figure()\n",
    "ax = fig.add_subplot(121, projection='3d')\n",
    "surf = ax.plot_surface(X, Y, Z, cmap=cm.jet)\n",
    "plt.title(r'$\\Psi = V_\\infty y-\\frac{\\kappa}{2 \\pi} \\frac{sin\\theta}{r}$')\n",
    "plt.xlabel('x')\n",
    "plt.ylabel('y')\n",
    "ax.view_init(30, 70)\n",
    "\n",
    "ax = fig.add_subplot(122, projection='3d')\n",
    "surf = ax.plot_surface(X, Y, Z2, rstride=1, cstride=1, cmap=cm.jet)\n",
    "plt.title(r'$\\Phi = V_\\infty x +\\frac{\\kappa}{2 \\pi} \\frac{cos\\theta}{r}$')\n",
    "plt.xlabel('x')\n",
    "plt.ylabel('y')\n",
    "ax.view_init(30, 70)\n",
    "plt.show()\n"
   ]
  },
  {
   "cell_type": "code",
   "execution_count": null,
   "metadata": {
    "collapsed": true
   },
   "outputs": [],
   "source": [
    "# Cylinder (Non-lifting flow) interactive chart\n",
    "\n",
    "def cylinderNonLiftingPlot(C, C2, Kappa):\n",
    "    # Set freestream velocity\n",
    "    Vinf = 1 # (units: m/s)\n",
    "    plt.rcParams[\"figure.figsize\"] = (10,8)\n",
    "    # Set range\n",
    "    xr = 5\n",
    "    xl = -xr\n",
    "    yu = 5\n",
    "    yl = -yu\n",
    "       \n",
    "    # Set x, y  points\n",
    "    npoints = 100\n",
    "    x = np.linspace(xl, xr, npoints)\n",
    "    y = np.linspace(yl, yu, npoints)\n",
    "    X, Y = np.meshgrid(x, y)\n",
    "    \n",
    "    \n",
    "    Z = Vinf * Y - Y*((Kappa)/(2 * np.pi))/(np.power(X,2) + np.power(Y,2))\n",
    "    CS = plt.contour(X, Y, Z, levels=[C])\n",
    "    fmt='%1.5f'\n",
    "    plt.clabel(CS, inline=1, fontsize=11, fmt=fmt)\n",
    "    \n",
    "\n",
    "    Z = Vinf * X + X*((Kappa)/(2 * np.pi))/(np.power(X,2) + np.power(Y,2)) \n",
    "    CS2 = plt.contour(X, Y, Z, levels=[C2], colors='k',linestyles='dashed')\n",
    "    plt.clabel(CS2, inline=1, fontsize=11, fmt=fmt)\n",
    "    \n",
    "    plt.title(r'$\\Psi = V_\\infty y-\\frac{\\kappa}{2 \\pi} \\frac{sin\\theta}{r}$   and   $\\Phi = V_\\infty x+\\frac{\\kappa}{2 \\pi} \\frac{cos\\theta}{r}$')\n",
    "    plt.xlabel('x')\n",
    "    plt.ylabel('y')\n",
    "    plt.tight_layout()\n",
    "    plt.show()\n",
    "    \n",
    "interactive_plot = interactive(cylinderNonLiftingPlot, C=widgets.FloatSlider(value=0,min=-5,max=5,step=0.1,description='$\\Psi$'), C2=widgets.FloatSlider(value=-3,min=-5,max=5,step=0.1,description='$\\Phi$'), Kappa=widgets.FloatSlider(value=32,min=0,max=60,step=4,description='$\\kappa$'));\n",
    "interactive_plot.children[0].layout.height = '30px'\n",
    "interactive_plot.children[0].layout.width = '500px'\n",
    "interactive_plot.children[0].readout_format = '.4f'\n",
    "interactive_plot.children[1].layout.height = '30px'\n",
    "interactive_plot.children[1].layout.width = '500px'\n",
    "interactive_plot.children[1].readout_format = '.4f'\n",
    "interactive_plot.children[2].layout.height = '30px'\n",
    "interactive_plot.children[2].layout.width = '500px'\n",
    "interactive_plot.children[2].readout_format = '.4f'\n",
    "interactive_plot\n",
    "#print(interactive_plot.children[1].keys)"
   ]
  },
  {
   "cell_type": "code",
   "execution_count": null,
   "metadata": {
    "collapsed": true
   },
   "outputs": [],
   "source": []
  },
  {
   "cell_type": "markdown",
   "metadata": {},
   "source": [
    "$$\\text{Cylinder (lifting flow)}$$\n",
    "$$\\Psi = V_\\infty y-\\frac{\\kappa}{2 \\pi} \\frac{sin\\theta}{r} + \\frac{\\Gamma}{2 \\pi} \\ln r \\\\$$\n",
    "$$\\Phi = V_\\infty x + \\frac{\\kappa}{2 \\pi} \\frac{cos\\theta}{r}-\\frac{\\Gamma}{2 \\pi} \\theta $$"
   ]
  },
  {
   "cell_type": "code",
   "execution_count": null,
   "metadata": {
    "collapsed": true
   },
   "outputs": [],
   "source": [
    "# Cylinder (Lifting flow)\n",
    "\n",
    "\n",
    "# uniform  +  Doublet Flow\n",
    "Vinf = 1\n",
    "\n",
    "# Set range\n",
    "xr = 5\n",
    "xl = -xr\n",
    "\n",
    "yu = 5\n",
    "yl = -yu\n",
    "\n",
    "npoints = 100\n",
    "x = np.linspace(xl, xr, npoints)\n",
    "y = np.linspace(yl, yu, npoints)\n",
    "\n",
    "X, Y = np.meshgrid(x, y)\n",
    "\n",
    "Kappa = 10\n",
    "Gamma = 5\n",
    "\n",
    "plt.rcParams[\"figure.figsize\"] = (18,9)\n",
    "\n",
    "\n",
    "plt.subplot(1,2,1)\n",
    "Z = Vinf * Y - Y*((Kappa)/(2 * np.pi))/(np.power(X,2) + np.power(Y,2)) + (Gamma)/(2 * np.pi) * np.log( np.sqrt(np.power(X,2) + np.power(Y,2)) ) \n",
    "levels = np.linspace(np.min(Z),np.max(Z),61)\n",
    "CS = plt.contour(X, Y, Z, levels=levels)\n",
    "fmt='%1.4f'\n",
    "plt.clabel(CS, inline=1, fontsize=11,fmt=fmt)\n",
    "plt.title(r'$\\Psi = V_\\infty y-\\frac{\\kappa}{2 \\pi} \\frac{sin\\theta}{r}+\\frac{\\Gamma}{2 \\pi} \\ln r$')\n",
    "plt.xlabel('$x$')\n",
    "plt.ylabel('$y$')\n",
    "\n",
    "\n",
    "plt.subplot(1,2,2)\n",
    "Z = Vinf * X + X*((Kappa)/(2 * np.pi))/(np.power(X,2) + np.power(Y,2)) - (Gamma)/(2 * np.pi) * np.arctan(Y/X) \n",
    "levels = np.linspace(np.min(Z),np.max(Z),61)\n",
    "CS = plt.contour(X, Y, Z, levels=levels)\n",
    "plt.clabel(CS, inline=1, fontsize=11, fmt=fmt)\n",
    "\n",
    "\n",
    "\n",
    "\n",
    "#plt.axis('equal','box')\n",
    "#plt.title('Simplest default with labels')\n",
    "plt.title(r'$\\Phi = V_\\infty x +\\frac{\\kappa}{2 \\pi} \\frac{cos\\theta}{r}-\\frac{\\Gamma}{2 \\pi} \\theta$')\n",
    "plt.xlabel('$x$')\n",
    "plt.ylabel('$y$')\n",
    "\n",
    "plt.tight_layout()\n",
    "plt.show"
   ]
  },
  {
   "cell_type": "code",
   "execution_count": null,
   "metadata": {
    "collapsed": true
   },
   "outputs": [],
   "source": [
    "# Make data.\n",
    " # Set range\n",
    "plt.rcParams[\"figure.figsize\"] = (20,8)\n",
    "xr = 5\n",
    "xl = -xr\n",
    "yu = 5\n",
    "yl = -yu\n",
    "\n",
    "# Set x, y  points\n",
    "npoints = 100\n",
    "x = np.linspace(xl, xr, npoints)\n",
    "y = np.linspace(yl, yu, npoints)\n",
    "X, Y = np.meshgrid(x, y) \n",
    "\n",
    "Vinf = 1\n",
    "Kappa = 10\n",
    "Gamma = 5\n",
    "Z = Vinf * Y - Y*((Kappa)/(2 * np.pi))/(np.power(X,2) + np.power(Y,2)) + (Gamma)/(2 * np.pi) * np.log( np.sqrt(np.power(X,2) + np.power(Y,2)) ) \n",
    "Z2 = Vinf * X + X*((Kappa)/(2 * np.pi))/(np.power(X,2) + np.power(Y,2)) - (Gamma)/(2 * np.pi) * np.arctan(Y/X) \n",
    "fig = plt.figure()\n",
    "ax = fig.add_subplot(121, projection='3d')\n",
    "surf = ax.plot_surface(X, Y, Z, cmap=cm.jet)\n",
    "plt.title(r'$\\Psi = V_\\infty y-\\frac{\\kappa}{2 \\pi} \\frac{sin\\theta}{r}+\\frac{\\Gamma}{2 \\pi} \\ln r$')\n",
    "plt.xlabel('x')\n",
    "plt.ylabel('y')\n",
    "ax.view_init(30, 70)\n",
    "\n",
    "ax = fig.add_subplot(122, projection='3d')\n",
    "surf = ax.plot_surface(X, Y, Z2, rstride=1, cstride=1, cmap=cm.jet)\n",
    "plt.title(r'$\\Phi = V_\\infty x +\\frac{\\kappa}{2 \\pi} \\frac{cos\\theta}{r}-\\frac{\\Gamma}{2 \\pi} \\theta$')\n",
    "plt.xlabel('x')\n",
    "plt.ylabel('y')\n",
    "ax.view_init(30, 70)\n",
    "plt.show()\n"
   ]
  },
  {
   "cell_type": "code",
   "execution_count": null,
   "metadata": {
    "collapsed": true
   },
   "outputs": [],
   "source": [
    "# Cylinder (lifting flow) interactive chart\n",
    "\n",
    "def cylinderLiftingPlot(C, C2, Kappa, Gamma):\n",
    "    # Set freestream velocity\n",
    "    Vinf = 1 # (units: m/s)\n",
    "    plt.rcParams[\"figure.figsize\"] = (10,8)\n",
    "    # Set range\n",
    "    xr = 5\n",
    "    xl = -xr\n",
    "    yu = 5\n",
    "    yl = -yu\n",
    "       \n",
    "    # Set x, y  points\n",
    "    npoints = 100\n",
    "    x = np.linspace(xl, xr, npoints)\n",
    "    y = np.linspace(yl, yu, npoints)\n",
    "    X, Y = np.meshgrid(x, y)\n",
    "    \n",
    "    \n",
    "    Z = Vinf * Y - Y*((Kappa)/(2 * np.pi))/(np.power(X,2) + np.power(Y,2)) + (Gamma)/(2 * np.pi) * np.log( np.sqrt(np.power(X,2) + np.power(Y,2)) ) \n",
    "    CS = plt.contour(X, Y, Z, levels=[C])\n",
    "    fmt='%1.5f'\n",
    "    plt.clabel(CS, inline=1, fontsize=11, fmt=fmt)\n",
    "    \n",
    "\n",
    "    Z = Vinf * X + X*((Kappa)/(2 * np.pi))/(np.power(X,2) + np.power(Y,2)) - (Gamma)/(2 * np.pi) * np.arctan(Y/X)  \n",
    "    CS2 = plt.contour(X, Y, Z, levels=[C2], colors='k',linestyles='dashed')\n",
    "    plt.clabel(CS2, inline=1, fontsize=11, fmt=fmt)\n",
    "    \n",
    "    plt.title(r'$\\Psi = V_\\infty y -\\frac{\\kappa}{2 \\pi} \\frac{sin\\theta}{r}+\\frac{\\Gamma}{2 \\pi} \\ln r$   and   $\\Phi = V_\\infty x +\\frac{\\kappa}{2 \\pi} \\frac{cos\\theta}{r}-\\frac{\\Gamma}{2 \\pi} \\theta$')\n",
    "    plt.xlabel('x')\n",
    "    plt.ylabel('y')\n",
    "    plt.tight_layout()\n",
    "    plt.show()\n",
    "    \n",
    "interactive_plot = interactive(cylinderLiftingPlot, C=widgets.FloatSlider(value=0,min=-5,max=5,step=0.1,description='$\\Psi$'), C2=widgets.FloatSlider(value=-3,min=-5,max=5,step=0.1,description='$\\Phi$'), Kappa=widgets.FloatSlider(value=32,min=0,max=60,step=2,description='$\\kappa$'), Gamma=widgets.FloatSlider(value=1,min=0,max=30,step=1,description='$\\Gamma$'));\n",
    "interactive_plot.children[0].layout.height = '30px'\n",
    "interactive_plot.children[0].layout.width = '500px'\n",
    "interactive_plot.children[0].readout_format = '.4f'\n",
    "interactive_plot.children[1].layout.height = '30px'\n",
    "interactive_plot.children[1].layout.width = '500px'\n",
    "interactive_plot.children[1].readout_format = '.4f'\n",
    "interactive_plot.children[2].layout.height = '30px'\n",
    "interactive_plot.children[2].layout.width = '500px'\n",
    "interactive_plot.children[2].readout_format = '.4f'\n",
    "interactive_plot.children[3].layout.height = '30px'\n",
    "interactive_plot.children[3].layout.width = '500px'\n",
    "interactive_plot.children[3].readout_format = '.4f'\n",
    "interactive_plot\n",
    "#print(interactive_plot.children[1].keys)"
   ]
  },
  {
   "cell_type": "code",
   "execution_count": null,
   "metadata": {
    "collapsed": true
   },
   "outputs": [],
   "source": []
  }
 ],
 "metadata": {
  "kernelspec": {
   "display_name": "Python 3",
   "language": "python",
   "name": "python3"
  },
  "language_info": {
   "codemirror_mode": {
    "name": "ipython",
    "version": 3
   },
   "file_extension": ".py",
   "mimetype": "text/x-python",
   "name": "python",
   "nbconvert_exporter": "python",
   "pygments_lexer": "ipython3",
   "version": "3.6.3"
  },
  "widgets": {
   "state": {
    "13735978d880420a968b1b1e29acfe92": {
     "views": [
      {
       "cell_index": 31
      }
     ]
    },
    "445d7cffa03d423fbe6fd22bebc72524": {
     "views": [
      {
       "cell_index": 10
      }
     ]
    },
    "74972574bba94ee68954013e1e465b6b": {
     "views": [
      {
       "cell_index": 39
      }
     ]
    },
    "a1c0e346a55a454ab1dc7b2d93d72ad3": {
     "views": [
      {
       "cell_index": 27
      }
     ]
    },
    "a69944af17a6487f9f25e0316ff6d463": {
     "views": [
      {
       "cell_index": 19
      }
     ]
    },
    "bef5ed9ffe204b81a8ea572c98d16e6e": {
     "views": [
      {
       "cell_index": 15
      }
     ]
    },
    "f88d9519232e426d8f0d8b65ca7caa36": {
     "views": [
      {
       "cell_index": 35
      }
     ]
    },
    "fe733fb059a14047acef3c23ffac0cda": {
     "views": [
      {
       "cell_index": 23
      }
     ]
    }
   },
   "version": "1.2.0"
  }
 },
 "nbformat": 4,
 "nbformat_minor": 2
}
