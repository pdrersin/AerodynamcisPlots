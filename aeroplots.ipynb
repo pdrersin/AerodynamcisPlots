{
 "cells": [
  {
   "cell_type": "code",
   "execution_count": 1,
   "metadata": {},
   "outputs": [],
   "source": [
    "# General Purpose\n",
    "import pandas as pd\n",
    "import numpy as np\n",
    "import matplotlib\n",
    "from matplotlib import pyplot as plt\n",
    "from scipy.integrate import odeint\n",
    "import matplotlib.ticker as ticker\n",
    "from mpl_toolkits.mplot3d import Axes3D\n",
    "from scipy.interpolate import griddata\n",
    "from matplotlib.ticker import LinearLocator, FormatStrFormatter\n",
    "import matplotlib.cm as cm\n",
    "import matplotlib.mlab as mlab\n",
    "import matplotlib.pyplot as plt\n",
    "\n",
    "\n",
    "# Jupyter Specifics\n",
    "from IPython.display import HTML\n",
    "#from ipywidgets.widgets import interact, IntSlider, FloatSlider, Layout\n",
    "\n",
    "import ipywidgets as widgets\n",
    "from ipywidgets import interact, interactive, fixed, interact_manual, IntSlider, FloatSlider, Layout\n",
    "\n",
    "\n",
    "%matplotlib inline\n",
    "matplotlib.rcParams['xtick.direction'] = 'out'\n",
    "matplotlib.rcParams['ytick.direction'] = 'out'\n",
    "\n",
    "style = {'description_width': '150px'}\n",
    "slider_layout = Layout(width='99%')"
   ]
  },
  {
   "cell_type": "code",
   "execution_count": 2,
   "metadata": {},
   "outputs": [],
   "source": [
    "# Set range\n",
    "xr = 10\n",
    "xl = -xr\n",
    "yu = 10\n",
    "yl = -yu\n",
    "\n",
    "# Set x, y  points\n",
    "npoints = 100\n",
    "x = np.linspace(xl, xr, npoints)\n",
    "y = np.linspace(yl, yu, npoints)\n",
    "X, Y = np.meshgrid(x, y)"
   ]
  },
  {
   "cell_type": "code",
   "execution_count": 3,
   "metadata": {},
   "outputs": [],
   "source": [
    "# Uniform Flow interactive chart\n",
    "def uniformPlot(C, C_star):\n",
    "    # Set freestream velocity\n",
    "    Vinf = 1 # (units: m/s)\n",
    "#     plt.rcParams[\"figure.figsize\"] = (15,10)\n",
    "    fig, ax = plt.subplots(figsize=(15, 10)) \n",
    "    \n",
    "    # Set range\n",
    "    xr = 10\n",
    "    xl = -xr\n",
    "    yu = 10\n",
    "    yl = -yu\n",
    "    \n",
    "    # Set x, y  points\n",
    "    npoints = 100\n",
    "    x = np.linspace(xl, xr, npoints)\n",
    "    y = np.linspace(yl, yu, npoints)\n",
    "    X, Y = np.meshgrid(x, y)    \n",
    "    \n",
    "    Z = Vinf * Y\n",
    "    CS = plt.contour(X, Y, Z,levels=[C])\n",
    "    Z = Vinf * X\n",
    "    CS2 = plt.contour(X, Y, Z,levels=[C_star], colors='k',linestyles='dashed')\n",
    "    plt.clabel(CS2, inline=1, fontsize=16)\n",
    "    linestyles = ['-', '--']\n",
    "    plt.clabel(CS, inline=1, fontsize=16)\n",
    "#     plt.title(r'$\\Psi=C$  and  $\\Phi = C^*$')\n",
    "    plt.xlabel('x')\n",
    "    plt.ylabel('y')\n",
    "#     ax.grid()\n",
    "    plt.tight_layout()\n",
    "    plt.show()\n",
    "    "
   ]
  },
  {
   "cell_type": "code",
   "execution_count": 4,
   "metadata": {},
   "outputs": [
    {
     "data": {
      "application/vnd.jupyter.widget-view+json": {
       "model_id": "11af2bc8462d403d8d109c52c0209728",
       "version_major": 2,
       "version_minor": 0
      },
      "text/plain": [
       "interactive(children=(IntSlider(value=2, description='$\\\\psi=C$', layout=Layout(width='99%'), max=9, min=-9, s…"
      ]
     },
     "metadata": {},
     "output_type": "display_data"
    }
   ],
   "source": [
    "interact(uniformPlot, C=widgets.IntSlider(value=2,min=-9,max=9,step=1,description='$\\psi=C$', style=style, layout=slider_layout), \n",
    "         C_star=widgets.IntSlider(value=2,min=-9,max=9,step=1,description='$\\Phi = C^*$', style=style, layout=slider_layout));\n",
    "# interactive_plot.children[0].layout.height = '30px'\n",
    "# interactive_plot.children[0].layout.width = '500px'\n",
    "# interactive_plot.children[1].layout.height = '30px'\n",
    "# interactive_plot.children[1].layout.width = '500px'\n",
    "# interactive_plot"
   ]
  },
  {
   "cell_type": "code",
   "execution_count": 5,
   "metadata": {},
   "outputs": [],
   "source": [
    "# Source Flow interactive chart\n",
    "\n",
    "def sourcePlot(C, C2, Lambda):\n",
    "    # Set freestream velocity\n",
    "    Vinf = 1 # (units: m/s)\n",
    "    fig, ax = plt.subplots(figsize=(15, 10)) \n",
    "    # Set range\n",
    "    xr = 10\n",
    "    xl = -xr\n",
    "    yu = 10\n",
    "    yl = -yu\n",
    "    \n",
    "    #Lambda = 0.05\n",
    "    \n",
    "    # Set x, y  points\n",
    "    npoints = 100\n",
    "    x = np.linspace(xl, xr, npoints)\n",
    "    y = np.linspace(yl, yu, npoints)\n",
    "    X, Y = np.meshgrid(x, y)\n",
    "    \n",
    "    \n",
    "    Z = (Lambda)/(2 * np.pi) * np.arctan(Y/X)\n",
    "    #Z=(Lambda)/(2 * np.pi) * np.arctan2(Y,X)\n",
    "    CS = plt.contour(X, Y, Z, levels=[C])\n",
    "    plt.clabel(CS, inline=1, fontsize=16)\n",
    "\n",
    "    Z = (Lambda)/(2 * np.pi) * np.log( np.sqrt(np.power(X,2) + np.power(Y,2)) )\n",
    "    CS2 = plt.contour(X, Y, Z, levels=[C2], colors='k',linestyles='dashed')\n",
    "    plt.clabel(CS2, inline=1, fontsize=16)\n",
    "    \n",
    "#     plt.title(r'$\\Psi =\\frac{\\Lambda}{2 \\pi}\\theta$ and $\\Phi = \\frac{\\Lambda}{2 \\pi} \\ln r $')\n",
    "    plt.xlabel('x')\n",
    "    plt.ylabel('y')\n",
    "    plt.tight_layout()\n",
    "    plt.show()\n",
    "    "
   ]
  },
  {
   "cell_type": "code",
   "execution_count": 6,
   "metadata": {},
   "outputs": [
    {
     "data": {
      "application/vnd.jupyter.widget-view+json": {
       "model_id": "e52aed20e9904a2aa0b0769992becf4f",
       "version_major": 2,
       "version_minor": 0
      },
      "text/plain": [
       "interactive(children=(FloatSlider(value=0.001, description='$\\\\Psi=\\\\frac{\\\\Lambda}{2 \\\\pi}\\\\theta$', layout=L…"
      ]
     },
     "metadata": {},
     "output_type": "display_data"
    }
   ],
   "source": [
    "interactive_plot = interactive(sourcePlot, \n",
    "                               C=widgets.FloatSlider(value=0.001,min=-0.01,max=0.01,step=0.00025,description=r'$\\Psi=\\frac{\\Lambda}{2 \\pi}\\theta$', style=style, layout=slider_layout), \n",
    "                               C2=widgets.FloatSlider(value=0.005,min=-0.01,max=0.01,step=0.00025,description=r'$\\Phi= \\frac{\\Lambda}{2 \\pi} \\ln r $', style=style, layout=slider_layout), \n",
    "                               Lambda=widgets.FloatSlider(value=0.03,min=0.01,max=0.1,step=0.01,description='$\\Lambda$', style=style, layout=slider_layout));\n",
    "\n",
    "interactive_plot.children[0].readout_format = '.4f'\n",
    "interactive_plot.children[1].readout_format = '.4f'\n",
    "interactive_plot.children[2].readout_format = '.4f'\n",
    "interactive_plot\n",
    "#print(interactive_plot.children[1].keys)"
   ]
  },
  {
   "cell_type": "code",
   "execution_count": 7,
   "metadata": {},
   "outputs": [],
   "source": [
    "# Vortex Flow interactive chart\n",
    "\n",
    "def vortexPlot(C, C2, Gamma):\n",
    "    # Set freestream velocity\n",
    "    Vinf = 1 # (units: m/s)\n",
    "    fig, ax = plt.subplots(figsize=(15, 10)) \n",
    "    # Set range\n",
    "    xr = 10\n",
    "    xl = -xr\n",
    "    yu = 10\n",
    "    yl = -yu\n",
    "       \n",
    "    # Set x, y  points\n",
    "    npoints = 100\n",
    "    x = np.linspace(xl, xr, npoints)\n",
    "    y = np.linspace(yl, yu, npoints)\n",
    "    X, Y = np.meshgrid(x, y)\n",
    "    \n",
    "    \n",
    "    Z = (Gamma)/(2 * np.pi) * np.log( np.sqrt(np.power(X,2) + np.power(Y,2)) )\n",
    "    CS = plt.contour(X, Y, Z, levels=[C])\n",
    "    fmt='%1.4f'\n",
    "    plt.clabel(CS, inline=1, fontsize=16, fmt=fmt)\n",
    "    \n",
    "\n",
    "    Z = -(Gamma)/(2 * np.pi) * np.arctan(Y/X)\n",
    "    CS2 = plt.contour(X, Y, Z, levels=[C2], colors='k',linestyles='dashed')\n",
    "    plt.clabel(CS2, inline=1, fontsize=16, fmt=fmt)\n",
    "    \n",
    "#     plt.title(r'$\\Psi = \\frac{\\Gamma}{2 \\pi} \\ln r$   and   $\\Phi = -\\frac{\\Gamma}{2 \\pi} \\theta$')\n",
    "    plt.xlabel('x')\n",
    "    plt.ylabel('y')\n",
    "    plt.tight_layout()\n",
    "    plt.show()\n",
    "  "
   ]
  },
  {
   "cell_type": "code",
   "execution_count": 8,
   "metadata": {},
   "outputs": [
    {
     "data": {
      "application/vnd.jupyter.widget-view+json": {
       "model_id": "cf04005fe81f4a75b3db9b1937aa171c",
       "version_major": 2,
       "version_minor": 0
      },
      "text/plain": [
       "interactive(children=(FloatSlider(value=0.006, description='$\\\\Psi = \\\\frac{\\\\Gamma}{2 \\\\pi} \\\\ln r$', layout=…"
      ]
     },
     "metadata": {},
     "output_type": "display_data"
    }
   ],
   "source": [
    "  \n",
    "interactive_plot = interactive(vortexPlot, \n",
    "                               C=widgets.FloatSlider(value=0.006,min=-0.01,max=0.01,step=0.00025,description=r'$\\Psi = \\frac{\\Gamma}{2 \\pi} \\ln r$', style=style, layout=slider_layout), \n",
    "                               C2=widgets.FloatSlider(value=0.001,min=-0.01,max=0.01,step=0.00025,description=r'$\\Phi = -\\frac{\\Gamma}{2 \\pi} \\theta$', style=style, layout=slider_layout), \n",
    "                               Gamma=widgets.FloatSlider(value=0.03,min=0.01,max=0.1,step=0.01,description='$\\Gamma$', style=style, layout=slider_layout));\n",
    "\n",
    "interactive_plot.children[0].readout_format = '.4f'\n",
    "interactive_plot.children[1].readout_format = '.4f'\n",
    "interactive_plot.children[2].readout_format = '.4f'\n",
    "interactive_plot"
   ]
  },
  {
   "cell_type": "code",
   "execution_count": 9,
   "metadata": {},
   "outputs": [],
   "source": [
    "# Doublet Flow interactive chart\n",
    "\n",
    "def doubletPlot(C, C2, Kappa):\n",
    "    # Set freestream velocity\n",
    "    Vinf = 1 # (units: m/s)\n",
    "    fig, ax = plt.subplots(figsize=(15, 10)) \n",
    "    # Set range\n",
    "    xr = 10\n",
    "    xl = -xr\n",
    "    yu = 10\n",
    "    yl = -yu\n",
    "       \n",
    "    # Set x, y  points\n",
    "    npoints = 100\n",
    "    x = np.linspace(xl, xr, npoints)\n",
    "    y = np.linspace(yl, yu, npoints)\n",
    "    X, Y = np.meshgrid(x, y)\n",
    "    \n",
    "    \n",
    "    Z = -Y*((Kappa)/(2 * np.pi))/(np.power(X,2) + np.power(Y,2))\n",
    "    CS = plt.contour(X, Y, Z, levels=[C])\n",
    "    fmt='%1.5f'\n",
    "    plt.clabel(CS, inline=1, fontsize=16, fmt=fmt)\n",
    "    \n",
    "\n",
    "    Z = X*((Kappa)/(2 * np.pi))/(np.power(X,2) + np.power(Y,2)) \n",
    "    CS2 = plt.contour(X, Y, Z, levels=[C2], colors='k',linestyles='dashed')\n",
    "    plt.clabel(CS2, inline=1, fontsize=16, fmt=fmt)\n",
    "    \n",
    "#     plt.title(r'$\\Psi = -\\frac{\\kappa}{2 \\pi} \\frac{sin\\theta}{r}$   and   $\\Phi = \\frac{\\kappa}{2 \\pi} \\frac{cos\\theta}{r}$')\n",
    "    plt.xlabel('x')\n",
    "    plt.ylabel('y')\n",
    "    plt.tight_layout()\n",
    "    plt.show()"
   ]
  },
  {
   "cell_type": "code",
   "execution_count": 10,
   "metadata": {},
   "outputs": [
    {
     "data": {
      "application/vnd.jupyter.widget-view+json": {
       "model_id": "422279dc7c6a466e803c9412f982dd9b",
       "version_major": 2,
       "version_minor": 0
      },
      "text/plain": [
       "interactive(children=(FloatSlider(value=0.0003, description='$\\\\Psi = -\\\\frac{\\\\kappa}{2 \\\\pi} \\\\frac{sin\\\\the…"
      ]
     },
     "metadata": {},
     "output_type": "display_data"
    }
   ],
   "source": [
    "    \n",
    "interactive_plot = interactive(doubletPlot, \n",
    "                               C=widgets.FloatSlider(value=0.0003,min=-0.04,max=0.04,step=0.0002,description=r'$\\Psi = -\\frac{\\kappa}{2 \\pi} \\frac{sin\\theta}{r}$', style=style, layout=slider_layout), \n",
    "                               C2=widgets.FloatSlider(value=0.0003,min=-0.04,max=0.04,step=0.0002,description=r'$\\Phi = \\frac{\\kappa}{2 \\pi} \\frac{cos\\theta}{r}$', style=style, layout=slider_layout), \n",
    "                               Kappa=widgets.FloatSlider(value=0.0156,min=0.0001,max=0.1,step=0.00025,description='$\\kappa$', style=style, layout=slider_layout));\n",
    "\n",
    "interactive_plot.children[0].readout_format = '.4f'\n",
    "interactive_plot.children[1].readout_format = '.4f'\n",
    "interactive_plot.children[2].readout_format = '.4f'\n",
    "interactive_plot"
   ]
  },
  {
   "cell_type": "code",
   "execution_count": 11,
   "metadata": {},
   "outputs": [],
   "source": [
    "# Superposition of uniform Flow and source Flow interactive chart\n",
    "\n",
    "def uniformAndSourcePlot(C, C2, Lambda):\n",
    "    # Set freestream velocity\n",
    "    Vinf = 1 # (units: m/s)\n",
    "    fig, ax = plt.subplots(figsize=(15, 10)) \n",
    "    # Set range\n",
    "    xr = 10\n",
    "    xl = -xr\n",
    "    yu = 10\n",
    "    yl = -yu\n",
    "       \n",
    "    # Set x, y  points\n",
    "    npoints = 100\n",
    "    x = np.linspace(xl, xr, npoints)\n",
    "    y = np.linspace(yl, yu, npoints)\n",
    "    X, Y = np.meshgrid(x, y)\n",
    "    \n",
    "    \n",
    "    Z = Vinf * Y + (Lambda)/(2 * np.pi) * np.arctan2(Y,X)\n",
    "    CS = plt.contour(X, Y, Z, levels=[C])\n",
    "    fmt='%1.4f'\n",
    "    plt.clabel(CS, inline=1, fontsize=16, fmt=fmt)\n",
    "    \n",
    "\n",
    "    Z = Vinf * X + (Lambda)/(2 * np.pi) * np.log( np.sqrt(np.power(X,2) + np.power(Y,2)) )\n",
    "    CS2 = plt.contour(X, Y, Z, levels=[C2], colors='k',linestyles='dashed')\n",
    "    plt.clabel(CS2, inline=1, fontsize=16, fmt=fmt)\n",
    "    \n",
    "#     plt.title(r'$\\Psi = V_\\infty y + \\frac{\\Lambda}{2 \\pi} \\theta$   and   $\\Phi = V_\\infty x + \\frac{\\Lambda}{2 \\pi} \\ln r $')\n",
    "    plt.xlabel('x')\n",
    "    plt.ylabel('y')\n",
    "    plt.tight_layout()\n",
    "    plt.show()\n",
    "    "
   ]
  },
  {
   "cell_type": "code",
   "execution_count": 12,
   "metadata": {},
   "outputs": [
    {
     "data": {
      "application/vnd.jupyter.widget-view+json": {
       "model_id": "edaa336d476a4a88b22b459ba3f88acb",
       "version_major": 2,
       "version_minor": 0
      },
      "text/plain": [
       "interactive(children=(FloatSlider(value=1.0, description='$\\\\Psi = V_\\\\infty y + \\\\frac{\\\\Lambda}{2 \\\\pi} \\\\th…"
      ]
     },
     "metadata": {},
     "output_type": "display_data"
    }
   ],
   "source": [
    "interactive_plot = interactive(uniformAndSourcePlot, \n",
    "                               C=widgets.FloatSlider(value=1,min=-10,max=10,step=0.2,description=r'$\\Psi = V_\\infty y + \\frac{\\Lambda}{2 \\pi} \\theta$', style=style, layout=slider_layout), \n",
    "                               C2=widgets.FloatSlider(value=-0.8,min=-10,max=10,step=0.2,description=r'$\\Phi = V_\\infty x + \\frac{\\Lambda}{2 \\pi} \\ln r $', style=style, layout=slider_layout), \n",
    "                               Lambda=widgets.FloatSlider(value=8,min=0.5,max=10,step=0.5,description='$\\Lambda$', style=style, layout=slider_layout));\n",
    "\n",
    "interactive_plot.children[0].readout_format = '.4f'\n",
    "interactive_plot.children[1].readout_format = '.4f'\n",
    "interactive_plot.children[2].readout_format = '.4f'\n",
    "interactive_plot"
   ]
  },
  {
   "cell_type": "code",
   "execution_count": 13,
   "metadata": {},
   "outputs": [],
   "source": [
    "# Rankine Oval interactive chart\n",
    "\n",
    "def rankineOvalPlot(C, C2, Lambda,xloc):\n",
    "    # Set freestream velocity\n",
    "    Vinf = 1 # (units: m/s)\n",
    "    fig, ax = plt.subplots(figsize=(15, 10))\n",
    "    # Set range\n",
    "    xr = 10\n",
    "    xl = -xr\n",
    "    yu = 10\n",
    "    yl = -yu\n",
    "       \n",
    "    # Set x, y  points\n",
    "    npoints = 100\n",
    "    x = np.linspace(xl, xr, npoints)\n",
    "    y = np.linspace(yl, yu, npoints)\n",
    "    X, Y = np.meshgrid(x, y)\n",
    "    \n",
    "    \n",
    "    Z = Vinf * Y + (Lambda)/(2 * np.pi) * np.arctan2(Y,X + xloc) - (Lambda)/(2 * np.pi) * np.arctan2(Y,X - xloc)\n",
    "    CS = plt.contour(X, Y, Z, levels=[C])\n",
    "    fmt='%1.4f'\n",
    "    plt.clabel(CS, inline=1, fontsize=16, fmt=fmt)\n",
    "    \n",
    "\n",
    "    Z = Vinf * X + (Lambda)/(2 * np.pi) * np.log( np.sqrt(np.power(X + xloc,2) + np.power(Y,2)) ) - (Lambda)/(2 * np.pi) * np.log( np.sqrt(np.power(X - xloc,2) + np.power(Y,2)) )\n",
    "    CS2 = plt.contour(X, Y, Z, levels=[C2], colors='k',linestyles='dashed')\n",
    "    plt.clabel(CS2, inline=1, fontsize=16, fmt=fmt)\n",
    "    \n",
    "#     plt.title(r'$\\Psi = V_\\infty y + \\frac{\\Lambda}{2 \\pi} (\\theta_1-\\theta_2)$   and   $\\Phi = V_\\infty x + \\frac{\\Lambda}{2 \\pi} \\ln (r_1/r_2) $')\n",
    "    plt.xlabel('x')\n",
    "    plt.ylabel('y')\n",
    "    plt.tight_layout()\n",
    "    plt.show()\n",
    "    "
   ]
  },
  {
   "cell_type": "code",
   "execution_count": 14,
   "metadata": {},
   "outputs": [
    {
     "data": {
      "application/vnd.jupyter.widget-view+json": {
       "model_id": "ae4415e20fdc43af997d1559750f71a4",
       "version_major": 2,
       "version_minor": 0
      },
      "text/plain": [
       "interactive(children=(FloatSlider(value=0.0, description='$\\\\Psi = V_\\\\infty y + \\\\frac{\\\\Lambda}{2 \\\\pi} (\\\\t…"
      ]
     },
     "metadata": {},
     "output_type": "display_data"
    }
   ],
   "source": [
    "interactive_plot = interactive(rankineOvalPlot, \n",
    "                               C=widgets.FloatSlider(value=0,min=-10,max=10,step=0.4,description=r'$\\Psi = V_\\infty y + \\frac{\\Lambda}{2 \\pi} (\\theta_1-\\theta_2)$', style=style, layout=slider_layout), \n",
    "                               C2=widgets.FloatSlider(value=-3.2,min=-10,max=10,step=0.4,description=r'$\\Phi = V_\\infty x + \\frac{\\Lambda}{2 \\pi} \\ln (r_1/r_2) $', style=style, layout=slider_layout), \n",
    "                               Lambda=widgets.FloatSlider(value=4,min=0.5,max=10,step=0.5,description='$\\Lambda$', style=style, layout=slider_layout), \n",
    "                               xloc=widgets.FloatSlider(value=1.5,min=0.25,max=5,step=0.25,description='$xLoc$', style=style, layout=slider_layout));\n",
    "\n",
    "interactive_plot.children[0].readout_format = '.4f'\n",
    "interactive_plot.children[1].readout_format = '.4f'\n",
    "interactive_plot.children[2].readout_format = '.4f'\n",
    "interactive_plot.children[3].readout_format = '.4f'\n",
    "interactive_plot"
   ]
  },
  {
   "cell_type": "code",
   "execution_count": 15,
   "metadata": {},
   "outputs": [],
   "source": [
    "# Cylinder (Non-lifting flow) interactive chart\n",
    "\n",
    "def cylinderNonLiftingPlot(C, C2, Kappa):\n",
    "    # Set freestream velocity\n",
    "    Vinf = 1 # (units: m/s)\n",
    "    fig, ax = plt.subplots(figsize=(15, 10))\n",
    "    # Set range\n",
    "    xr = 5\n",
    "    xl = -xr\n",
    "    yu = 5\n",
    "    yl = -yu\n",
    "       \n",
    "    # Set x, y  points\n",
    "    npoints = 100\n",
    "    x = np.linspace(xl, xr, npoints)\n",
    "    y = np.linspace(yl, yu, npoints)\n",
    "    X, Y = np.meshgrid(x, y)\n",
    "    \n",
    "    \n",
    "    Z = Vinf * Y - Y*((Kappa)/(2 * np.pi))/(np.power(X,2) + np.power(Y,2))\n",
    "    CS = plt.contour(X, Y, Z, levels=[C])\n",
    "    fmt='%1.5f'\n",
    "    plt.clabel(CS, inline=1, fontsize=16, fmt=fmt)\n",
    "    \n",
    "\n",
    "    Z = Vinf * X + X*((Kappa)/(2 * np.pi))/(np.power(X,2) + np.power(Y,2)) \n",
    "    CS2 = plt.contour(X, Y, Z, levels=[C2], colors='k',linestyles='dashed')\n",
    "    plt.clabel(CS2, inline=1, fontsize=16, fmt=fmt)\n",
    "    \n",
    "#     plt.title(r'$\\Psi = V_\\infty y-\\frac{\\kappa}{2 \\pi} \\frac{sin\\theta}{r}$   and   $\\Phi = V_\\infty x+\\frac{\\kappa}{2 \\pi} \\frac{cos\\theta}{r}$')\n",
    "    plt.xlabel('x')\n",
    "    plt.ylabel('y')\n",
    "    plt.tight_layout()\n",
    "    plt.show()\n",
    "    "
   ]
  },
  {
   "cell_type": "code",
   "execution_count": 16,
   "metadata": {},
   "outputs": [
    {
     "data": {
      "application/vnd.jupyter.widget-view+json": {
       "model_id": "95a4d5918fac44949995d71ce27946c3",
       "version_major": 2,
       "version_minor": 0
      },
      "text/plain": [
       "interactive(children=(FloatSlider(value=0.0, description='$\\\\Psi= V_\\\\infty y-\\\\frac{\\\\kappa}{2 \\\\pi} \\\\frac{s…"
      ]
     },
     "metadata": {},
     "output_type": "display_data"
    }
   ],
   "source": [
    "interactive_plot = interactive(cylinderNonLiftingPlot, \n",
    "                               C=widgets.FloatSlider(value=0,min=-5,max=5,step=0.1,description=r'$\\Psi= V_\\infty y-\\frac{\\kappa}{2 \\pi} \\frac{sin\\theta}{r}$', style=style, layout=slider_layout), \n",
    "                               C2=widgets.FloatSlider(value=-3,min=-5,max=5,step=0.1,description=r'$\\Phi = V_\\infty x+\\frac{\\kappa}{2 \\pi} \\frac{cos\\theta}{r}$', style=style, layout=slider_layout), \n",
    "                               Kappa=widgets.FloatSlider(value=32,min=0,max=60,step=4,description='$\\kappa$', style=style, layout=slider_layout));\n",
    "\n",
    "interactive_plot.children[0].readout_format = '.4f'\n",
    "interactive_plot.children[1].readout_format = '.4f'\n",
    "interactive_plot.children[2].readout_format = '.4f'\n",
    "interactive_plot"
   ]
  },
  {
   "cell_type": "code",
   "execution_count": 17,
   "metadata": {},
   "outputs": [],
   "source": [
    "# Cylinder (lifting flow) interactive chart\n",
    "\n",
    "def cylinderLiftingPlot(C, C2, Kappa, Gamma):\n",
    "    # Set freestream velocity\n",
    "    Vinf = 1 # (units: m/s)\n",
    "    fig, ax = plt.subplots(figsize=(15, 10))\n",
    "    # Set range\n",
    "    xr = 5\n",
    "    xl = -xr\n",
    "    yu = 5\n",
    "    yl = -yu\n",
    "       \n",
    "    # Set x, y  points\n",
    "    npoints = 100\n",
    "    x = np.linspace(xl, xr, npoints)\n",
    "    y = np.linspace(yl, yu, npoints)\n",
    "    X, Y = np.meshgrid(x, y)\n",
    "    \n",
    "    \n",
    "    Z = Vinf * Y - Y*((Kappa)/(2 * np.pi))/(np.power(X,2) + np.power(Y,2)) + (Gamma)/(2 * np.pi) * np.log( np.sqrt(np.power(X,2) + np.power(Y,2)) ) \n",
    "    CS = plt.contour(X, Y, Z, levels=[C])\n",
    "    fmt='%1.5f'\n",
    "    plt.clabel(CS, inline=1, fontsize=11, fmt=fmt)\n",
    "    \n",
    "\n",
    "    Z = Vinf * X + X*((Kappa)/(2 * np.pi))/(np.power(X,2) + np.power(Y,2)) - (Gamma)/(2 * np.pi) * np.arctan(Y/X)  \n",
    "    CS2 = plt.contour(X, Y, Z, levels=[C2], colors='k',linestyles='dashed')\n",
    "    plt.clabel(CS2, inline=1, fontsize=11, fmt=fmt)\n",
    "    \n",
    "#     plt.title(r'$\\Psi = V_\\infty y -\\frac{\\kappa}{2 \\pi} \\frac{sin\\theta}{r}+\\frac{\\Gamma}{2 \\pi} \\ln r$   and   $\\Phi = V_\\infty x +\\frac{\\kappa}{2 \\pi} \\frac{cos\\theta}{r}-\\frac{\\Gamma}{2 \\pi} \\theta$')\n",
    "    plt.xlabel('x')\n",
    "    plt.ylabel('y')\n",
    "    plt.tight_layout()\n",
    "    plt.show()\n",
    "    "
   ]
  },
  {
   "cell_type": "code",
   "execution_count": 18,
   "metadata": {},
   "outputs": [
    {
     "data": {
      "application/vnd.jupyter.widget-view+json": {
       "model_id": "dcf3d3683a144972a2ffdc88f3bcb110",
       "version_major": 2,
       "version_minor": 0
      },
      "text/plain": [
       "interactive(children=(FloatSlider(value=0.0, description='$\\\\Psi = V_\\\\infty y -\\x0crac{\\\\kappa}{2 \\\\pi} \\x0cr…"
      ]
     },
     "metadata": {},
     "output_type": "display_data"
    }
   ],
   "source": [
    "interactive_plot = interactive(cylinderLiftingPlot, \n",
    "                               C=widgets.FloatSlider(value=0,min=-5,max=5,step=0.1,description='$\\Psi = V_\\infty y -\\frac{\\kappa}{2 \\pi} \\frac{sin\\theta}{r}+\\frac{\\Gamma}{2 \\pi} \\ln r$', style=style, layout=slider_layout), \n",
    "                               C2=widgets.FloatSlider(value=-3,min=-5,max=5,step=0.1,description='$\\Phi = V_\\infty x +\\frac{\\kappa}{2 \\pi} \\frac{cos\\theta}{r}-\\frac{\\Gamma}{2 \\pi} \\theta$', style=style, layout=slider_layout), \n",
    "                               Kappa=widgets.FloatSlider(value=32,min=0,max=60,step=2,description='$\\kappa$', style=style, layout=slider_layout), \n",
    "                               Gamma=widgets.FloatSlider(value=1,min=0,max=30,step=1,description='$\\Gamma$', style=style, layout=slider_layout));\n",
    "\n",
    "interactive_plot.children[0].readout_format = '.4f'\n",
    "interactive_plot.children[1].readout_format = '.4f'\n",
    "interactive_plot.children[2].readout_format = '.4f'\n",
    "interactive_plot.children[3].readout_format = '.4f'\n",
    "interactive_plot"
   ]
  },
  {
   "cell_type": "code",
   "execution_count": null,
   "metadata": {},
   "outputs": [],
   "source": []
  }
 ],
 "metadata": {
  "kernelspec": {
   "display_name": "Python 3",
   "language": "python",
   "name": "python3"
  },
  "language_info": {
   "codemirror_mode": {
    "name": "ipython",
    "version": 3
   },
   "file_extension": ".py",
   "mimetype": "text/x-python",
   "name": "python",
   "nbconvert_exporter": "python",
   "pygments_lexer": "ipython3",
   "version": "3.6.8"
  }
 },
 "nbformat": 4,
 "nbformat_minor": 2
}
