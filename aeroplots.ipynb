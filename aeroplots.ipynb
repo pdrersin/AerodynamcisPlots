{
 "cells": [
  {
   "cell_type": "code",
   "execution_count": 22,
   "metadata": {},
   "outputs": [],
   "source": [
    "# HIDDEN\n",
    "# General Purpose\n",
    "import pandas as pd\n",
    "import numpy as np\n",
    "import matplotlib\n",
    "from matplotlib import pyplot as plt\n",
    "from scipy.integrate import odeint\n",
    "import matplotlib.ticker as ticker\n",
    "from mpl_toolkits.mplot3d import Axes3D\n",
    "from scipy.interpolate import griddata\n",
    "from matplotlib.ticker import LinearLocator, FormatStrFormatter\n",
    "import matplotlib.cm as cm\n",
    "import matplotlib.mlab as mlab\n",
    "import matplotlib.pyplot as plt\n",
    "\n",
    "\n",
    "# Jupyter Specifics\n",
    "from IPython.display import HTML\n",
    "#from ipywidgets.widgets import interact, IntSlider, FloatSlider, Layout\n",
    "\n",
    "import ipywidgets as widgets\n",
    "from ipywidgets import interact, interactive, fixed, interact_manual, IntSlider, FloatSlider, Layout\n",
    "\n",
    "\n",
    "%matplotlib inline\n",
    "matplotlib.rcParams['xtick.direction'] = 'out'\n",
    "matplotlib.rcParams['ytick.direction'] = 'out'\n",
    "\n",
    "style = {'description_width': '150px'}\n",
    "slider_layout = Layout(width='99%')"
   ]
  },
  {
   "cell_type": "code",
   "execution_count": 23,
   "metadata": {},
   "outputs": [],
   "source": [
    "# HIDDEN\n",
    "# Set range\n",
    "xr = 10\n",
    "xl = -xr\n",
    "yu = 10\n",
    "yl = -yu\n",
    "\n",
    "# Set x, y  points\n",
    "npoints = 100\n",
    "x = np.linspace(xl, xr, npoints)\n",
    "y = np.linspace(yl, yu, npoints)\n",
    "X, Y = np.meshgrid(x, y)"
   ]
  },
  {
   "cell_type": "code",
   "execution_count": 24,
   "metadata": {},
   "outputs": [],
   "source": [
    "# HIDDEN\n",
    "# Uniform Flow interactive chart\n",
    "def uniformPlot(C, C_star):\n",
    "    # Set freestream velocity\n",
    "    Vinf = 1 # (units: m/s)\n",
    "#     plt.rcParams[\"figure.figsize\"] = (15,10)\n",
    "    fig, ax = plt.subplots(figsize=(15, 10)) \n",
    "    \n",
    "    # Set range\n",
    "    xr = 10\n",
    "    xl = -xr\n",
    "    yu = 10\n",
    "    yl = -yu\n",
    "    \n",
    "    # Set x, y  points\n",
    "    npoints = 100\n",
    "    x = np.linspace(xl, xr, npoints)\n",
    "    y = np.linspace(yl, yu, npoints)\n",
    "    X, Y = np.meshgrid(x, y)    \n",
    "    \n",
    "    Z = Vinf * Y\n",
    "    CS = plt.contour(X, Y, Z,levels=[C])\n",
    "    Z = Vinf * X\n",
    "    CS2 = plt.contour(X, Y, Z,levels=[C_star], colors='k',linestyles='dashed')\n",
    "    plt.clabel(CS2, inline=1, fontsize=16)\n",
    "    linestyles = ['-', '--']\n",
    "    plt.clabel(CS, inline=1, fontsize=16)\n",
    "#     plt.title(r'$\\Psi=C$  and  $\\Phi = C^*$')\n",
    "    plt.xlabel('x')\n",
    "    plt.ylabel('y')\n",
    "#     ax.grid()\n",
    "    plt.tight_layout()\n",
    "    plt.show()\n",
    "    "
   ]
  },
  {
   "cell_type": "code",
   "execution_count": 25,
   "metadata": {},
   "outputs": [
    {
     "data": {
      "application/vnd.jupyter.widget-view+json": {
       "model_id": "476f98fb117d45efa4b2c36ac53db78e",
       "version_major": 2,
       "version_minor": 0
      },
      "text/plain": [
       "interactive(children=(IntSlider(value=2, description='$\\\\psi=C$', layout=Layout(width='99%'), max=9, min=-9, s…"
      ]
     },
     "metadata": {},
     "output_type": "display_data"
    }
   ],
   "source": [
    "# HIDDEN\n",
    "interact(uniformPlot, C=widgets.IntSlider(value=2,min=-9,max=9,step=1,description=r'$\\psi=C$', style=style, layout=slider_layout), \n",
    "         C_star=widgets.IntSlider(value=2,min=-9,max=9,step=1,description=r'$\\Phi = C^*$', style=style, layout=slider_layout));\n",
    "# interactive_plot.children[0].layout.height = '30px'\n",
    "# interactive_plot.children[0].layout.width = '500px'\n",
    "# interactive_plot.children[1].layout.height = '30px'\n",
    "# interactive_plot.children[1].layout.width = '500px'\n",
    "# interactive_plot"
   ]
  },
  {
   "cell_type": "code",
   "execution_count": 26,
   "metadata": {},
   "outputs": [],
   "source": [
    "# HIDDEN\n",
    "# Source Flow interactive chart\n",
    "\n",
    "def sourcePlot(C, C2, Lambda):\n",
    "    # Set freestream velocity\n",
    "    Vinf = 1 # (units: m/s)\n",
    "    fig, ax = plt.subplots(figsize=(15, 10)) \n",
    "    # Set range\n",
    "    xr = 10\n",
    "    xl = -xr\n",
    "    yu = 10\n",
    "    yl = -yu\n",
    "    \n",
    "    #Lambda = 0.05\n",
    "    \n",
    "    # Set x, y  points\n",
    "    npoints = 100\n",
    "    x = np.linspace(xl, xr, npoints)\n",
    "    y = np.linspace(yl, yu, npoints)\n",
    "    X, Y = np.meshgrid(x, y)\n",
    "    \n",
    "    \n",
    "    Z = (Lambda)/(2 * np.pi) * np.arctan(Y/X)\n",
    "    #Z=(Lambda)/(2 * np.pi) * np.arctan2(Y,X)\n",
    "    CS = plt.contour(X, Y, Z, levels=[C])\n",
    "    plt.clabel(CS, inline=1, fontsize=16)\n",
    "\n",
    "    Z = (Lambda)/(2 * np.pi) * np.log( np.sqrt(np.power(X,2) + np.power(Y,2)) )\n",
    "    CS2 = plt.contour(X, Y, Z, levels=[C2], colors='k',linestyles='dashed')\n",
    "    plt.clabel(CS2, inline=1, fontsize=16)\n",
    "    \n",
    "#     plt.title(r'$\\Psi =\\frac{\\Lambda}{2 \\pi}\\theta$ and $\\Phi = \\frac{\\Lambda}{2 \\pi} \\ln r $')\n",
    "    plt.xlabel('x')\n",
    "    plt.ylabel('y')\n",
    "    plt.tight_layout()\n",
    "    plt.show()\n",
    "    "
   ]
  },
  {
   "cell_type": "code",
   "execution_count": 27,
   "metadata": {},
   "outputs": [
    {
     "data": {
      "application/vnd.jupyter.widget-view+json": {
       "model_id": "566ca355f601414196d7e4dc94646617",
       "version_major": 2,
       "version_minor": 0
      },
      "text/plain": [
       "interactive(children=(FloatSlider(value=0.001, description='$\\\\Psi=\\\\frac{\\\\Lambda}{2 \\\\pi}\\\\theta$', layout=L…"
      ]
     },
     "metadata": {},
     "output_type": "display_data"
    }
   ],
   "source": [
    "# HIDDEN\n",
    "interactive_plot = interactive(sourcePlot, \n",
    "                               C=widgets.FloatSlider(value=0.001,min=-0.01,max=0.01,step=0.00025,description=r'$\\Psi=\\frac{\\Lambda}{2 \\pi}\\theta$', style=style, layout=slider_layout), \n",
    "                               C2=widgets.FloatSlider(value=0.005,min=-0.01,max=0.01,step=0.00025,description=r'$\\Phi= \\frac{\\Lambda}{2 \\pi} \\ln r $', style=style, layout=slider_layout), \n",
    "                               Lambda=widgets.FloatSlider(value=0.03,min=0.01,max=0.1,step=0.01,description=r'$\\Lambda$', style=style, layout=slider_layout));\n",
    "\n",
    "interactive_plot.children[0].readout_format = '.4f'\n",
    "interactive_plot.children[1].readout_format = '.4f'\n",
    "interactive_plot.children[2].readout_format = '.4f'\n",
    "interactive_plot\n",
    "#print(interactive_plot.children[1].keys)"
   ]
  },
  {
   "cell_type": "code",
   "execution_count": 28,
   "metadata": {},
   "outputs": [],
   "source": [
    "# HIDDEN\n",
    "# Vortex Flow interactive chart\n",
    "\n",
    "def vortexPlot(C, C2, Gamma):\n",
    "    # Set freestream velocity\n",
    "    Vinf = 1 # (units: m/s)\n",
    "    fig, ax = plt.subplots(figsize=(15, 10)) \n",
    "    # Set range\n",
    "    xr = 10\n",
    "    xl = -xr\n",
    "    yu = 10\n",
    "    yl = -yu\n",
    "       \n",
    "    # Set x, y  points\n",
    "    npoints = 100\n",
    "    x = np.linspace(xl, xr, npoints)\n",
    "    y = np.linspace(yl, yu, npoints)\n",
    "    X, Y = np.meshgrid(x, y)\n",
    "    \n",
    "    \n",
    "    Z = (Gamma)/(2 * np.pi) * np.log( np.sqrt(np.power(X,2) + np.power(Y,2)) )\n",
    "    CS = plt.contour(X, Y, Z, levels=[C])\n",
    "    fmt='%1.4f'\n",
    "    plt.clabel(CS, inline=1, fontsize=16, fmt=fmt)\n",
    "    \n",
    "\n",
    "    Z = -(Gamma)/(2 * np.pi) * np.arctan(Y/X)\n",
    "    CS2 = plt.contour(X, Y, Z, levels=[C2], colors='k',linestyles='dashed')\n",
    "    plt.clabel(CS2, inline=1, fontsize=16, fmt=fmt)\n",
    "    \n",
    "#     plt.title(r'$\\Psi = \\frac{\\Gamma}{2 \\pi} \\ln r$   and   $\\Phi = -\\frac{\\Gamma}{2 \\pi} \\theta$')\n",
    "    plt.xlabel('x')\n",
    "    plt.ylabel('y')\n",
    "    plt.tight_layout()\n",
    "    plt.show()\n",
    "  "
   ]
  },
  {
   "cell_type": "code",
   "execution_count": 29,
   "metadata": {},
   "outputs": [
    {
     "data": {
      "application/vnd.jupyter.widget-view+json": {
       "model_id": "35da581983b042a6822485d188551347",
       "version_major": 2,
       "version_minor": 0
      },
      "text/plain": [
       "interactive(children=(FloatSlider(value=0.006, description='$\\\\Psi = \\\\frac{\\\\Gamma}{2 \\\\pi} \\\\ln r$', layout=…"
      ]
     },
     "metadata": {},
     "output_type": "display_data"
    }
   ],
   "source": [
    "# HIDDEN\n",
    "interactive_plot = interactive(vortexPlot, \n",
    "                               C=widgets.FloatSlider(value=0.006,min=-0.01,max=0.01,step=0.00025,description=r'$\\Psi = \\frac{\\Gamma}{2 \\pi} \\ln r$', style=style, layout=slider_layout), \n",
    "                               C2=widgets.FloatSlider(value=0.001,min=-0.01,max=0.01,step=0.00025,description=r'$\\Phi = -\\frac{\\Gamma}{2 \\pi} \\theta$', style=style, layout=slider_layout), \n",
    "                               Gamma=widgets.FloatSlider(value=0.03,min=0.01,max=0.1,step=0.01,description=r'$\\Gamma$', style=style, layout=slider_layout));\n",
    "\n",
    "interactive_plot.children[0].readout_format = '.4f'\n",
    "interactive_plot.children[1].readout_format = '.4f'\n",
    "interactive_plot.children[2].readout_format = '.4f'\n",
    "interactive_plot"
   ]
  },
  {
   "cell_type": "code",
   "execution_count": 30,
   "metadata": {},
   "outputs": [],
   "source": [
    "# HIDDEN\n",
    "# Doublet Flow interactive chart\n",
    "\n",
    "def doubletPlot(C, C2, Kappa):\n",
    "    # Set freestream velocity\n",
    "    Vinf = 1 # (units: m/s)\n",
    "    fig, ax = plt.subplots(figsize=(15, 10)) \n",
    "    # Set range\n",
    "    xr = 10\n",
    "    xl = -xr\n",
    "    yu = 10\n",
    "    yl = -yu\n",
    "       \n",
    "    # Set x, y  points\n",
    "    npoints = 100\n",
    "    x = np.linspace(xl, xr, npoints)\n",
    "    y = np.linspace(yl, yu, npoints)\n",
    "    X, Y = np.meshgrid(x, y)\n",
    "    \n",
    "    \n",
    "    Z = -Y*((Kappa)/(2 * np.pi))/(np.power(X,2) + np.power(Y,2))\n",
    "    CS = plt.contour(X, Y, Z, levels=[C])\n",
    "    fmt='%1.5f'\n",
    "    plt.clabel(CS, inline=1, fontsize=16, fmt=fmt)\n",
    "    \n",
    "\n",
    "    Z = X*((Kappa)/(2 * np.pi))/(np.power(X,2) + np.power(Y,2)) \n",
    "    CS2 = plt.contour(X, Y, Z, levels=[C2], colors='k',linestyles='dashed')\n",
    "    plt.clabel(CS2, inline=1, fontsize=16, fmt=fmt)\n",
    "    \n",
    "#     plt.title(r'$\\Psi = -\\frac{\\kappa}{2 \\pi} \\frac{sin\\theta}{r}$   and   $\\Phi = \\frac{\\kappa}{2 \\pi} \\frac{cos\\theta}{r}$')\n",
    "    plt.xlabel('x')\n",
    "    plt.ylabel('y')\n",
    "    plt.tight_layout()\n",
    "    plt.show()"
   ]
  },
  {
   "cell_type": "code",
   "execution_count": 31,
   "metadata": {},
   "outputs": [
    {
     "data": {
      "application/vnd.jupyter.widget-view+json": {
       "model_id": "daac4bd86a4d4baba94ca98d35801f02",
       "version_major": 2,
       "version_minor": 0
      },
      "text/plain": [
       "interactive(children=(FloatSlider(value=0.0003, description='$\\\\Psi = -\\\\frac{\\\\kappa}{2 \\\\pi} \\\\frac{sin\\\\the…"
      ]
     },
     "metadata": {},
     "output_type": "display_data"
    }
   ],
   "source": [
    "# HIDDEN    \n",
    "interactive_plot = interactive(doubletPlot, \n",
    "                               C=widgets.FloatSlider(value=0.0003,min=-0.04,max=0.04,step=0.0002,description=r'$\\Psi = -\\frac{\\kappa}{2 \\pi} \\frac{sin\\theta}{r}$', style=style, layout=slider_layout), \n",
    "                               C2=widgets.FloatSlider(value=0.0003,min=-0.04,max=0.04,step=0.0002,description=r'$\\Phi = \\frac{\\kappa}{2 \\pi} \\frac{cos\\theta}{r}$', style=style, layout=slider_layout), \n",
    "                               Kappa=widgets.FloatSlider(value=0.0156,min=0.0001,max=0.1,step=0.00025,description=r'$\\kappa$', style=style, layout=slider_layout));\n",
    "\n",
    "interactive_plot.children[0].readout_format = '.4f'\n",
    "interactive_plot.children[1].readout_format = '.4f'\n",
    "interactive_plot.children[2].readout_format = '.4f'\n",
    "interactive_plot"
   ]
  },
  {
   "cell_type": "code",
   "execution_count": 32,
   "metadata": {},
   "outputs": [],
   "source": [
    "# HIDDEN\n",
    "# Superposition of uniform Flow and source Flow interactive chart\n",
    "\n",
    "def uniformAndSourcePlot(C, C2, Lambda):\n",
    "    # Set freestream velocity\n",
    "    Vinf = 1 # (units: m/s)\n",
    "    fig, ax = plt.subplots(figsize=(15, 10)) \n",
    "    # Set range\n",
    "    xr = 10\n",
    "    xl = -xr\n",
    "    yu = 10\n",
    "    yl = -yu\n",
    "       \n",
    "    # Set x, y  points\n",
    "    npoints = 100\n",
    "    x = np.linspace(xl, xr, npoints)\n",
    "    y = np.linspace(yl, yu, npoints)\n",
    "    X, Y = np.meshgrid(x, y)\n",
    "    \n",
    "    \n",
    "    Z = Vinf * Y + (Lambda)/(2 * np.pi) * np.arctan2(Y,X)\n",
    "    CS = plt.contour(X, Y, Z, levels=[C])\n",
    "    fmt='%1.4f'\n",
    "    plt.clabel(CS, inline=1, fontsize=16, fmt=fmt)\n",
    "    \n",
    "\n",
    "    Z = Vinf * X + (Lambda)/(2 * np.pi) * np.log( np.sqrt(np.power(X,2) + np.power(Y,2)) )\n",
    "    CS2 = plt.contour(X, Y, Z, levels=[C2], colors='k',linestyles='dashed')\n",
    "    plt.clabel(CS2, inline=1, fontsize=16, fmt=fmt)\n",
    "    \n",
    "#     plt.title(r'$\\Psi = V_\\infty y + \\frac{\\Lambda}{2 \\pi} \\theta$   and   $\\Phi = V_\\infty x + \\frac{\\Lambda}{2 \\pi} \\ln r $')\n",
    "    plt.xlabel('x')\n",
    "    plt.ylabel('y')\n",
    "    plt.tight_layout()\n",
    "    plt.show()\n",
    "    "
   ]
  },
  {
   "cell_type": "code",
   "execution_count": 33,
   "metadata": {},
   "outputs": [
    {
     "data": {
      "application/vnd.jupyter.widget-view+json": {
       "model_id": "d4e627cb0b7d40148b6167ee26a34758",
       "version_major": 2,
       "version_minor": 0
      },
      "text/plain": [
       "interactive(children=(FloatSlider(value=1.0, description='$\\\\Psi = V_\\\\infty y + \\\\frac{\\\\Lambda}{2 \\\\pi} \\\\th…"
      ]
     },
     "metadata": {},
     "output_type": "display_data"
    }
   ],
   "source": [
    "# HIDDEN\n",
    "interactive_plot = interactive(uniformAndSourcePlot, \n",
    "                               C=widgets.FloatSlider(value=1,min=-10,max=10,step=0.2,description=r'$\\Psi = V_\\infty y + \\frac{\\Lambda}{2 \\pi} \\theta$', style=style, layout=slider_layout), \n",
    "                               C2=widgets.FloatSlider(value=-0.8,min=-10,max=10,step=0.2,description=r'$\\Phi = V_\\infty x + \\frac{\\Lambda}{2 \\pi} \\ln r $', style=style, layout=slider_layout), \n",
    "                               Lambda=widgets.FloatSlider(value=8,min=0.5,max=10,step=0.5,description=r'$\\Lambda$', style=style, layout=slider_layout));\n",
    "\n",
    "interactive_plot.children[0].readout_format = '.4f'\n",
    "interactive_plot.children[1].readout_format = '.4f'\n",
    "interactive_plot.children[2].readout_format = '.4f'\n",
    "interactive_plot"
   ]
  },
  {
   "cell_type": "code",
   "execution_count": 34,
   "metadata": {},
   "outputs": [],
   "source": [
    "# HIDDEN\n",
    "# Rankine Oval interactive chart\n",
    "\n",
    "def rankineOvalPlot(C, C2, Lambda,xloc):\n",
    "    # Set freestream velocity\n",
    "    Vinf = 1 # (units: m/s)\n",
    "    fig, ax = plt.subplots(figsize=(15, 10))\n",
    "    # Set range\n",
    "    xr = 10\n",
    "    xl = -xr\n",
    "    yu = 10\n",
    "    yl = -yu\n",
    "       \n",
    "    # Set x, y  points\n",
    "    npoints = 100\n",
    "    x = np.linspace(xl, xr, npoints)\n",
    "    y = np.linspace(yl, yu, npoints)\n",
    "    X, Y = np.meshgrid(x, y)\n",
    "    \n",
    "    \n",
    "    Z = Vinf * Y + (Lambda)/(2 * np.pi) * np.arctan2(Y,X + xloc) - (Lambda)/(2 * np.pi) * np.arctan2(Y,X - xloc)\n",
    "    CS = plt.contour(X, Y, Z, levels=[C])\n",
    "    fmt='%1.4f'\n",
    "    plt.clabel(CS, inline=1, fontsize=16, fmt=fmt)\n",
    "    \n",
    "\n",
    "    Z = Vinf * X + (Lambda)/(2 * np.pi) * np.log( np.sqrt(np.power(X + xloc,2) + np.power(Y,2)) ) - (Lambda)/(2 * np.pi) * np.log( np.sqrt(np.power(X - xloc,2) + np.power(Y,2)) )\n",
    "    CS2 = plt.contour(X, Y, Z, levels=[C2], colors='k',linestyles='dashed')\n",
    "    plt.clabel(CS2, inline=1, fontsize=16, fmt=fmt)\n",
    "    \n",
    "#     plt.title(r'$\\Psi = V_\\infty y + \\frac{\\Lambda}{2 \\pi} (\\theta_1-\\theta_2)$   and   $\\Phi = V_\\infty x + \\frac{\\Lambda}{2 \\pi} \\ln (r_1/r_2) $')\n",
    "    plt.xlabel('x')\n",
    "    plt.ylabel('y')\n",
    "    plt.tight_layout()\n",
    "    plt.show()\n",
    "    "
   ]
  },
  {
   "cell_type": "code",
   "execution_count": 35,
   "metadata": {},
   "outputs": [
    {
     "data": {
      "application/vnd.jupyter.widget-view+json": {
       "model_id": "c7b2c08d38cc46abb09344448e35e631",
       "version_major": 2,
       "version_minor": 0
      },
      "text/plain": [
       "interactive(children=(FloatSlider(value=0.0, description='$\\\\Psi = V_\\\\infty y + \\\\frac{\\\\Lambda}{2 \\\\pi} (\\\\t…"
      ]
     },
     "metadata": {},
     "output_type": "display_data"
    }
   ],
   "source": [
    "# HIDDEN\n",
    "interactive_plot = interactive(rankineOvalPlot, \n",
    "                               C=widgets.FloatSlider(value=0,min=-10,max=10,step=0.4,description=r'$\\Psi = V_\\infty y + \\frac{\\Lambda}{2 \\pi} (\\theta_1-\\theta_2)$', style=style, layout=slider_layout), \n",
    "                               C2=widgets.FloatSlider(value=-3.2,min=-10,max=10,step=0.4,description=r'$\\Phi = V_\\infty x + \\frac{\\Lambda}{2 \\pi} \\ln (r_1/r_2) $', style=style, layout=slider_layout), \n",
    "                               Lambda=widgets.FloatSlider(value=4,min=0.5,max=10,step=0.5,description=r'$\\Lambda$', style=style, layout=slider_layout), \n",
    "                               xloc=widgets.FloatSlider(value=1.5,min=0.25,max=5,step=0.25,description=r'$xLoc$', style=style, layout=slider_layout));\n",
    "\n",
    "interactive_plot.children[0].readout_format = '.4f'\n",
    "interactive_plot.children[1].readout_format = '.4f'\n",
    "interactive_plot.children[2].readout_format = '.4f'\n",
    "interactive_plot.children[3].readout_format = '.4f'\n",
    "interactive_plot"
   ]
  },
  {
   "cell_type": "code",
   "execution_count": 36,
   "metadata": {},
   "outputs": [],
   "source": [
    "# HIDDEN\n",
    "# Cylinder (Non-lifting flow) interactive chart\n",
    "\n",
    "def cylinderNonLiftingPlot(C, C2, Kappa):\n",
    "    # Set freestream velocity\n",
    "    Vinf = 1 # (units: m/s)\n",
    "    fig, ax = plt.subplots(figsize=(15, 10))\n",
    "    # Set range\n",
    "    xr = 5\n",
    "    xl = -xr\n",
    "    yu = 5\n",
    "    yl = -yu\n",
    "       \n",
    "    # Set x, y  points\n",
    "    npoints = 100\n",
    "    x = np.linspace(xl, xr, npoints)\n",
    "    y = np.linspace(yl, yu, npoints)\n",
    "    X, Y = np.meshgrid(x, y)\n",
    "    \n",
    "    \n",
    "    Z = Vinf * Y - Y*((Kappa)/(2 * np.pi))/(np.power(X,2) + np.power(Y,2))\n",
    "    CS = plt.contour(X, Y, Z, levels=[C])\n",
    "    fmt='%1.5f'\n",
    "    plt.clabel(CS, inline=1, fontsize=16, fmt=fmt)\n",
    "    \n",
    "\n",
    "    Z = Vinf * X + X*((Kappa)/(2 * np.pi))/(np.power(X,2) + np.power(Y,2)) \n",
    "    CS2 = plt.contour(X, Y, Z, levels=[C2], colors='k',linestyles='dashed')\n",
    "    plt.clabel(CS2, inline=1, fontsize=16, fmt=fmt)\n",
    "    \n",
    "#     plt.title(r'$\\Psi = V_\\infty y-\\frac{\\kappa}{2 \\pi} \\frac{sin\\theta}{r}$   and   $\\Phi = V_\\infty x+\\frac{\\kappa}{2 \\pi} \\frac{cos\\theta}{r}$')\n",
    "    plt.xlabel('x')\n",
    "    plt.ylabel('y')\n",
    "    plt.tight_layout()\n",
    "    plt.show()\n",
    "    "
   ]
  },
  {
   "cell_type": "code",
   "execution_count": 37,
   "metadata": {},
   "outputs": [
    {
     "data": {
      "application/vnd.jupyter.widget-view+json": {
       "model_id": "6d7ef5f1ea67403e904207bae5d74768",
       "version_major": 2,
       "version_minor": 0
      },
      "text/plain": [
       "interactive(children=(FloatSlider(value=0.0, description='$\\\\Psi= V_\\\\infty y-\\\\frac{\\\\kappa}{2 \\\\pi} \\\\frac{s…"
      ]
     },
     "metadata": {},
     "output_type": "display_data"
    }
   ],
   "source": [
    "# HIDDEN\n",
    "interactive_plot = interactive(cylinderNonLiftingPlot, \n",
    "                               C=widgets.FloatSlider(value=0,min=-5,max=5,step=0.1,description=r'$\\Psi= V_\\infty y-\\frac{\\kappa}{2 \\pi} \\frac{sin\\theta}{r}$', style=style, layout=slider_layout), \n",
    "                               C2=widgets.FloatSlider(value=-3,min=-5,max=5,step=0.1,description=r'$\\Phi = V_\\infty x+\\frac{\\kappa}{2 \\pi} \\frac{cos\\theta}{r}$', style=style, layout=slider_layout), \n",
    "                               Kappa=widgets.FloatSlider(value=32,min=0,max=60,step=4,description=r'$\\kappa$', style=style, layout=slider_layout));\n",
    "\n",
    "interactive_plot.children[0].readout_format = '.4f'\n",
    "interactive_plot.children[1].readout_format = '.4f'\n",
    "interactive_plot.children[2].readout_format = '.4f'\n",
    "interactive_plot"
   ]
  },
  {
   "cell_type": "code",
   "execution_count": 38,
   "metadata": {},
   "outputs": [],
   "source": [
    "# HIDDEN\n",
    "# Cylinder (lifting flow) interactive chart\n",
    "\n",
    "def cylinderLiftingPlot(C, C2, Kappa, Gamma):\n",
    "    # Set freestream velocity\n",
    "    Vinf = 1 # (units: m/s)\n",
    "    fig, ax = plt.subplots(figsize=(15, 10))\n",
    "    # Set range\n",
    "    xr = 5\n",
    "    xl = -xr\n",
    "    yu = 5\n",
    "    yl = -yu\n",
    "       \n",
    "    # Set x, y  points\n",
    "    npoints = 100\n",
    "    x = np.linspace(xl, xr, npoints)\n",
    "    y = np.linspace(yl, yu, npoints)\n",
    "    X, Y = np.meshgrid(x, y)\n",
    "    \n",
    "    \n",
    "    Z = Vinf * Y - Y*((Kappa)/(2 * np.pi))/(np.power(X,2) + np.power(Y,2)) + (Gamma)/(2 * np.pi) * np.log( np.sqrt(np.power(X,2) + np.power(Y,2)) ) \n",
    "    CS = plt.contour(X, Y, Z, levels=[C])\n",
    "    fmt='%1.5f'\n",
    "    plt.clabel(CS, inline=1, fontsize=11, fmt=fmt)\n",
    "    \n",
    "\n",
    "    Z = Vinf * X + X*((Kappa)/(2 * np.pi))/(np.power(X,2) + np.power(Y,2)) - (Gamma)/(2 * np.pi) * np.arctan(Y/X)  \n",
    "    CS2 = plt.contour(X, Y, Z, levels=[C2], colors='k',linestyles='dashed')\n",
    "    plt.clabel(CS2, inline=1, fontsize=11, fmt=fmt)\n",
    "    \n",
    "#     plt.title(r'$\\Psi = V_\\infty y -\\frac{\\kappa}{2 \\pi} \\frac{sin\\theta}{r}+\\frac{\\Gamma}{2 \\pi} \\ln r$   and   $\\Phi = V_\\infty x +\\frac{\\kappa}{2 \\pi} \\frac{cos\\theta}{r}-\\frac{\\Gamma}{2 \\pi} \\theta$')\n",
    "    plt.xlabel('x')\n",
    "    plt.ylabel('y')\n",
    "    plt.tight_layout()\n",
    "    plt.show()\n",
    "    "
   ]
  },
  {
   "cell_type": "code",
   "execution_count": 39,
   "metadata": {},
   "outputs": [
    {
     "data": {
      "application/vnd.jupyter.widget-view+json": {
       "model_id": "6e76132144c642de99f3ecbfbf6e3466",
       "version_major": 2,
       "version_minor": 0
      },
      "text/plain": [
       "interactive(children=(FloatSlider(value=0.0, description='$\\\\Psi = V_\\\\infty y -\\\\frac{\\\\kappa}{2 \\\\pi} \\\\frac…"
      ]
     },
     "metadata": {},
     "output_type": "display_data"
    }
   ],
   "source": [
    "# HIDDEN\n",
    "interactive_plot = interactive(cylinderLiftingPlot, \n",
    "                               C=widgets.FloatSlider(value=0,min=-5,max=5,step=0.1,description=r'$\\Psi = V_\\infty y -\\frac{\\kappa}{2 \\pi} \\frac{sin\\theta}{r}+\\frac{\\Gamma}{2 \\pi} \\ln r$', style=style, layout=slider_layout), \n",
    "                               C2=widgets.FloatSlider(value=-3,min=-5,max=5,step=0.1,description=r'$\\Phi = V_\\infty x +\\frac{\\kappa}{2 \\pi} \\frac{cos\\theta}{r}-\\frac{\\Gamma}{2 \\pi} \\theta$', style=style, layout=slider_layout), \n",
    "                               Kappa=widgets.FloatSlider(value=32,min=0,max=60,step=2,description=r'$\\kappa$', style=style, layout=slider_layout), \n",
    "                               Gamma=widgets.FloatSlider(value=1,min=0,max=30,step=1,description=r'$\\Gamma$', style=style, layout=slider_layout));\n",
    "\n",
    "interactive_plot.children[0].readout_format = '.4f'\n",
    "interactive_plot.children[1].readout_format = '.4f'\n",
    "interactive_plot.children[2].readout_format = '.4f'\n",
    "interactive_plot.children[3].readout_format = '.4f'\n",
    "interactive_plot"
   ]
  },
  {
   "cell_type": "code",
   "execution_count": 100,
   "metadata": {},
   "outputs": [],
   "source": [
    "import numpy as np\n",
    "import matplotlib.pyplot as plt\n",
    "from matplotlib.patches import Polygon, Rectangle\n",
    "\n",
    "\n",
    "def func2(x):\n",
    "    return (x - 3) * (x - 5) * (x - 7) + 300\n",
    "\n",
    "def func(x):\n",
    "    return np.sin(x)/x + 0.5# y = sin(x)/x\n",
    "\n",
    "\n",
    "x = np.linspace(-20,20,500)\n",
    "min_x = min(x)\n",
    "max_x = max(x)\n",
    "\n",
    "def areaUnderCurve(a, dx):\n",
    "    \n",
    "    b = a + dx\n",
    "    y = func(x)\n",
    "    \n",
    "\n",
    "    fig, ax = fig, ax = plt.subplots(figsize=(15, 8))\n",
    "    ax.plot(x, y, 'r', linewidth=2, label='(x-3)(x-5)(x-9)+85')\n",
    "    ax.set_ylim(bottom=0)\n",
    "\n",
    "    # Make the shaded region\n",
    "    ix = np.linspace(a, b)\n",
    "    iy = func(0.5*(a+b))\n",
    "    verts = [(a, 0), (a,iy), (b,iy), (b, 0)]\n",
    "#     verts = [*zip(ix, iy)]\n",
    "    poly = Polygon(verts, facecolor='0.75', edgecolor='0.1')\n",
    "#     poly = Rectangle((ix, iy), dx,1,facecolor='0.75', edgecolor='0.1')\n",
    "    ax.add_patch(poly)\n",
    "\n",
    "    # ax.text(0.5 * (a + b), 30, r\"$\\int_a^b f(x)\\mathrm{d}x$\",\n",
    "    #         horizontalalignment='center', fontsize=20)\n",
    "\n",
    "    fig.text(0.9, 0.05, '$X$')\n",
    "    fig.text(0.1, 0.9, '$Y$')\n",
    "\n",
    "#     ax.spines['right'].set_visible(False)\n",
    "#     ax.spines['top'].set_visible(False)\n",
    "    ax.xaxis.set_ticks_position('bottom')\n",
    "\n",
    "    ax.set_xticks((a, b))\n",
    "    ax.set_xticklabels((r'a'))\n",
    "    ax.set_yticks([])\n",
    "    plt.show()\n",
    "    \n",
    " "
   ]
  },
  {
   "cell_type": "code",
   "execution_count": null,
   "metadata": {},
   "outputs": [],
   "source": []
  },
  {
   "cell_type": "code",
   "execution_count": 101,
   "metadata": {},
   "outputs": [
    {
     "data": {
      "application/vnd.jupyter.widget-view+json": {
       "model_id": "49b6e27de43d4ec3a2f09500faaf7685",
       "version_major": 2,
       "version_minor": 0
      },
      "text/plain": [
       "interactive(children=(FloatSlider(value=4.0, description='$a$', layout=Layout(width='99%'), max=20.0, min=-20.…"
      ]
     },
     "metadata": {},
     "output_type": "display_data"
    }
   ],
   "source": [
    "interactive_plot = interactive(areaUnderCurve, \n",
    "                               a=widgets.FloatSlider(value=4,min=min_x,max=max_x,step=0.25,description=r'$a$', style=style, layout=slider_layout), \n",
    "                               dx=widgets.FloatSlider(value=1.0,min=0.1,max=max_x,step=0.1,description=r'$dx$', style=style, layout=slider_layout));\n",
    "   \n",
    "interactive_plot"
   ]
  },
  {
   "cell_type": "code",
   "execution_count": 160,
   "metadata": {},
   "outputs": [],
   "source": [
    "def findArea(dx):\n",
    "    a = min_x\n",
    "    b = a + dx\n",
    "    y = func(x)\n",
    "    Area = 0\n",
    "\n",
    "    fig, ax = fig, ax = plt.subplots(figsize=(15, 8))\n",
    "    ax.plot(x, y, 'r', linewidth=2, label='(x-3)(x-5)(x-9)+85')\n",
    "    ax.set_ylim(bottom=0)\n",
    "\n",
    "    # Make the shaded region\n",
    "    ix = np.linspace(a, b)\n",
    "    \n",
    "    \n",
    "    range = max_x - min_x\n",
    "    \n",
    "    numOfPoly = range / dx\n",
    "    \n",
    "    \n",
    "    for i in np.arange(0,numOfPoly):\n",
    "        \n",
    "        if (a+dx>max_x):\n",
    "            dx = max_x - a\n",
    "        iy = func(0.5*(a+b))\n",
    "        verts = [(a, 0), (a,iy), (b,iy), (b, 0)]\n",
    "#     verts = [*zip(ix, iy)]\n",
    "        poly = Polygon(verts, facecolor='0.75', edgecolor='0.1')\n",
    "#     poly = Rectangle((ix, iy), dx,1,facecolor='0.75', edgecolor='0.1')\n",
    "        ax.add_patch(poly)\n",
    "        a += dx\n",
    "        b = a + dx\n",
    "        Area += dx*iy\n",
    "\n",
    "    # ax.text(0.5 * (a + b), 30, r\"$\\int_a^b f(x)\\mathrm{d}x$\",\n",
    "    #         horizontalalignment='center', fontsize=20)\n",
    "\n",
    "    fig.text(0.9, 0.05, '$X$')\n",
    "    fig.text(0.1, 0.9, '$Y$')\n",
    "    \n",
    "    print(\"Predicted Area: \", Area, \"  True Area: \", 23.096522312, \"  Error: \", 100*abs(23.096522312-Area)/23.096522312, \"%\")\n",
    "\n",
    "    ax.spines['right'].set_visible(False)\n",
    "    ax.spines['top'].set_visible(False)\n",
    "    ax.xaxis.set_ticks_position('bottom')\n",
    "\n",
    "    ax.set_xticks((a, b))\n",
    "    ax.set_xticklabels((r'a'))\n",
    "    ax.set_yticks([])\n",
    "    plt.show()"
   ]
  },
  {
   "cell_type": "code",
   "execution_count": 162,
   "metadata": {},
   "outputs": [
    {
     "data": {
      "application/vnd.jupyter.widget-view+json": {
       "model_id": "8281d2de548542c188b099e994e711bd",
       "version_major": 2,
       "version_minor": 0
      },
      "text/plain": [
       "interactive(children=(FloatSlider(value=1.0, description='$dx$', layout=Layout(width='99%'), max=8.0, min=0.1,…"
      ]
     },
     "metadata": {},
     "output_type": "display_data"
    }
   ],
   "source": [
    "interactive_plot = interactive(findArea, \n",
    "                               dx=widgets.FloatSlider(value=1.0,min=0.1,max=8,step=0.1,description=r'$dx$', style=style, layout=slider_layout))\n",
    "   \n",
    "# areaUnderCurve(1,0.5)\n",
    "interactive_plot"
   ]
  },
  {
   "cell_type": "code",
   "execution_count": null,
   "metadata": {},
   "outputs": [],
   "source": []
  },
  {
   "cell_type": "code",
   "execution_count": null,
   "metadata": {},
   "outputs": [],
   "source": []
  }
 ],
 "metadata": {
  "kernelspec": {
   "display_name": "Python 3",
   "language": "python",
   "name": "python3"
  },
  "language_info": {
   "codemirror_mode": {
    "name": "ipython",
    "version": 3
   },
   "file_extension": ".py",
   "mimetype": "text/x-python",
   "name": "python",
   "nbconvert_exporter": "python",
   "pygments_lexer": "ipython3",
   "version": "3.6.8"
  }
 },
 "nbformat": 4,
 "nbformat_minor": 2
}
