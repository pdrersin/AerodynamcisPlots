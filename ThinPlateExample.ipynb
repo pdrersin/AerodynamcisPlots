{
 "cells": [
  {
   "cell_type": "markdown",
   "metadata": {},
   "source": [
    "<div class=\"alert alert-block alert-success\">\n",
    "<h1>Numerical Integration</h1>\n",
    "</div>"
   ]
  },
  {
   "cell_type": "markdown",
   "metadata": {},
   "source": [
    "<p style=\"font-size:17px; color:black; text-align:justify\">The basic problem in numerical integration is to compute an approximate solution to a definite integral to a given degree of accuracy. The simplest method of integration is to let the interpolating function be a constant function (a polynomial of degree zero) that passes through a point. This is called the midpoint rule or rectangle rule.</p>\n",
    "\n",
    "<p style=\"font-size:17px; color:black; text-align:justify\">Below is an example of the rectangle rule, implemented on function: $f(x)=\\frac{1}{x} \\sin (x) + 0.5$</p> \n",
    "\n",
    "<p style=\"font-size:17px; color:red; text-align:justify\">The plot is interactive, change the step size to see its effect on the accuracy.</p> "
   ]
  },
  {
   "cell_type": "code",
   "execution_count": 1,
   "metadata": {},
   "outputs": [
    {
     "data": {
      "application/javascript": [
       "IPython.OutputArea.prototype._should_scroll = function(lines) {\n",
       "    return false;\n",
       "}\n"
      ],
      "text/plain": [
       "<IPython.core.display.Javascript object>"
      ]
     },
     "metadata": {},
     "output_type": "display_data"
    }
   ],
   "source": [
    "%%javascript\n",
    "IPython.OutputArea.prototype._should_scroll = function(lines) {\n",
    "    return false;\n",
    "}"
   ]
  },
  {
   "cell_type": "code",
   "execution_count": 29,
   "metadata": {},
   "outputs": [],
   "source": [
    "# HIDDEN\n",
    "# General Purpose\n",
    "import pandas as pd\n",
    "import numpy as np\n",
    "import matplotlib\n",
    "from matplotlib import pyplot as plt\n",
    "from scipy.integrate import odeint\n",
    "import matplotlib.ticker as ticker\n",
    "from mpl_toolkits.mplot3d import Axes3D\n",
    "from scipy.interpolate import griddata\n",
    "from matplotlib.ticker import LinearLocator, FormatStrFormatter\n",
    "import matplotlib.cm as cm\n",
    "import matplotlib.mlab as mlab\n",
    "import matplotlib.pyplot as plt\n",
    "from sympy import *\n",
    "\n",
    "\n",
    "# Jupyter Specifics\n",
    "from IPython.display import HTML\n",
    "#from ipywidgets.widgets import interact, IntSlider, FloatSlider, Layout\n",
    "\n",
    "import ipywidgets as widgets\n",
    "from ipywidgets import interact, interactive, fixed, interact_manual, IntSlider, FloatSlider, Layout\n",
    "\n",
    "\n",
    "%matplotlib inline\n",
    "matplotlib.rcParams['xtick.direction'] = 'out'\n",
    "matplotlib.rcParams['ytick.direction'] = 'out'\n",
    "\n",
    "style = {'description_width': '150px'}\n",
    "slider_layout = Layout(width='90%')"
   ]
  },
  {
   "cell_type": "code",
   "execution_count": 68,
   "metadata": {},
   "outputs": [],
   "source": [
    "# HIDDEN\n",
    "c = 1  # chord length\n",
    "\n",
    "lowerPressure = '2*10**4*(x-1)**2 + 1.73*10**5'   # lower level pressure\n",
    "upperPressure = '4*10**4*(x-1)**2 + 5.4*10**4'  # upper level pressure\n",
    "lowerShear = '731*x**(-0.2)' # lower level shear stress\n",
    "upperShear = '288*x**(-0.2)' # upper level shear stress\n",
    "\n",
    "\n",
    "def Pl(x):\n",
    "    return eval(lowerPressure)\n",
    "\n",
    "\n",
    "def Pu(x):\n",
    "    return eval(upperPressure)\n",
    "\n",
    "\n",
    "def Tl(x):\n",
    "    return eval(lowerShear)\n",
    "\n",
    "\n",
    "def Tu(x):\n",
    "    return eval(upperShear)\n",
    "\n",
    "\n",
    "x = Symbol('x')\n",
    "integrtionRange = (x, 0, c)\n",
    "\n",
    "\n",
    "# Normal force\n",
    "def N():\n",
    "    return float(integrate(lowerPressure + \"-(\" + upperPressure + \")\", integrtionRange))\n",
    "\n",
    "\n",
    "# Axial force\n",
    "def A():\n",
    "    return float(integrate(lowerShear + \"+(\" + upperShear + \")\", integrtionRange))\n",
    "\n",
    "\n",
    "# Lift\n",
    "def L(a):\n",
    "    a = a * np.pi / 180  # convert angle to degrees\n",
    "    Ap = A()\n",
    "    Np = N()\n",
    "    return float(Np*np.cos(a) - Ap*np.sin(a))\n",
    "\n",
    "\n",
    "# Lift coefficient\n",
    "def Cl(a, ca,cn):\n",
    "    a = a * np.pi / 180  # convert angle to degree\n",
    "    return float(cn*np.cos(a) - ca*np.sin(a))\n",
    "\n",
    "\n",
    "# Drag\n",
    "def D(a):\n",
    "    a = a * np.pi / 180  # convert angle to degrees\n",
    "    Ap = A()\n",
    "    Np = N()\n",
    "    return float(Ap*np.cos(a) + Np*np.sin(a))\n",
    "\n",
    "# drag coefficient\n",
    "def Cd(a, ca, cn):\n",
    "    a = a * np.pi / 180  # convert angle to degrees\n",
    "    return float(ca*np.cos(a) + cn*np.sin(a))\n",
    " \n",
    "    \n",
    "# Moment at the leading edge\n",
    "def Mle():\n",
    "    return float(integrate(\"(\" + upperPressure + \"-(\" + lowerPressure + \"))*x\", integrtionRange))\n",
    "\n",
    "\n",
    "# Moment at the quarter chord\n",
    "def Mc4(a):\n",
    "    a = a * np.pi / 180  # convert angle to degrees\n",
    "    return float(Mle() + L(a)*(c/4))\n",
    "\n",
    "\n",
    "# Locaion of center of pressure\n",
    "def Xcp(a):\n",
    "    a = a * np.pi / 180  # convert angle to degrees\n",
    "    return float(-Mle()/N())"
   ]
  },
  {
   "cell_type": "code",
   "execution_count": 84,
   "metadata": {
    "scrolled": true
   },
   "outputs": [
    {
     "data": {
      "application/vnd.jupyter.widget-view+json": {
       "model_id": "abd1ba52e3f44ae8b0f16729271d160a",
       "version_major": 2,
       "version_minor": 0
      },
      "text/plain": [
       "FloatSlider(value=12.0, continuous_update=False, description='Angle of Attack ($^{\\\\circ}$):', layout=Layout(w…"
      ]
     },
     "metadata": {},
     "output_type": "display_data"
    },
    {
     "data": {
      "application/vnd.jupyter.widget-view+json": {
       "model_id": "d98c9178355b4554bd36edf2595edf02",
       "version_major": 2,
       "version_minor": 0
      },
      "text/plain": [
       "FloatSlider(value=0.03, continuous_update=False, description='Axial Force Coefficient, ($c_a$):', layout=Layou…"
      ]
     },
     "metadata": {},
     "output_type": "display_data"
    },
    {
     "data": {
      "application/vnd.jupyter.widget-view+json": {
       "model_id": "4fee14b562f145058359266b52d5601d",
       "version_major": 2,
       "version_minor": 0
      },
      "text/plain": [
       "FloatSlider(value=1.2, continuous_update=False, description='Norma Force Coefficient ($c_n$):', layout=Layout(…"
      ]
     },
     "metadata": {},
     "output_type": "display_data"
    },
    {
     "data": {
      "application/vnd.jupyter.widget-view+json": {
       "model_id": "fe02b5912bef46f69557c05c737ba3c9",
       "version_major": 2,
       "version_minor": 0
      },
      "text/plain": [
       "FloatText(value=1.167539770156034, description='Lift Coefficient ($N$):', layout=Layout(width='70%'), style=De…"
      ]
     },
     "metadata": {},
     "output_type": "display_data"
    },
    {
     "data": {
      "application/vnd.jupyter.widget-view+json": {
       "model_id": "0285dd7d92cc4cbc81fde68885dccff5",
       "version_major": 2,
       "version_minor": 0
      },
      "text/plain": [
       "FloatText(value=0.2788384570033253, description='Drag Coefficient ($N$):', layout=Layout(width='70%'), style=D…"
      ]
     },
     "metadata": {},
     "output_type": "display_data"
    },
    {
     "data": {
      "application/vnd.jupyter.widget-view+json": {
       "model_id": "0a373dee33884e9da6dc102a03ba0f11",
       "version_major": 2,
       "version_minor": 0
      },
      "text/plain": [
       "FloatText(value=112333.33333333333, description='Normal Force ($N$):', layout=Layout(width='70%'), style=Descr…"
      ]
     },
     "metadata": {},
     "output_type": "display_data"
    },
    {
     "data": {
      "application/vnd.jupyter.widget-view+json": {
       "model_id": "b93e58696dc54c31b2175eae622d9ebd",
       "version_major": 2,
       "version_minor": 0
      },
      "text/plain": [
       "FloatText(value=1273.75, description='Axial Force ($N$):', layout=Layout(width='70%'), style=DescriptionStyle(…"
      ]
     },
     "metadata": {},
     "output_type": "display_data"
    },
    {
     "data": {
      "application/vnd.jupyter.widget-view+json": {
       "model_id": "174e40d34d044b5684e5cae9b2bec323",
       "version_major": 2,
       "version_minor": 0
      },
      "text/plain": [
       "FloatText(value=109613.7529662517, description='Lift ($N$):', layout=Layout(width='70%'), style=DescriptionSty…"
      ]
     },
     "metadata": {},
     "output_type": "display_data"
    },
    {
     "data": {
      "application/vnd.jupyter.widget-view+json": {
       "model_id": "507f32345f154f80a5dca1e43fc7b4d7",
       "version_major": 2,
       "version_minor": 0
      },
      "text/plain": [
       "FloatText(value=24601.32877496298, description='Drag ($N$):', layout=Layout(width='70%'), style=DescriptionSty…"
      ]
     },
     "metadata": {},
     "output_type": "display_data"
    },
    {
     "data": {
      "application/vnd.jupyter.widget-view+json": {
       "model_id": "8b5be57eff55408892e43c13b7f73650",
       "version_major": 2,
       "version_minor": 0
      },
      "text/plain": [
       "FloatText(value=-57833.333333333336, description='Moment at the Leading Edge ($N\\\\cdot m$):', layout=Layout(wi…"
      ]
     },
     "metadata": {},
     "output_type": "display_data"
    },
    {
     "data": {
      "application/vnd.jupyter.widget-view+json": {
       "model_id": "1ec04f35ffec40eb9b38ba887b3afd66",
       "version_major": 2,
       "version_minor": 0
      },
      "text/plain": [
       "FloatText(value=-29751.35164147804, description='Moment at the Quarter Chord ($N\\\\cdot m$):', layout=Layout(wi…"
      ]
     },
     "metadata": {},
     "output_type": "display_data"
    },
    {
     "data": {
      "application/vnd.jupyter.widget-view+json": {
       "model_id": "d24fbcc1f36a427c95f85361062b5eed",
       "version_major": 2,
       "version_minor": 0
      },
      "text/plain": [
       "FloatText(value=0.5148367952522256, description='Center of Pressure Location ($m$):', layout=Layout(width='70%…"
      ]
     },
     "metadata": {},
     "output_type": "display_data"
    }
   ],
   "source": [
    "from IPython.display import display\n",
    "\n",
    "alphaDefault = 12\n",
    "cnDefault = 1.2\n",
    "caDefault = 0.03\n",
    "\n",
    "style = {'description_width': 'initial'}\n",
    "sliderLayout = Layout(width='80%')\n",
    "boxLayout = Layout(width='70%')\n",
    "\n",
    "# Angle of attack widget settings\n",
    "alpha_widget = widgets.FloatSlider(\n",
    "    value=alphaDefault,\n",
    "    min=0,\n",
    "    max=15.0,\n",
    "    step=0.5,\n",
    "    description=r'Angle of Attack ($^{\\circ}$):',\n",
    "    disabled=False,\n",
    "    continuous_update=False,\n",
    "    orientation='horizontal',\n",
    "    readout=True,\n",
    "    readout_format='.1f',\n",
    "    layout=sliderLayout,\n",
    "    style=style\n",
    ")\n",
    "display(alpha_widget)\n",
    "\n",
    "\n",
    "# Axial force coeefficient widget settings\n",
    "ca_widget = widgets.FloatSlider(\n",
    "    value=caDefault,\n",
    "    min=-1,\n",
    "    max=1,\n",
    "    step=0.01,\n",
    "    description=r'Axial Force Coefficient, ($c_a$):',\n",
    "    disabled=False,\n",
    "    continuous_update=False,\n",
    "    orientation='horizontal',\n",
    "    readout=True,\n",
    "    readout_format='.2f',\n",
    "    layout=sliderLayout,\n",
    "    style=style\n",
    ")\n",
    "\n",
    "\n",
    "# Normal force coeefficient widget settings\n",
    "cn_widget = widgets.FloatSlider(\n",
    "    value=cnDefault,\n",
    "    min=-3,\n",
    "    max=3,\n",
    "    step=0.1,\n",
    "    description=r'Norma Force Coefficient ($c_n$):',\n",
    "    disabled=False,\n",
    "    continuous_update=False,\n",
    "    orientation='horizontal',\n",
    "    readout=True,\n",
    "    readout_format='.2f',\n",
    "    layout=sliderLayout,\n",
    "    style=style\n",
    ")\n",
    "\n",
    "\n",
    "\n",
    "\n",
    "\n",
    "\n",
    "# Lift coeficient widget settings\n",
    "LiftCE = widgets.FloatText(\n",
    "    value=Cl(alphaDefault, caDefault, cnDefault),\n",
    "    description=r\"Lift Coefficient ($N$):\",\n",
    "    disabled=False,\n",
    "    continuous_update=False,\n",
    "    orientation='horizontal',\n",
    "    readout=True,\n",
    "    readout_format='.5f',\n",
    "    layout=boxLayout,\n",
    "    style=style\n",
    ")\n",
    "\n",
    "def update_liftce(*args):\n",
    "    LiftCE.value = Cl(alpha_widget.value, ca_widget.value, cn_widget.value)\n",
    "    \n",
    "ca_widget.observe(update_liftce, 'value')\n",
    "alpha_widget.observe(update_liftce, 'value')\n",
    "cn_widget.observe(update_liftce, 'value')\n",
    "\n",
    "\n",
    "# Drag coeficient widget settings\n",
    "DragCE = widgets.FloatText(\n",
    "    value=Cd(alphaDefault, caDefault, cnDefault),\n",
    "    description=r\"Drag Coefficient ($N$):\",\n",
    "    disabled=False,\n",
    "    continuous_update=False,\n",
    "    orientation='horizontal',\n",
    "    readout=True,\n",
    "    readout_format='.5f',\n",
    "    layout=boxLayout,\n",
    "    style=style\n",
    ")\n",
    "\n",
    "def update_dragce(*args):\n",
    "    DragCE.value = Cd(alpha_widget.value, ca_widget.value, cn_widget.value)\n",
    "    \n",
    "ca_widget.observe(update_dragce, 'value')\n",
    "alpha_widget.observe(update_dragce, 'value')\n",
    "cn_widget.observe(update_dragce, 'value')\n",
    "\n",
    "\n",
    "display(ca_widget)\n",
    "display(cn_widget)\n",
    "display(LiftCE)\n",
    "display(DragCE)\n",
    "\n",
    "\n",
    "# Normal Force widget settings\n",
    "NormalForce = widgets.FloatText(\n",
    "    value=N(),\n",
    "    description=r\"Normal Force ($N$):\",\n",
    "    disabled=False,\n",
    "    continuous_update=False,\n",
    "    orientation='horizontal',\n",
    "    readout=True,\n",
    "    readout_format='.1f',\n",
    "    layout=boxLayout,\n",
    "    style=style\n",
    ")\n",
    "def update_normal(*args):\n",
    "    NormalForce.value = N()\n",
    "alpha_widget.observe(update_normal, 'value')\n",
    "display(NormalForce)\n",
    "\n",
    "\n",
    "# Axial Force widget settings\n",
    "AxialForce = widgets.FloatText(\n",
    "    value=A(),\n",
    "    description=r\"Axial Force ($N$):\",\n",
    "    disabled=False,\n",
    "    continuous_update=False,\n",
    "    orientation='horizontal',\n",
    "    readout=True,\n",
    "    readout_format='.1f',\n",
    "    layout=boxLayout,\n",
    "    style=style\n",
    ")\n",
    "def update_axial(*args):\n",
    "    AxialForce.value = A()\n",
    "alpha_widget.observe(update_axial, 'value')\n",
    "display(AxialForce)\n",
    "\n",
    "\n",
    "\n",
    "# Lift widget settings\n",
    "Lift = widgets.FloatText(\n",
    "    value=L(alphaDefault),\n",
    "    description=r\"Lift ($N$):\",\n",
    "    disabled=False,\n",
    "    continuous_update=False,\n",
    "    orientation='horizontal',\n",
    "    readout=True,\n",
    "    readout_format='.1f',\n",
    "    layout=boxLayout,\n",
    "    style=style\n",
    ")\n",
    "def update_lift(*args):\n",
    "    Lift.value = L(alpha_widget.value)\n",
    "alpha_widget.observe(update_lift, 'value')\n",
    "display(Lift)\n",
    "\n",
    "\n",
    "\n",
    "# Drag widget settings\n",
    "Drag = widgets.FloatText(\n",
    "    value=D(alphaDefault),\n",
    "    description=r\"Drag ($N$):\",\n",
    "    disabled=False,\n",
    "    continuous_update=False,\n",
    "    orientation='horizontal',\n",
    "    readout=True,\n",
    "    readout_format='.1f',\n",
    "    layout=boxLayout,\n",
    "    style=style\n",
    ")\n",
    "def update_drag(*args):\n",
    "    Drag.value = D(alpha_widget.value)\n",
    "alpha_widget.observe(update_drag, 'value')\n",
    "display(Drag)\n",
    "\n",
    "\n",
    "\n",
    "\n",
    "# Moment at the leading edge widget settings\n",
    "MomLE = widgets.FloatText(\n",
    "    value=Mle(),\n",
    "    description=r\"Moment at the Leading Edge ($N\\cdot m$):\",\n",
    "    disabled=False,\n",
    "    continuous_update=False,\n",
    "    orientation='horizontal',\n",
    "    readout=True,\n",
    "    readout_format='.1f',\n",
    "    layout=boxLayout,\n",
    "    style=style\n",
    ")\n",
    "def update_mle(*args):\n",
    "    MomLE.value = Mle()\n",
    "alpha_widget.observe(update_mle, 'value')\n",
    "display(MomLE)\n",
    "\n",
    "\n",
    "\n",
    "# Moment at the Quarter Chord widget settings\n",
    "MomC4 = widgets.FloatText(\n",
    "    value=Mc4(alphaDefault),\n",
    "    description=r\"Moment at the Quarter Chord ($N\\cdot m$):\",\n",
    "    disabled=False,\n",
    "    continuous_update=False,\n",
    "    orientation='horizontal',\n",
    "    readout=True,\n",
    "    readout_format='.1f',\n",
    "    layout=boxLayout,\n",
    "    style=style\n",
    ")\n",
    "def update_mc4(*args):\n",
    "    MomC4.value = Mc4(alpha_widget.value)\n",
    "alpha_widget.observe(update_mc4, 'value')\n",
    "display(MomC4)\n",
    "\n",
    "\n",
    "\n",
    "# Location of Center of Pressure widget settings\n",
    "LocCoP = widgets.FloatText(\n",
    "    value=Xcp(alphaDefault),\n",
    "    description=r\"Center of Pressure Location ($m$):\",\n",
    "    disabled=False,\n",
    "    continuous_update=False,\n",
    "    orientation='horizontal',\n",
    "    readout=True,\n",
    "    readout_format='.1f',\n",
    "    layout=boxLayout,\n",
    "    style=style\n",
    ")\n",
    "def update_xcop(*args):\n",
    "    LocCoP.value = Xcp(alpha_widget.value)\n",
    "alpha_widget.observe(update_xcop, 'value')\n",
    "display(LocCoP)\n",
    "\n",
    "\n",
    "\n",
    "\n"
   ]
  },
  {
   "cell_type": "code",
   "execution_count": 80,
   "metadata": {},
   "outputs": [
    {
     "data": {
      "application/vnd.jupyter.widget-view+json": {
       "model_id": "e0c741be1ea541ef90e254f5c9db5b60",
       "version_major": 2,
       "version_minor": 0
      },
      "text/plain": [
       "FloatSlider(value=12.0, continuous_update=False, description='Angle of Attack ($^{\\\\circ}$):', layout=Layout(w…"
      ]
     },
     "metadata": {},
     "output_type": "display_data"
    },
    {
     "data": {
      "application/vnd.jupyter.widget-view+json": {
       "model_id": "715a00752e9246b5b0c2bda0447beeb2",
       "version_major": 2,
       "version_minor": 0
      },
      "text/plain": [
       "FloatSlider(value=0.03, continuous_update=False, description='Axial Force Coefficient, ($c_a$):', layout=Layou…"
      ]
     },
     "metadata": {},
     "output_type": "display_data"
    },
    {
     "data": {
      "application/vnd.jupyter.widget-view+json": {
       "model_id": "33781beeb999451688ac133acd9a6567",
       "version_major": 2,
       "version_minor": 0
      },
      "text/plain": [
       "FloatSlider(value=1.2, continuous_update=False, description='Norma Force Coefficient ($c_n$):', layout=Layout(…"
      ]
     },
     "metadata": {},
     "output_type": "display_data"
    },
    {
     "data": {
      "application/vnd.jupyter.widget-view+json": {
       "model_id": "426feb1e7e514a87970cbfb88fd81422",
       "version_major": 2,
       "version_minor": 0
      },
      "text/plain": [
       "FloatText(value=1.167539770156034, description='Lift Coefficient ($N$):', layout=Layout(width='70%'), style=De…"
      ]
     },
     "metadata": {},
     "output_type": "display_data"
    },
    {
     "data": {
      "application/vnd.jupyter.widget-view+json": {
       "model_id": "9f2d66bc9fe5447ab9e07cc0ecab7436",
       "version_major": 2,
       "version_minor": 0
      },
      "text/plain": [
       "FloatText(value=0.2788384570033253, description='Drag Coefficient ($N$):', layout=Layout(width='70%'), style=D…"
      ]
     },
     "metadata": {},
     "output_type": "display_data"
    }
   ],
   "source": [
    "alphaDefault = 12\n",
    "cnDefault = 1.2\n",
    "caDefault = 0.03\n",
    "\n",
    "\n",
    "# Angle of attack widget settings\n",
    "alpha_widget = widgets.FloatSlider(\n",
    "    value=alphaDefault,\n",
    "    min=0,\n",
    "    max=15.0,\n",
    "    step=0.5,\n",
    "    description=r'Angle of Attack ($^{\\circ}$):',\n",
    "    disabled=False,\n",
    "    continuous_update=False,\n",
    "    orientation='horizontal',\n",
    "    readout=True,\n",
    "    readout_format='.1f',\n",
    "    layout=sliderLayout,\n",
    "    style=style\n",
    ")\n",
    "\n",
    "\n",
    "\n",
    "# Axial force coeefficient widget settings\n",
    "ca_widget = widgets.FloatSlider(\n",
    "    value=caDefault,\n",
    "    min=-1,\n",
    "    max=1,\n",
    "    step=0.01,\n",
    "    description=r'Axial Force Coefficient, ($c_a$):',\n",
    "    disabled=False,\n",
    "    continuous_update=False,\n",
    "    orientation='horizontal',\n",
    "    readout=True,\n",
    "    readout_format='.2f',\n",
    "    layout=sliderLayout,\n",
    "    style=style\n",
    ")\n",
    "\n",
    "\n",
    "# Normal force coeefficient widget settings\n",
    "cn_widget = widgets.FloatSlider(\n",
    "    value=cnDefault,\n",
    "    min=-3,\n",
    "    max=3,\n",
    "    step=0.1,\n",
    "    description=r'Norma Force Coefficient ($c_n$):',\n",
    "    disabled=False,\n",
    "    continuous_update=False,\n",
    "    orientation='horizontal',\n",
    "    readout=True,\n",
    "    readout_format='.2f',\n",
    "    layout=sliderLayout,\n",
    "    style=style\n",
    ")\n",
    "\n",
    "\n",
    "\n",
    "\n",
    "\n",
    "\n",
    "# Lift coeficient widget settings\n",
    "LiftCE = widgets.FloatText(\n",
    "    value=Cl(alphaDefault, caDefault, cnDefault),\n",
    "    description=r\"Lift Coefficient ($N$):\",\n",
    "    disabled=False,\n",
    "    continuous_update=False,\n",
    "    orientation='horizontal',\n",
    "    readout=True,\n",
    "    readout_format='.5f',\n",
    "    layout=boxLayout,\n",
    "    style=style\n",
    ")\n",
    "\n",
    "def update_liftce(*args):\n",
    "    LiftCE.value = Cl(alpha_widget.value, ca_widget.value, cn_widget.value)\n",
    "    \n",
    "ca_widget.observe(update_liftce, 'value')\n",
    "alpha_widget.observe(update_liftce, 'value')\n",
    "cn_widget.observe(update_liftce, 'value')\n",
    "\n",
    "\n",
    "# Lift coeficient widget settings\n",
    "DragCE = widgets.FloatText(\n",
    "    value=Cd(alphaDefault, caDefault, cnDefault),\n",
    "    description=r\"Drag Coefficient ($N$):\",\n",
    "    disabled=False,\n",
    "    continuous_update=False,\n",
    "    orientation='horizontal',\n",
    "    readout=True,\n",
    "    readout_format='.5f',\n",
    "    layout=boxLayout,\n",
    "    style=style\n",
    ")\n",
    "\n",
    "def update_dragce(*args):\n",
    "    DragCE.value = Cd(alpha_widget.value, ca_widget.value, cn_widget.value)\n",
    "    \n",
    "ca_widget.observe(update_dragce, 'value')\n",
    "alpha_widget.observe(update_dragce, 'value')\n",
    "cn_widget.observe(update_dragce, 'value')\n",
    "\n",
    "display(alpha_widget)\n",
    "display(ca_widget)\n",
    "display(cn_widget)\n",
    "display(LiftCE)\n",
    "display(DragCE)\n"
   ]
  },
  {
   "cell_type": "code",
   "execution_count": 44,
   "metadata": {},
   "outputs": [
    {
     "data": {
      "application/vnd.jupyter.widget-view+json": {
       "model_id": "ee33b68b604749d1820702a766b005fd",
       "version_major": 2,
       "version_minor": 0
      },
      "text/plain": [
       "interactive(children=(Select(description='country', options=('USA', 'Russia'), value='USA'), Select(descriptio…"
      ]
     },
     "metadata": {},
     "output_type": "display_data"
    }
   ],
   "source": [
    "import ipywidgets as widgets\n",
    "from IPython.display import display\n",
    "\n",
    "geo={'USA':['CHI','NYC'],'Russia':['MOW','LED']}\n",
    "geoWs = {key: widgets.Select(options=geo[key]) for key in geo}\n",
    "\n",
    "def get_current_state():\n",
    "    return {'country': i.children[0].value,\n",
    "            'city': i.children[1].value}\n",
    "\n",
    "def print_city(**func_kwargs):\n",
    "    print('func_kwargs', func_kwargs)\n",
    "    print('i.kwargs', i.kwargs)\n",
    "    print('get_current_state', get_current_state())\n",
    "\n",
    "def select_country(country):\n",
    "    new_i = widgets.interactive(print_city, country=countryW, city=geoWs[country['new']])\n",
    "    i.children = new_i.children\n",
    "\n",
    "countryW = widgets.Select(options=list(geo.keys()))\n",
    "init = countryW.value\n",
    "cityW = geoWs[init]\n",
    "\n",
    "countryW.observe(select_country, 'value')\n",
    "\n",
    "i = widgets.interactive(print_city, country=countryW, city=cityW)\n",
    "\n",
    "display(i)"
   ]
  },
  {
   "cell_type": "code",
   "execution_count": null,
   "metadata": {},
   "outputs": [],
   "source": []
  },
  {
   "cell_type": "code",
   "execution_count": null,
   "metadata": {},
   "outputs": [],
   "source": []
  },
  {
   "cell_type": "code",
   "execution_count": null,
   "metadata": {},
   "outputs": [],
   "source": []
  },
  {
   "cell_type": "code",
   "execution_count": 6,
   "metadata": {},
   "outputs": [
    {
     "data": {
      "application/vnd.jupyter.widget-view+json": {
       "model_id": "8654a006d60e415e8d179793893f9b9e",
       "version_major": 2,
       "version_minor": 0
      },
      "text/plain": [
       "FloatSlider(value=0.0, max=10.0, step=0.05)"
      ]
     },
     "metadata": {},
     "output_type": "display_data"
    },
    {
     "data": {
      "application/vnd.jupyter.widget-view+json": {
       "model_id": "2ce6917881484489a383eae06bf7ba8b",
       "version_major": 2,
       "version_minor": 0
      },
      "text/plain": [
       "FloatText(value=0.0)"
      ]
     },
     "metadata": {},
     "output_type": "display_data"
    }
   ],
   "source": [
    "import ipywidgets as widgets\n",
    "\n",
    "\n",
    "x_widget = FloatSlider(min=0.0, max=10.0, step=0.05)\n",
    "y_widget = widgets.FloatText()\n",
    "\n",
    "def update_y_range(*args):\n",
    "    y_widget.value = 2.0 * x_widget.value\n",
    "x_widget.observe(update_y_range, 'value')\n",
    "\n",
    "display(x_widget)\n",
    "display(y_widget)\n",
    "\n",
    "\n",
    "\n"
   ]
  },
  {
   "cell_type": "code",
   "execution_count": null,
   "metadata": {},
   "outputs": [],
   "source": []
  },
  {
   "cell_type": "code",
   "execution_count": 7,
   "metadata": {},
   "outputs": [],
   "source": [
    "# HIDDEN\n",
    "import numpy as np\n",
    "import matplotlib.pyplot as plt\n",
    "from matplotlib.patches import Polygon, Rectangle\n",
    "\n",
    "\n",
    "def func2(x):\n",
    "    return (x - 3) * (x - 5) * (x - 7) + 300\n",
    "\n",
    "def func(x):\n",
    "    return np.sin(x)/x + 0.5# y = sin(x)/x\n",
    "\n",
    "\n",
    "x = np.linspace(-20,20,500)\n",
    "min_x = min(x)\n",
    "max_x = max(x)\n",
    "\n",
    "def areaUnderCurve(a, dx):\n",
    "    \n",
    "    b = a + dx\n",
    "    y = func(x)\n",
    "    \n",
    "\n",
    "    fig, ax = fig, ax = plt.subplots(figsize=(15, 8))\n",
    "    ax.plot(x, y, 'r', linewidth=2, label='(x-3)(x-5)(x-9)+85')\n",
    "    ax.set_ylim(bottom=0)\n",
    "\n",
    "    # Make the shaded region\n",
    "    ix = np.linspace(a, b)\n",
    "    iy = func(0.5*(a+b))\n",
    "    verts = [(a, 0), (a,iy), (b,iy), (b, 0)]\n",
    "#     verts = [*zip(ix, iy)]\n",
    "    poly = Polygon(verts, facecolor='0.75', edgecolor='0.1')\n",
    "#     poly = Rectangle((ix, iy), dx,1,facecolor='0.75', edgecolor='0.1')\n",
    "    ax.add_patch(poly)\n",
    "\n",
    "    # ax.text(0.5 * (a + b), 30, r\"$\\int_a^b f(x)\\mathrm{d}x$\",\n",
    "    #         horizontalalignment='center', fontsize=20)\n",
    "\n",
    "    fig.text(0.9, 0.05, '$X$')\n",
    "    fig.text(0.1, 0.9, '$Y$')\n",
    "\n",
    "#     ax.spines['right'].set_visible(False)\n",
    "#     ax.spines['top'].set_visible(False)\n",
    "    ax.xaxis.set_ticks_position('bottom')\n",
    "\n",
    "    ax.set_xticks((a, b))\n",
    "    ax.set_xticklabels((r'a'))\n",
    "    ax.set_yticks([])\n",
    "    plt.show()"
   ]
  },
  {
   "cell_type": "code",
   "execution_count": 8,
   "metadata": {},
   "outputs": [
    {
     "data": {
      "text/plain": [
       "303"
      ]
     },
     "execution_count": 8,
     "metadata": {},
     "output_type": "execute_result"
    }
   ],
   "source": [
    "func2(4)"
   ]
  },
  {
   "cell_type": "code",
   "execution_count": 9,
   "metadata": {},
   "outputs": [],
   "source": [
    "# HIDDEN\n",
    "interactive_plot = interactive(areaUnderCurve, \n",
    "                               a=widgets.FloatSlider(value=4,min=min_x,max=max_x,step=0.25,description=r'$a$', style=style, layout=slider_layout), \n",
    "                               dx=widgets.FloatSlider(value=1.0,min=0.1,max=max_x,step=0.1,description=r'$dx$', style=style, layout=slider_layout));\n",
    "   \n",
    "#interactive_plot"
   ]
  },
  {
   "cell_type": "code",
   "execution_count": 10,
   "metadata": {},
   "outputs": [],
   "source": [
    "# HIDDEN\n",
    "def findArea(dx):\n",
    "    a = min_x\n",
    "    b = a + dx\n",
    "    y = func(x)\n",
    "    Area = 0\n",
    "\n",
    "    fig, ax = fig, ax = plt.subplots(figsize=(15, 8))\n",
    "    ax.plot(x, y, 'r', linewidth=2, label='(x-3)(x-5)(x-9)+85')\n",
    "    ax.set_ylim(bottom=0)\n",
    "\n",
    "    # Make the shaded region\n",
    "    ix = np.linspace(a, b)\n",
    "    \n",
    "    \n",
    "    range = max_x - min_x\n",
    "    \n",
    "    numOfPoly = range / dx\n",
    "    \n",
    "    \n",
    "    for i in np.arange(0,numOfPoly):\n",
    "        \n",
    "        if (a+dx>max_x):\n",
    "            dx = max_x - a\n",
    "        iy = func(0.5*(a+b))\n",
    "        verts = [(a, 0), (a,iy), (b,iy), (b, 0)]\n",
    "#     verts = [*zip(ix, iy)]\n",
    "        poly = Polygon(verts, facecolor='0.75', edgecolor='0.1')\n",
    "#     poly = Rectangle((ix, iy), dx,1,facecolor='0.75', edgecolor='0.1')\n",
    "        ax.add_patch(poly)\n",
    "        a += dx\n",
    "        b = a + dx\n",
    "        Area += dx*iy\n",
    "\n",
    "    # ax.text(0.5 * (a + b), 30, r\"$\\int_a^b f(x)\\mathrm{d}x$\",\n",
    "    #         horizontalalignment='center', fontsize=20)\n",
    "\n",
    "    fig.text(0.9, 0.05, '$X$')\n",
    "    fig.text(0.1, 0.9, '$Y$')\n",
    "    \n",
    "    print(\"Predicted Area: \", Area, \"  True Area: \", 23.096522312, \"  Error: \", 100*abs(23.096522312-Area)/23.096522312, \"%\")\n",
    "\n",
    "    ax.spines['right'].set_visible(False)\n",
    "    ax.spines['top'].set_visible(False)\n",
    "    ax.xaxis.set_ticks_position('bottom')\n",
    "\n",
    "    ax.set_xticks((a, b))\n",
    "    ax.set_xticklabels((r'a'))\n",
    "    ax.set_yticks([])\n",
    "    plt.show()"
   ]
  },
  {
   "cell_type": "code",
   "execution_count": 11,
   "metadata": {},
   "outputs": [
    {
     "data": {
      "application/vnd.jupyter.widget-view+json": {
       "model_id": "26f7e223f3ad46d9a2b3cf130858d091",
       "version_major": 2,
       "version_minor": 0
      },
      "text/plain": [
       "interactive(children=(FloatSlider(value=1.0, description='$dx$', layout=Layout(width='90%'), max=8.0, min=0.1,…"
      ]
     },
     "metadata": {},
     "output_type": "display_data"
    }
   ],
   "source": [
    "# HIDDEN\n",
    "interactive_plot = interactive(findArea, \n",
    "                               dx=widgets.FloatSlider(value=1.0,min=0.1,max=8,step=0.1,description=r'$dx$', style=style, layout=slider_layout))\n",
    "   \n",
    "# areaUnderCurve(1,0.5)\n",
    "interactive_plot"
   ]
  },
  {
   "cell_type": "code",
   "execution_count": null,
   "metadata": {},
   "outputs": [],
   "source": []
  },
  {
   "cell_type": "code",
   "execution_count": 12,
   "metadata": {},
   "outputs": [
    {
     "data": {
      "application/vnd.jupyter.widget-view+json": {
       "model_id": "07f11729117e4161a6ed6e28313fe7fd",
       "version_major": 2,
       "version_minor": 0
      },
      "text/plain": [
       "interactive(children=(IntSlider(value=10, description='x', max=30, min=-10), Output()), _dom_classes=('widget-…"
      ]
     },
     "metadata": {},
     "output_type": "display_data"
    },
    {
     "data": {
      "application/vnd.jupyter.widget-view+json": {
       "model_id": "2da3b5aef0fb4e9ebb69fa1a5d4b2076",
       "version_major": 2,
       "version_minor": 0
      },
      "text/plain": [
       "interactive(children=(Checkbox(value=True, description='x'), Output()), _dom_classes=('widget-interact',))"
      ]
     },
     "metadata": {},
     "output_type": "display_data"
    },
    {
     "data": {
      "application/vnd.jupyter.widget-view+json": {
       "model_id": "8762169004ee4045942657e1d4ac4e07",
       "version_major": 2,
       "version_minor": 0
      },
      "text/plain": [
       "interactive(children=(Text(value='Hi there!', description='x'), Output()), _dom_classes=('widget-interact',))"
      ]
     },
     "metadata": {},
     "output_type": "display_data"
    },
    {
     "data": {
      "application/vnd.jupyter.widget-view+json": {
       "model_id": "b3a5b4e7b0824b259e22a0bf3171b677",
       "version_major": 2,
       "version_minor": 0
      },
      "text/plain": [
       "interactive(children=(Checkbox(value=True, description='x'), FloatSlider(value=1.0, description='y', max=3.0, …"
      ]
     },
     "metadata": {},
     "output_type": "display_data"
    },
    {
     "data": {
      "application/vnd.jupyter.widget-view+json": {
       "model_id": "48a1a96b348f48799b7e24ef5f581e5c",
       "version_major": 2,
       "version_minor": 0
      },
      "text/plain": [
       "interactive(children=(IntSlider(value=5, description='p', max=15, min=-5), Output()), _dom_classes=('widget-in…"
      ]
     },
     "metadata": {},
     "output_type": "display_data"
    },
    {
     "data": {
      "application/vnd.jupyter.widget-view+json": {
       "model_id": "602ba66c5965404d877692e271c1e646",
       "version_major": 2,
       "version_minor": 0
      },
      "text/plain": [
       "interactive(children=(IntSlider(value=10, description='x', max=30, min=-10), Output()), _dom_classes=('widget-…"
      ]
     },
     "metadata": {},
     "output_type": "display_data"
    },
    {
     "data": {
      "application/vnd.jupyter.widget-view+json": {
       "model_id": "b26bdc77ed854b03af19c86b94c4579e",
       "version_major": 2,
       "version_minor": 0
      },
      "text/plain": [
       "interactive(children=(IntSlider(value=4, description='x', max=8, step=2), Output()), _dom_classes=('widget-int…"
      ]
     },
     "metadata": {},
     "output_type": "display_data"
    },
    {
     "data": {
      "application/vnd.jupyter.widget-view+json": {
       "model_id": "236a32dfe43642c6944a571fc54f6488",
       "version_major": 2,
       "version_minor": 0
      },
      "text/plain": [
       "interactive(children=(FloatSlider(value=5.5, description='x', max=20.0, step=0.5), Output()), _dom_classes=('w…"
      ]
     },
     "metadata": {},
     "output_type": "display_data"
    },
    {
     "data": {
      "application/vnd.jupyter.widget-view+json": {
       "model_id": "0a7591a9cd1c472db27bad68bdef4bab",
       "version_major": 2,
       "version_minor": 0
      },
      "text/plain": [
       "interactive(children=(Dropdown(description='x', options=('apples', 'oranges'), value='apples'), Output()), _do…"
      ]
     },
     "metadata": {},
     "output_type": "display_data"
    },
    {
     "data": {
      "application/vnd.jupyter.widget-view+json": {
       "model_id": "02fad4b586bd431c9f4d5e41487979f9",
       "version_major": 2,
       "version_minor": 0
      },
      "text/plain": [
       "interactive(children=(Dropdown(description='x', options=(('one', 10), ('two', 20)), value=10), Output()), _dom…"
      ]
     },
     "metadata": {},
     "output_type": "display_data"
    },
    {
     "data": {
      "application/vnd.jupyter.widget-view+json": {
       "model_id": "728e163585a74865a3e6750e462a9995",
       "version_major": 2,
       "version_minor": 0
      },
      "text/plain": [
       "HBox(children=(IntSlider(value=0), IntSlider(value=0), IntSlider(value=0)))"
      ]
     },
     "metadata": {},
     "output_type": "display_data"
    },
    {
     "data": {
      "application/vnd.jupyter.widget-view+json": {
       "model_id": "d06321c4aaa44564ba6a89b59ffc8c4b",
       "version_major": 2,
       "version_minor": 0
      },
      "text/plain": [
       "Output()"
      ]
     },
     "metadata": {},
     "output_type": "display_data"
    },
    {
     "data": {
      "application/vnd.jupyter.widget-view+json": {
       "model_id": "3063c1176ec24cf39bc1aa9f97c5114e",
       "version_major": 2,
       "version_minor": 0
      },
      "text/plain": [
       "interactive(children=(FloatSlider(value=0.0, description='x', max=10.0, step=0.05), FloatSlider(value=5.0, des…"
      ]
     },
     "metadata": {},
     "output_type": "display_data"
    },
    {
     "data": {
      "application/vnd.jupyter.widget-view+json": {
       "model_id": "c2976ee00bab4567bd007cd977bb2b5f",
       "version_major": 2,
       "version_minor": 0
      },
      "text/plain": [
       "BoundedFloatText(value=1.0, description='Text:', max=10.0, step=0.1)"
      ]
     },
     "metadata": {},
     "output_type": "display_data"
    }
   ],
   "source": [
    "# HIDDEN\n",
    "\n",
    "# some note on interact\n",
    "\n",
    "def f(x):\n",
    "    return x\n",
    "\n",
    "\n",
    "interact(f, x=10);\n",
    "interact(f, x=True);\n",
    "interact(f, x='Hi there!');\n",
    "\n",
    "@interact(x=True, y=1.0)\n",
    "def g(x, y):\n",
    "    return (x, y)\n",
    "\n",
    "\n",
    "def h(p, q):\n",
    "    return (p, q)\n",
    "\n",
    "interact(h, p=5, q=fixed(20));\n",
    "\n",
    "interact(f, x=widgets.IntSlider(min=-10, max=30, step=1, value=10));\n",
    "\n",
    "interact(f, x=(0,8,2));\n",
    "\n",
    "\n",
    "@interact(x=(0.0,20.0,0.5))\n",
    "def h(x=5.5):\n",
    "    return x\n",
    "\n",
    "interact(f, x=['apples','oranges']);\n",
    "interact(f, x=[('one', 10), ('two', 20)]);\n",
    "\n",
    "\n",
    "\n",
    "a = widgets.IntSlider()\n",
    "b = widgets.IntSlider()\n",
    "c = widgets.IntSlider()\n",
    "ui = widgets.HBox([a, b, c])\n",
    "def f(a, b, c):\n",
    "    print((a, b, c))\n",
    "\n",
    "out = widgets.interactive_output(f, {'a': a, 'b': b, 'c': c})\n",
    "\n",
    "display(ui, out)\n",
    "\n",
    "\n",
    "x_widget = FloatSlider(min=0.0, max=10.0, step=0.05)\n",
    "y_widget = FloatSlider(min=0.5, max=10.0, step=0.05, value=5.0)\n",
    "\n",
    "def update_x_range(*args):\n",
    "    x_widget.max = 2.0 * y_widget.value\n",
    "y_widget.observe(update_x_range, 'value')\n",
    "\n",
    "def printer(x, y):\n",
    "    print(x, y)\n",
    "interact(printer,x=x_widget, y=y_widget);\n",
    "\n",
    "def f(m, b):\n",
    "    plt.figure(2)\n",
    "    x = np.linspace(-10, 10, num=1000)\n",
    "    plt.plot(x, m * x + b)\n",
    "    plt.ylim(-5, 5)\n",
    "    plt.show()\n",
    "\n",
    "interactive(f, m=(-2.0, 2.0), b=(-3, 3, 0.5))\n",
    "output = interactive_plot.children[-1]\n",
    "output.layout.height = '350px'\n",
    "interactive_plot\n",
    "\n",
    "\n",
    "def f5(x):\n",
    "    return x\n",
    "\n",
    "\n",
    "\n",
    "widgets.BoundedFloatText(\n",
    "    value=1,\n",
    "    min=0,\n",
    "    max=10.0,\n",
    "    step=0.1,\n",
    "    description='Text:',\n",
    "    disabled=False\n",
    ")"
   ]
  }
 ],
 "metadata": {
  "kernelspec": {
   "display_name": "Python 3",
   "language": "python",
   "name": "python3"
  },
  "language_info": {
   "codemirror_mode": {
    "name": "ipython",
    "version": 3
   },
   "file_extension": ".py",
   "mimetype": "text/x-python",
   "name": "python",
   "nbconvert_exporter": "python",
   "pygments_lexer": "ipython3",
   "version": "3.6.8"
  }
 },
 "nbformat": 4,
 "nbformat_minor": 2
}
