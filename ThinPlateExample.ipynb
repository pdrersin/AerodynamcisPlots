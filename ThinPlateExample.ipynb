{
 "cells": [
  {
   "cell_type": "markdown",
   "metadata": {},
   "source": [
    "<div class=\"alert alert-block alert-success\">\n",
    "<h1>Thin Flate Plate</h1>\n",
    "</div>"
   ]
  },
  {
   "cell_type": "markdown",
   "metadata": {},
   "source": [
    "<p style=\"font-size:17px; color:black; text-align:justify\"></p>\n",
    "\n",
    "<p style=\"font-size:17px; color:black; text-align:justify\"></p> \n",
    "\n",
    "<p style=\"font-size:17px; color:red; text-align:justify\">The plots is interactive.</p> "
   ]
  },
  {
   "cell_type": "code",
   "execution_count": 1,
   "metadata": {},
   "outputs": [
    {
     "data": {
      "application/javascript": [
       "IPython.OutputArea.prototype._should_scroll = function(lines) {\n",
       "    return false;\n",
       "}\n"
      ],
      "text/plain": [
       "<IPython.core.display.Javascript object>"
      ]
     },
     "metadata": {},
     "output_type": "display_data"
    }
   ],
   "source": [
    "%%javascript\n",
    "IPython.OutputArea.prototype._should_scroll = function(lines) {\n",
    "    return false;\n",
    "}"
   ]
  },
  {
   "cell_type": "code",
   "execution_count": 2,
   "metadata": {},
   "outputs": [],
   "source": [
    "# HIDDEN\n",
    "# General Purpose\n",
    "import pandas as pd\n",
    "import numpy as np\n",
    "import matplotlib\n",
    "from matplotlib import pyplot as plt\n",
    "from scipy.integrate import odeint\n",
    "import matplotlib.ticker as ticker\n",
    "from mpl_toolkits.mplot3d import Axes3D\n",
    "from scipy.interpolate import griddata\n",
    "from matplotlib.ticker import LinearLocator, FormatStrFormatter\n",
    "import matplotlib.cm as cm\n",
    "import matplotlib.mlab as mlab\n",
    "import matplotlib.pyplot as plt\n",
    "from sympy import *\n",
    "from IPython.display import display\n",
    "import nbinteract as nbi\n",
    "\n",
    "# Jupyter Specifics\n",
    "from IPython.display import HTML\n",
    "#from ipywidgets.widgets import interact, IntSlider, FloatSlider, Layout\n",
    "\n",
    "import ipywidgets as widgets\n",
    "from ipywidgets import interact, interactive, fixed, interact_manual, IntSlider, FloatSlider, Layout\n",
    "\n",
    "\n",
    "%matplotlib inline\n",
    "matplotlib.rcParams['xtick.direction'] = 'out'\n",
    "matplotlib.rcParams['ytick.direction'] = 'out'\n",
    "\n",
    "style = {'description_width': '150px'}\n",
    "slider_layout = Layout(width='90%')"
   ]
  },
  {
   "cell_type": "code",
   "execution_count": 3,
   "metadata": {},
   "outputs": [],
   "source": [
    "# HIDDEN\n",
    "\n",
    "alphaDefault = 12\n",
    "cnDefault = 1.2\n",
    "caDefault = 0.03\n",
    "\n",
    "style = {'description_width': 'initial'}\n",
    "sliderLayout = Layout(width='80%')\n",
    "boxLayout = Layout(width='70%')\n",
    "c = 1  # chord length\n",
    "\n",
    "\n",
    "\n",
    "x = Symbol('x')\n",
    "integrtionRange = (x, 0, c)\n",
    "\n",
    "class Givens(object):\n",
    "    lowerPressure = '2*10**4*(x-1)**2 + 1.73*10**5'   # lower level pressure\n",
    "    upperPressure = '4*10**4*(x-1)**2 + 5.4*10**4'  # upper level pressure\n",
    "    lowerShear = '731*x**(-0.2)' # lower level shear stress\n",
    "    upperShear = '288*x**(-0.2)' # upper level shear stress\n",
    "    \n",
    "    # Normal force\n",
    "    @staticmethod\n",
    "    def N():\n",
    "        return float(integrate(Givens.lowerPressure + \"-(\" + Givens.upperPressure + \")\", integrtionRange))\n",
    "\n",
    "\n",
    "    # Axial force\n",
    "    @staticmethod\n",
    "    def A():\n",
    "        return float(integrate(Givens.lowerShear + \"+(\" + Givens.upperShear + \")\", integrtionRange))\n",
    "\n",
    "\n",
    "    # Lift\n",
    "    @staticmethod\n",
    "    def L(a):\n",
    "        a = a * np.pi / 180  # convert angle to degrees\n",
    "        Ap = Givens.A()\n",
    "        Np = Givens.N()\n",
    "        return float(Np*np.cos(a) - Ap*np.sin(a))\n",
    "\n",
    "\n",
    "    # Lift coefficient\n",
    "    @staticmethod\n",
    "    def Cl(a, ca,cn):\n",
    "        a = a * np.pi / 180  # convert angle to degree\n",
    "        return float(cn*np.cos(a) - ca*np.sin(a))\n",
    "\n",
    "\n",
    "    # Drag\n",
    "    @staticmethod\n",
    "    def D(a):\n",
    "        a = a * np.pi / 180  # convert angle to degrees\n",
    "        Ap = Givens.A()\n",
    "        Np = Givens.N()\n",
    "        return float(Ap*np.cos(a) + Np*np.sin(a))\n",
    "\n",
    "    # drag coefficient\n",
    "    @staticmethod\n",
    "    def Cd(a, ca, cn):\n",
    "        a = a * np.pi / 180  # convert angle to degrees\n",
    "        return float(ca*np.cos(a) + cn*np.sin(a))\n",
    "\n",
    "\n",
    "    # Moment at the leading edge\n",
    "    @staticmethod\n",
    "    def Mle():\n",
    "        return float(integrate(\"(\" + Givens.upperPressure + \"-(\" + Givens.lowerPressure + \"))*x\", integrtionRange))\n",
    "\n",
    "\n",
    "    # Moment at the quarter chord\n",
    "    @staticmethod\n",
    "    def Mc4(a):\n",
    "        a = a * np.pi / 180  # convert angle to degrees\n",
    "        return float(Givens.Mle() + Givens.L(a)*(c/4))\n",
    "\n",
    "\n",
    "    # Locaion of center of pressure\n",
    "    @staticmethod\n",
    "    def Xcp(a):\n",
    "        a = a * np.pi / 180  # convert angle to degrees\n",
    "        return float(-Givens.Mle()/Givens.N())\n",
    "\n",
    "\n",
    "pl_widget = widgets.Text(\n",
    "    value=Givens.lowerPressure,\n",
    "    placeholder='Enter an expression',\n",
    "    description=r'$p_l$',\n",
    "    disabled=False\n",
    ")\n",
    "\n",
    "pu_widget = widgets.Text(\n",
    "    value=Givens.upperPressure,\n",
    "    placeholder='Enter an expression',\n",
    "    description=r'$p_u$',\n",
    "    disabled=False\n",
    ")\n",
    "\n",
    "tl_widget = widgets.Text(\n",
    "    value=Givens.lowerShear,\n",
    "    placeholder='Enter an expression',\n",
    "    description=r'$\\tau_l$',\n",
    "    disabled=False\n",
    ")\n",
    "\n",
    "tu_widget = widgets.Text(\n",
    "    value=Givens.lowerShear,\n",
    "    placeholder='Enter an expression',\n",
    "    continuous_update=False,\n",
    "    description=r'$\\tau_u$',\n",
    "    disabled=False\n",
    ")\n",
    "\n",
    "\n",
    "def update_pl(*args):\n",
    "    pl_widget.value = pl_widget.value\n",
    "    Givens.lowerPressure = pl_widget.value \n",
    "pl_widget.observe(update_pl, 'value')\n",
    "\n",
    "\n",
    "def update_pu(*args):\n",
    "    pu_widget.value = pu_widget.value\n",
    "    Givens.upperPressure = pu_widget.value   \n",
    "pu_widget.observe(update_pu, 'value')\n",
    "\n",
    "\n",
    "def update_tl(*args):\n",
    "    tl_widget.value = tl_widget.value\n",
    "    Givens.lowerShear = tl_widget.value    \n",
    "tl_widget.observe(update_tl, 'value')\n",
    "\n",
    "\n",
    "def update_tu(*args):\n",
    "    tu_widget.value = tu_widget.value\n",
    "    Givens.upperShear = tu_widget.value\n",
    "tu_widget.observe(update_tu, 'value')\n",
    "\n",
    "\n",
    "\n",
    "\n",
    "# Angle of attack widget settings\n",
    "alpha_widget = widgets.FloatSlider(\n",
    "    value=alphaDefault,\n",
    "    min=0,\n",
    "    max=15.0,\n",
    "    step=0.5,\n",
    "    description=r'Angle of Attack, $\\alpha$, (unit: $^{\\circ}$):',\n",
    "    disabled=False,\n",
    "    continuous_update=False,\n",
    "    orientation='horizontal',\n",
    "    readout=True,\n",
    "    readout_format='.1f',\n",
    "    layout=sliderLayout,\n",
    "    style=style\n",
    ")\n",
    "\n",
    "\n",
    "\n",
    "\n",
    "\n",
    "# Normal Force widget settings\n",
    "NormalForce = widgets.FloatText(\n",
    "    value=Givens.N(),\n",
    "    description=r\"Normal Force per unit span, $N'$, (unit: $N$):\",\n",
    "    disabled=False,\n",
    "    continuous_update=False,\n",
    "    orientation='horizontal',\n",
    "    readout=True,\n",
    "    readout_format='.1f',\n",
    "    layout=boxLayout,\n",
    "    style=style\n",
    ")\n",
    "def update_normal(*args):\n",
    "    NormalForce.value = Givens.N()\n",
    "alpha_widget.observe(update_normal, 'value')\n",
    "\n",
    "\n",
    "\n",
    "# Axial Force widget settings\n",
    "AxialForce = widgets.FloatText(\n",
    "    value=Givens.A(),\n",
    "    description=r\"Axial Force per unit span, $A'$, (unit: $N$):\",\n",
    "    disabled=False,\n",
    "    continuous_update=False,\n",
    "    orientation='horizontal',\n",
    "    readout=True,\n",
    "    readout_format='.1f',\n",
    "    layout=boxLayout,\n",
    "    style=style\n",
    ")\n",
    "def update_axial(*args):\n",
    "    AxialForce.value = Givens.A()\n",
    "alpha_widget.observe(update_axial, 'value')\n",
    "\n",
    "\n",
    "\n",
    "\n",
    "# Lift widget settings\n",
    "Lift = widgets.FloatText(\n",
    "    value=Givens.L(alphaDefault),\n",
    "    description=r\"Lift per unit span, $L'$, (unit: $N$):\",\n",
    "    disabled=False,\n",
    "    continuous_update=False,\n",
    "    orientation='horizontal',\n",
    "    readout=True,\n",
    "    readout_format='.1f',\n",
    "    layout=boxLayout,\n",
    "    style=style\n",
    ")\n",
    "def update_lift(*args):\n",
    "    Lift.value = Givens.L(alpha_widget.value)\n",
    "alpha_widget.observe(update_lift, 'value')\n",
    "\n",
    "\n",
    "\n",
    "\n",
    "# Drag widget settings\n",
    "Drag = widgets.FloatText(\n",
    "    value=Givens.D(alphaDefault),\n",
    "    description=r\"Drag per unit span, $D'$, (unit: $N$):\",\n",
    "    disabled=False,\n",
    "    continuous_update=False,\n",
    "    orientation='horizontal',\n",
    "    readout=True,\n",
    "    readout_format='.1f',\n",
    "    layout=boxLayout,\n",
    "    style=style\n",
    ")\n",
    "def update_drag(*args):\n",
    "    Drag.value = Givens.D(alpha_widget.value)\n",
    "alpha_widget.observe(update_drag, 'value')\n",
    "\n",
    "\n",
    "\n",
    "\n",
    "\n",
    "# Moment at the leading edge widget settings\n",
    "MomLE = widgets.FloatText(\n",
    "    value=Givens.Mle(),\n",
    "    description=r\"Moment at the Leading Edge per unit span, $M_{LE}'$, (unit: $N\\cdot m$):\",\n",
    "    disabled=False,\n",
    "    continuous_update=False,\n",
    "    orientation='horizontal',\n",
    "    readout=True,\n",
    "    readout_format='.1f',\n",
    "    layout=boxLayout,\n",
    "    style=style\n",
    ")\n",
    "def update_mle(*args):\n",
    "    MomLE.value = Givens.Mle()\n",
    "alpha_widget.observe(update_mle, 'value')\n",
    "\n",
    "\n",
    "\n",
    "\n",
    "# Moment at the Quarter Chord widget settings\n",
    "MomC4 = widgets.FloatText(\n",
    "    value=Givens.Mc4(alphaDefault),\n",
    "    description=r\"Moment at the Quarter Chord per unit span, $M_{c/4}'$, (unit: $N\\cdot m$):\",\n",
    "    disabled=False,\n",
    "    continuous_update=False,\n",
    "    orientation='horizontal',\n",
    "    readout=True,\n",
    "    readout_format='.1f',\n",
    "    layout=boxLayout,\n",
    "    style=style\n",
    ")\n",
    "def update_mc4(*args):\n",
    "    MomC4.value = Givens.Mc4(alpha_widget.value)\n",
    "alpha_widget.observe(update_mc4, 'value')\n",
    "\n",
    "\n",
    "\n",
    "\n",
    "# Location of Center of Pressure widget settings\n",
    "LocCoP = widgets.FloatText(\n",
    "    value=Givens.Xcp(alphaDefault),\n",
    "    description=r\"Center of Pressure Location (unit: $m$):\",\n",
    "    disabled=False,\n",
    "    continuous_update=False,\n",
    "    orientation='horizontal',\n",
    "    readout=True,\n",
    "    readout_format='.1f',\n",
    "    layout=boxLayout,\n",
    "    style=style\n",
    ")\n",
    "def update_xcop(*args):\n",
    "    LocCoP.value = Givens.Xcp(alpha_widget.value)\n",
    "alpha_widget.observe(update_xcop, 'value')"
   ]
  },
  {
   "cell_type": "code",
   "execution_count": 4,
   "metadata": {
    "scrolled": true
   },
   "outputs": [
    {
     "data": {
      "application/vnd.jupyter.widget-view+json": {
       "model_id": "9f5aa5d2a0dc4c908a34a21c5d6dac59",
       "version_major": 2,
       "version_minor": 0
      },
      "text/plain": [
       "Text(value='2*10**4*(x-1)**2 + 1.73*10**5', description='$p_l$', placeholder='Enter an expression')"
      ]
     },
     "metadata": {},
     "output_type": "display_data"
    },
    {
     "data": {
      "application/vnd.jupyter.widget-view+json": {
       "model_id": "87cc5e8d2a504f728039951275e06531",
       "version_major": 2,
       "version_minor": 0
      },
      "text/plain": [
       "Text(value='4*10**4*(x-1)**2 + 5.4*10**4', description='$p_u$', placeholder='Enter an expression')"
      ]
     },
     "metadata": {},
     "output_type": "display_data"
    },
    {
     "data": {
      "application/vnd.jupyter.widget-view+json": {
       "model_id": "f019ea9d2790406189e2c7058cca1e20",
       "version_major": 2,
       "version_minor": 0
      },
      "text/plain": [
       "Text(value='731*x**(-0.2)', description='$\\\\tau_l$', placeholder='Enter an expression')"
      ]
     },
     "metadata": {},
     "output_type": "display_data"
    },
    {
     "data": {
      "application/vnd.jupyter.widget-view+json": {
       "model_id": "1665c9548c584a65abd138d7f3f9cbc2",
       "version_major": 2,
       "version_minor": 0
      },
      "text/plain": [
       "Text(value='731*x**(-0.2)', continuous_update=False, description='$\\\\tau_u$', placeholder='Enter an expression…"
      ]
     },
     "metadata": {},
     "output_type": "display_data"
    },
    {
     "data": {
      "application/vnd.jupyter.widget-view+json": {
       "model_id": "241b1bcf798649e8b5ce6e083cc04342",
       "version_major": 2,
       "version_minor": 0
      },
      "text/plain": [
       "FloatSlider(value=12.0, continuous_update=False, description='Angle of Attack, $\\\\alpha$, (unit: $^{\\\\circ}$):…"
      ]
     },
     "metadata": {},
     "output_type": "display_data"
    },
    {
     "data": {
      "application/vnd.jupyter.widget-view+json": {
       "model_id": "fed9ff433e254e7c8b00bb10fe5f129d",
       "version_major": 2,
       "version_minor": 0
      },
      "text/plain": [
       "FloatText(value=112333.33333333333, description=\"Normal Force per unit span, $N'$, (unit: $N$):\", layout=Layou…"
      ]
     },
     "metadata": {},
     "output_type": "display_data"
    },
    {
     "data": {
      "application/vnd.jupyter.widget-view+json": {
       "model_id": "06a975e166d04720b7461cec945c1406",
       "version_major": 2,
       "version_minor": 0
      },
      "text/plain": [
       "FloatText(value=1273.75, description=\"Axial Force per unit span, $A'$, (unit: $N$):\", layout=Layout(width='70%…"
      ]
     },
     "metadata": {},
     "output_type": "display_data"
    },
    {
     "data": {
      "application/vnd.jupyter.widget-view+json": {
       "model_id": "ad205356c18c475b9e8f7284350901b9",
       "version_major": 2,
       "version_minor": 0
      },
      "text/plain": [
       "FloatText(value=109613.7529662517, description=\"Lift per unit span, $L'$, (unit: $N$):\", layout=Layout(width='…"
      ]
     },
     "metadata": {},
     "output_type": "display_data"
    },
    {
     "data": {
      "application/vnd.jupyter.widget-view+json": {
       "model_id": "645a406ba46b46079470f05e4a750a34",
       "version_major": 2,
       "version_minor": 0
      },
      "text/plain": [
       "FloatText(value=24601.32877496298, description=\"Drag per unit span, $D'$, (unit: $N$):\", layout=Layout(width='…"
      ]
     },
     "metadata": {},
     "output_type": "display_data"
    },
    {
     "data": {
      "application/vnd.jupyter.widget-view+json": {
       "model_id": "5e11bb0fd846433c9cc6347ede0e6eea",
       "version_major": 2,
       "version_minor": 0
      },
      "text/plain": [
       "FloatText(value=-57833.333333333336, description=\"Moment at the Leading Edge per unit span, $M_{LE}'$, (unit: …"
      ]
     },
     "metadata": {},
     "output_type": "display_data"
    },
    {
     "data": {
      "application/vnd.jupyter.widget-view+json": {
       "model_id": "7a33c96ddf9f4645abc450d13b5e368d",
       "version_major": 2,
       "version_minor": 0
      },
      "text/plain": [
       "FloatText(value=-29751.35164147804, description=\"Moment at the Quarter Chord per unit span, $M_{c/4}'$, (unit:…"
      ]
     },
     "metadata": {},
     "output_type": "display_data"
    },
    {
     "data": {
      "application/vnd.jupyter.widget-view+json": {
       "model_id": "645860cac55740748491f1b51d8dfe43",
       "version_major": 2,
       "version_minor": 0
      },
      "text/plain": [
       "FloatText(value=0.5148367952522256, description='Center of Pressure Location (unit: $m$):', layout=Layout(widt…"
      ]
     },
     "metadata": {},
     "output_type": "display_data"
    }
   ],
   "source": [
    "# HIDDEN\n",
    "display(pl_widget)\n",
    "display(pu_widget)\n",
    "display(tl_widget)\n",
    "display(tu_widget)\n",
    "\n",
    "display(alpha_widget)\n",
    "display(NormalForce)\n",
    "display(AxialForce)\n",
    "display(Lift)\n",
    "display(Drag)\n",
    "display(MomLE)\n",
    "display(MomC4)\n",
    "display(LocCoP)"
   ]
  },
  {
   "cell_type": "code",
   "execution_count": 5,
   "metadata": {},
   "outputs": [],
   "source": [
    "# HIDDEN\n",
    "alphaDefault = 12\n",
    "cnDefault = 1.2\n",
    "caDefault = 0.03\n",
    "\n",
    "\n",
    "# Angle of attack widget settings\n",
    "alpha_widget2 = widgets.FloatSlider(\n",
    "    value=alphaDefault,\n",
    "    min=0,\n",
    "    max=15.0,\n",
    "    step=0.5,\n",
    "    description=r'Angle of Attack, $\\alpha$, (unit: $^{\\circ}$):',\n",
    "    disabled=False,\n",
    "    continuous_update=False,\n",
    "    orientation='horizontal',\n",
    "    readout=True,\n",
    "    readout_format='.1f',\n",
    "    layout=sliderLayout,\n",
    "    style=style\n",
    ")\n",
    "\n",
    "\n",
    "\n",
    "# Axial force coeefficient widget settings\n",
    "ca_widget = widgets.FloatSlider(\n",
    "    value=caDefault,\n",
    "    min=-1,\n",
    "    max=1,\n",
    "    step=0.01,\n",
    "    description=r'Axial Force Coefficient, ($c_a$):',\n",
    "    disabled=False,\n",
    "    continuous_update=False,\n",
    "    orientation='horizontal',\n",
    "    readout=True,\n",
    "    readout_format='.2f',\n",
    "    layout=sliderLayout,\n",
    "    style=style\n",
    ")\n",
    "\n",
    "\n",
    "# Normal force coeefficient widget settings\n",
    "cn_widget = widgets.FloatSlider(\n",
    "    value=cnDefault,\n",
    "    min=-3,\n",
    "    max=3,\n",
    "    step=0.1,\n",
    "    description=r'Norma Force Coefficient ($c_n$):',\n",
    "    disabled=False,\n",
    "    continuous_update=False,\n",
    "    orientation='horizontal',\n",
    "    readout=True,\n",
    "    readout_format='.2f',\n",
    "    layout=sliderLayout,\n",
    "    style=style\n",
    ")\n",
    "\n",
    "\n",
    "\n",
    "\n",
    "\n",
    "\n",
    "# Lift coeficient widget settings\n",
    "LiftCE = widgets.FloatText(\n",
    "    value=Givens.Cl(alphaDefault, caDefault, cnDefault),\n",
    "    description=r\"Lift Coefficient ($c_l$):\",\n",
    "    disabled=False,\n",
    "    continuous_update=False,\n",
    "    orientation='horizontal',\n",
    "    readout=True,\n",
    "    readout_format='.5f',\n",
    "    layout=boxLayout,\n",
    "    style=style\n",
    ")\n",
    "\n",
    "def update_liftce(*args):\n",
    "    LiftCE.value = Givens.Cl(alpha_widget2.value, ca_widget.value, cn_widget.value)\n",
    "    \n",
    "ca_widget.observe(update_liftce, 'value')\n",
    "alpha_widget2.observe(update_liftce, 'value')\n",
    "cn_widget.observe(update_liftce, 'value')\n",
    "\n",
    "\n",
    "# Lift coeficient widget settings\n",
    "DragCE = widgets.FloatText(\n",
    "    value=Givens.Cd(alphaDefault, caDefault, cnDefault),\n",
    "    description=r\"Drag Coefficient ($c_d$):\",\n",
    "    disabled=False,\n",
    "    continuous_update=False,\n",
    "    orientation='horizontal',\n",
    "    readout=True,\n",
    "    readout_format='.5f',\n",
    "    layout=boxLayout,\n",
    "    style=style\n",
    ")\n",
    "\n",
    "def update_dragce(*args):\n",
    "    DragCE.value = Givens.Cd(alpha_widget2.value, ca_widget.value, cn_widget.value)\n",
    "    \n",
    "ca_widget.observe(update_dragce, 'value')\n",
    "alpha_widget2.observe(update_dragce, 'value')\n",
    "cn_widget.observe(update_dragce, 'value')\n",
    "\n"
   ]
  },
  {
   "cell_type": "code",
   "execution_count": 6,
   "metadata": {},
   "outputs": [
    {
     "data": {
      "application/vnd.jupyter.widget-view+json": {
       "model_id": "e41f001fe3ec4bfda502df5467dd1854",
       "version_major": 2,
       "version_minor": 0
      },
      "text/plain": [
       "FloatSlider(value=12.0, continuous_update=False, description='Angle of Attack, $\\\\alpha$, (unit: $^{\\\\circ}$):…"
      ]
     },
     "metadata": {},
     "output_type": "display_data"
    },
    {
     "data": {
      "application/vnd.jupyter.widget-view+json": {
       "model_id": "2dba4a9663d14262902480d1d55c2503",
       "version_major": 2,
       "version_minor": 0
      },
      "text/plain": [
       "FloatSlider(value=0.03, continuous_update=False, description='Axial Force Coefficient, ($c_a$):', layout=Layou…"
      ]
     },
     "metadata": {},
     "output_type": "display_data"
    },
    {
     "data": {
      "application/vnd.jupyter.widget-view+json": {
       "model_id": "8980a120f2ad439f8aa551b1a3f69683",
       "version_major": 2,
       "version_minor": 0
      },
      "text/plain": [
       "FloatSlider(value=1.2, continuous_update=False, description='Norma Force Coefficient ($c_n$):', layout=Layout(…"
      ]
     },
     "metadata": {},
     "output_type": "display_data"
    },
    {
     "data": {
      "application/vnd.jupyter.widget-view+json": {
       "model_id": "d8c9a119349140e6bf3b99a21b893b4c",
       "version_major": 2,
       "version_minor": 0
      },
      "text/plain": [
       "FloatText(value=1.167539770156034, description='Lift Coefficient ($c_l$):', layout=Layout(width='70%'), style=…"
      ]
     },
     "metadata": {},
     "output_type": "display_data"
    },
    {
     "data": {
      "application/vnd.jupyter.widget-view+json": {
       "model_id": "74a34d4ad255459e943c98f0c8188e89",
       "version_major": 2,
       "version_minor": 0
      },
      "text/plain": [
       "FloatText(value=0.2788384570033253, description='Drag Coefficient ($c_d$):', layout=Layout(width='70%'), style…"
      ]
     },
     "metadata": {},
     "output_type": "display_data"
    }
   ],
   "source": [
    "# HIDDEN\n",
    "display(alpha_widget2)\n",
    "display(ca_widget)\n",
    "display(cn_widget)\n",
    "display(LiftCE)\n",
    "display(DragCE)\n"
   ]
  }
 ],
 "metadata": {
  "kernelspec": {
   "display_name": "Python 3",
   "language": "python",
   "name": "python3"
  },
  "language_info": {
   "codemirror_mode": {
    "name": "ipython",
    "version": 3
   },
   "file_extension": ".py",
   "mimetype": "text/x-python",
   "name": "python",
   "nbconvert_exporter": "python",
   "pygments_lexer": "ipython3",
   "version": "3.6.8"
  }
 },
 "nbformat": 4,
 "nbformat_minor": 2
}
