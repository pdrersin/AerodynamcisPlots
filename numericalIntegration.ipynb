{
 "cells": [
  {
   "cell_type": "markdown",
   "metadata": {},
   "source": [
    "<div class=\"alert alert-block alert-success\">\n",
    "<h1>Numerical Integration</h1>\n",
    "</div>"
   ]
  },
  {
   "cell_type": "markdown",
   "metadata": {},
   "source": [
    "<p style=\"font-size:17px; color:black; text-align:justify\">The basic problem in numerical integration is to compute an approximate solution to a definite integral to a given degree of accuracy. The simplest method of integration is to let the interpolating function be a constant function (a polynomial of degree zero) that passes through a point. This is called the midpoint rule or rectangle rule.</p>\n",
    "\n",
    "<p style=\"font-size:17px; color:black; text-align:justify\">Below is an example of the rectangle rule, implemented on function: $f(x)=\\frac{1}{x} \\sin (x) + 0.5$</p> \n",
    "\n",
    "<p style=\"font-size:17px; color:red; text-align:justify\">The plot is interactive, change the step size to see its effect on the accuracy.</p> "
   ]
  },
  {
   "cell_type": "code",
   "execution_count": 1,
   "metadata": {},
   "outputs": [],
   "source": [
    "# HIDDEN\n",
    "# General Purpose\n",
    "import pandas as pd\n",
    "import numpy as np\n",
    "import matplotlib\n",
    "from matplotlib import pyplot as plt\n",
    "from scipy.integrate import odeint\n",
    "import matplotlib.ticker as ticker\n",
    "from mpl_toolkits.mplot3d import Axes3D\n",
    "from scipy.interpolate import griddata\n",
    "from matplotlib.ticker import LinearLocator, FormatStrFormatter\n",
    "import matplotlib.cm as cm\n",
    "import matplotlib.mlab as mlab\n",
    "import matplotlib.pyplot as plt\n",
    "\n",
    "\n",
    "# Jupyter Specifics\n",
    "from IPython.display import HTML\n",
    "#from ipywidgets.widgets import interact, IntSlider, FloatSlider, Layout\n",
    "\n",
    "import ipywidgets as widgets\n",
    "from ipywidgets import interact, interactive, fixed, interact_manual, IntSlider, FloatSlider, Layout\n",
    "\n",
    "\n",
    "%matplotlib inline\n",
    "matplotlib.rcParams['xtick.direction'] = 'out'\n",
    "matplotlib.rcParams['ytick.direction'] = 'out'\n",
    "\n",
    "style = {'description_width': '150px'}\n",
    "slider_layout = Layout(width='90%')"
   ]
  },
  {
   "cell_type": "code",
   "execution_count": 2,
   "metadata": {},
   "outputs": [],
   "source": [
    "# HIDDEN\n",
    "# Set range\n",
    "xr = 10\n",
    "xl = -xr\n",
    "yu = 10\n",
    "yl = -yu\n",
    "\n",
    "# Set x, y  points\n",
    "npoints = 100\n",
    "x = np.linspace(xl, xr, npoints)\n",
    "y = np.linspace(yl, yu, npoints)\n",
    "X, Y = np.meshgrid(x, y)"
   ]
  },
  {
   "cell_type": "code",
   "execution_count": 3,
   "metadata": {},
   "outputs": [],
   "source": [
    "# HIDDEN\n",
    "import numpy as np\n",
    "import matplotlib.pyplot as plt\n",
    "from matplotlib.patches import Polygon, Rectangle\n",
    "\n",
    "\n",
    "def func2(x):\n",
    "    return (x - 3) * (x - 5) * (x - 7) + 300\n",
    "\n",
    "def func(x):\n",
    "    return np.sin(x)/x + 0.5# y = sin(x)/x\n",
    "\n",
    "\n",
    "x = np.linspace(-20,20,500)\n",
    "min_x = min(x)\n",
    "max_x = max(x)\n",
    "\n",
    "def areaUnderCurve(a, dx):\n",
    "    \n",
    "    b = a + dx\n",
    "    y = func(x)\n",
    "    \n",
    "\n",
    "    fig, ax = fig, ax = plt.subplots(figsize=(15, 8))\n",
    "    ax.plot(x, y, 'r', linewidth=2, label='(x-3)(x-5)(x-9)+85')\n",
    "    ax.set_ylim(bottom=0)\n",
    "\n",
    "    # Make the shaded region\n",
    "    ix = np.linspace(a, b)\n",
    "    iy = func(0.5*(a+b))\n",
    "    verts = [(a, 0), (a,iy), (b,iy), (b, 0)]\n",
    "#     verts = [*zip(ix, iy)]\n",
    "    poly = Polygon(verts, facecolor='0.75', edgecolor='0.1')\n",
    "#     poly = Rectangle((ix, iy), dx,1,facecolor='0.75', edgecolor='0.1')\n",
    "    ax.add_patch(poly)\n",
    "\n",
    "    # ax.text(0.5 * (a + b), 30, r\"$\\int_a^b f(x)\\mathrm{d}x$\",\n",
    "    #         horizontalalignment='center', fontsize=20)\n",
    "\n",
    "    fig.text(0.9, 0.05, '$X$')\n",
    "    fig.text(0.1, 0.9, '$Y$')\n",
    "\n",
    "#     ax.spines['right'].set_visible(False)\n",
    "#     ax.spines['top'].set_visible(False)\n",
    "    ax.xaxis.set_ticks_position('bottom')\n",
    "\n",
    "    ax.set_xticks((a, b))\n",
    "    ax.set_xticklabels((r'a'))\n",
    "    ax.set_yticks([])\n",
    "    plt.show()"
   ]
  },
  {
   "cell_type": "code",
   "execution_count": 4,
   "metadata": {},
   "outputs": [],
   "source": [
    "# HIDDEN\n",
    "interactive_plot = interactive(areaUnderCurve, \n",
    "                               a=widgets.FloatSlider(value=4,min=min_x,max=max_x,step=0.25,description=r'$a$', style=style, layout=slider_layout), \n",
    "                               dx=widgets.FloatSlider(value=1.0,min=0.1,max=max_x,step=0.1,description=r'$dx$', style=style, layout=slider_layout));\n",
    "   \n",
    "#interactive_plot"
   ]
  },
  {
   "cell_type": "code",
   "execution_count": 5,
   "metadata": {},
   "outputs": [],
   "source": [
    "# HIDDEN\n",
    "def findArea(dx):\n",
    "    a = min_x\n",
    "    b = a + dx\n",
    "    y = func(x)\n",
    "    Area = 0\n",
    "\n",
    "    fig, ax = fig, ax = plt.subplots(figsize=(15, 8))\n",
    "    ax.plot(x, y, 'r', linewidth=2, label='(x-3)(x-5)(x-9)+85')\n",
    "    ax.set_ylim(bottom=0)\n",
    "\n",
    "    # Make the shaded region\n",
    "    ix = np.linspace(a, b)\n",
    "    \n",
    "    \n",
    "    range = max_x - min_x\n",
    "    \n",
    "    numOfPoly = range / dx\n",
    "    \n",
    "    \n",
    "    for i in np.arange(0,numOfPoly):\n",
    "        \n",
    "        if (a+dx>max_x):\n",
    "            dx = max_x - a\n",
    "        iy = func(0.5*(a+b))\n",
    "        verts = [(a, 0), (a,iy), (b,iy), (b, 0)]\n",
    "#     verts = [*zip(ix, iy)]\n",
    "        poly = Polygon(verts, facecolor='0.75', edgecolor='0.1')\n",
    "#     poly = Rectangle((ix, iy), dx,1,facecolor='0.75', edgecolor='0.1')\n",
    "        ax.add_patch(poly)\n",
    "        a += dx\n",
    "        b = a + dx\n",
    "        Area += dx*iy\n",
    "\n",
    "    # ax.text(0.5 * (a + b), 30, r\"$\\int_a^b f(x)\\mathrm{d}x$\",\n",
    "    #         horizontalalignment='center', fontsize=20)\n",
    "\n",
    "    fig.text(0.9, 0.05, '$X$')\n",
    "    fig.text(0.1, 0.9, '$Y$')\n",
    "    \n",
    "    print(\"Predicted Area: \", Area, \"  True Area: \", 23.096522312, \"  Error: \", 100*abs(23.096522312-Area)/23.096522312, \"%\")\n",
    "\n",
    "    ax.spines['right'].set_visible(False)\n",
    "    ax.spines['top'].set_visible(False)\n",
    "    ax.xaxis.set_ticks_position('bottom')\n",
    "\n",
    "    ax.set_xticks((a, b))\n",
    "    ax.set_xticklabels((r'a'))\n",
    "    ax.set_yticks([])\n",
    "    plt.show()"
   ]
  },
  {
   "cell_type": "code",
   "execution_count": 6,
   "metadata": {},
   "outputs": [
    {
     "data": {
      "application/vnd.jupyter.widget-view+json": {
       "model_id": "068db57466a546e985df6d45c8cee84a",
       "version_major": 2,
       "version_minor": 0
      },
      "text/plain": [
       "interactive(children=(FloatSlider(value=1.0, description='$dx$', layout=Layout(width='90%'), max=8.0, min=0.1,…"
      ]
     },
     "metadata": {},
     "output_type": "display_data"
    }
   ],
   "source": [
    "# HIDDEN\n",
    "interactive_plot = interactive(findArea, \n",
    "                               dx=widgets.FloatSlider(value=1.0,min=0.1,max=8,step=0.1,description=r'$dx$', style=style, layout=slider_layout))\n",
    "   \n",
    "# areaUnderCurve(1,0.5)\n",
    "interactive_plot"
   ]
  }
 ],
 "metadata": {
  "kernelspec": {
   "display_name": "Python 3",
   "language": "python",
   "name": "python3"
  },
  "language_info": {
   "codemirror_mode": {
    "name": "ipython",
    "version": 3
   },
   "file_extension": ".py",
   "mimetype": "text/x-python",
   "name": "python",
   "nbconvert_exporter": "python",
   "pygments_lexer": "ipython3",
   "version": "3.6.8"
  }
 },
 "nbformat": 4,
 "nbformat_minor": 2
}
